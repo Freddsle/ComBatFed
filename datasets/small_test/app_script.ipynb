{
 "cells": [
  {
   "cell_type": "code",
   "execution_count": 29,
   "metadata": {},
   "outputs": [],
   "source": [
    "import logging\n",
    "import sys\n",
    "# for json files\n",
    "import json\n",
    "\n",
    "import pandas as pd\n",
    "import numpy as np\n",
    "import yaml\n",
    "\n",
    "# CHANGE THIS TO THE DIRECTORY WHERE YOU HAVE THE REPO CLONED\n",
    "sys.path.append('/home/yuliya/repos/cosybio/FedComBat/fedcombat')\n"
   ]
  },
  {
   "cell_type": "code",
   "execution_count": 30,
   "metadata": {},
   "outputs": [],
   "source": [
    "from classes.client import Client\n",
    "import classes.coordinator_utils as c_utils\n",
    "\n",
    "logging.basicConfig(\n",
    "    level=logging.DEBUG, format=\"%(asctime)s - %(name)s - %(levelname)s - %(message)s\", datefmt=\"%d-%b-%y %H:%M:%S\"\n",
    ")"
   ]
  },
  {
   "cell_type": "markdown",
   "metadata": {},
   "source": [
    "# set params"
   ]
  },
  {
   "cell_type": "code",
   "execution_count": 31,
   "metadata": {},
   "outputs": [],
   "source": [
    "data_dir = \"before\"\n",
    "output_path = \"after\"\n",
    "\n",
    "cohorts = [\"GSE129508\", \"GSE58135\", \"GSE149276\"]\n",
    "\n",
    "data_dir = f\"{data_dir}\"  # path to data folder\n",
    "output_path = f\"{output_path}/\"  # path to output folder"
   ]
  },
  {
   "cell_type": "code",
   "execution_count": 32,
   "metadata": {},
   "outputs": [
    {
     "name": "stderr",
     "output_type": "stream",
     "text": [
      "INFO:root:Processing cohort GSE129508\n",
      "INFO:classes.client:Got the following config:\n",
      "{'FedComBat': {'data_filename': 'expr_for_correction.tsv', 'data_separator': '\\t', 'min_samples': 5, 'covariates': ['lum'], 'smpc': True, 'design_filename': 'design.tsv', 'design_separator': '\\t', 'rows_as_features': True, 'index_col': 0, 'position': 0, 'batch_col_name': 'batch'}}\n",
      "INFO:classes.client:min_samples set to 5\n",
      "INFO:classes.client:Opening dataset before/GSE129508/expr_for_correction.tsv\n",
      "INFO:classes.client:Shape of rawdata: (5, 6)\n",
      "INFO:classes.client:Cleaning up data, removing all-NaN rows and columns, removing all-zero rows\n",
      "INFO:classes.client:Shape of data before cleanup: (5, 6)\n",
      "INFO:classes.client:Shape of data after cleanup: (5, 6)\n",
      "INFO:classes.client:Finished loading data, shape: (5, 6), num_features: 5, num_samples: 6\n",
      "INFO:root:Processing cohort GSE58135\n",
      "INFO:classes.client:Got the following config:\n",
      "{'FedComBat': {'data_filename': 'expr_for_correction.tsv', 'data_separator': '\\t', 'min_samples': 5, 'covariates': ['lum'], 'smpc': True, 'design_filename': 'design.tsv', 'design_separator': '\\t', 'rows_as_features': True, 'index_col': 0, 'position': 2, 'batch_col_name': 'batch'}}\n",
      "INFO:classes.client:min_samples set to 5\n",
      "INFO:classes.client:Opening dataset before/GSE58135/expr_for_correction.tsv\n",
      "INFO:classes.client:Shape of rawdata: (5, 6)\n",
      "INFO:classes.client:Cleaning up data, removing all-NaN rows and columns, removing all-zero rows\n",
      "INFO:classes.client:Shape of data before cleanup: (5, 6)\n",
      "INFO:classes.client:Shape of data after cleanup: (5, 6)\n",
      "INFO:classes.client:Finished loading data, shape: (5, 6), num_features: 5, num_samples: 6\n",
      "INFO:root:Processing cohort GSE149276\n",
      "INFO:classes.client:Got the following config:\n",
      "{'FedComBat': {'data_filename': 'expr_for_correction.tsv', 'data_separator': '\\t', 'min_samples': 5, 'covariates': ['lum'], 'smpc': True, 'design_filename': 'design.tsv', 'design_separator': '\\t', 'rows_as_features': True, 'index_col': 0, 'position': 1, 'batch_col_name': 'batch'}}\n",
      "INFO:classes.client:min_samples set to 5\n",
      "INFO:classes.client:Opening dataset before/GSE149276/expr_for_correction.tsv\n",
      "INFO:classes.client:Shape of rawdata: (5, 6)\n",
      "INFO:classes.client:Cleaning up data, removing all-NaN rows and columns, removing all-zero rows\n",
      "INFO:classes.client:Shape of data before cleanup: (5, 6)\n",
      "INFO:classes.client:Shape of data after cleanup: (5, 6)\n",
      "INFO:classes.client:Finished loading data, shape: (5, 6), num_features: 5, num_samples: 6\n"
     ]
    }
   ],
   "source": [
    "global_variables = set()\n",
    "global_batch_labels = set()\n",
    "\n",
    "clients = {}\n",
    "\n",
    "for cohort_name in cohorts:\n",
    "\n",
    "    client = Client()\n",
    "\n",
    "    client.cohort_name = cohort_name\n",
    "    logging.info(f\"Processing cohort {cohort_name}\")\n",
    "    \n",
    "    client.config_based_init(\n",
    "        client_name = cohort_name, \n",
    "        input_folder = f\"{data_dir}/{cohort_name}\",\n",
    "    )\n",
    "\n",
    "    if global_variables:\n",
    "        global_variables = global_variables.intersection(client.variables)\n",
    "    else:\n",
    "        global_variables = set(client.variables)\n",
    "    global_batch_labels.update(client.batch_labels)\n",
    "\n",
    "    clients[cohort_name] = client\n",
    "\n",
    "if len(global_batch_labels) != len(set(global_batch_labels)):\n",
    "    raise ValueError(\"Batch labels are not unique across clients, please adjust them\")\n",
    "    \n",
    "\n",
    "            "
   ]
  },
  {
   "cell_type": "code",
   "execution_count": 33,
   "metadata": {},
   "outputs": [
    {
     "name": "stderr",
     "output_type": "stream",
     "text": [
      "INFO:classes.client:Feature count: 5\n",
      "INFO:classes.client:Dropped 0 features completely empty after processing batch 'GSE129508|0'.\n",
      "INFO:classes.client:Checking feature presence in batch 'GSE129508|0' with 6 samples.\n",
      "INFO:classes.client:Feature count: 5\n",
      "INFO:classes.client:Dropped 0 features completely empty after processing batch 'GSE58135|2'.\n",
      "INFO:classes.client:Checking feature presence in batch 'GSE58135|2' with 6 samples.\n",
      "INFO:classes.client:Feature count: 5\n",
      "INFO:classes.client:Dropped 0 features completely empty after processing batch 'GSE149276|1'.\n",
      "INFO:classes.client:Checking feature presence in batch 'GSE149276|1' with 6 samples.\n"
     ]
    }
   ],
   "source": [
    "feature_information = []\n",
    "for cohort_name in cohorts:\n",
    "    client = clients[cohort_name]\n",
    "    min_samples = max(len(global_batch_labels) + len(global_variables) + 1, client.min_samples)    \n",
    "    batch_feature_presence = client.get_batch_feature_presence_info(min_samples=min_samples)\n",
    "\n",
    "    feature_information.append(\n",
    "        [client.cohort_name,\n",
    "        client.position,\n",
    "        client.reference_batch,\n",
    "        batch_feature_presence]\n",
    "    )\n"
   ]
  },
  {
   "cell_type": "code",
   "execution_count": 34,
   "metadata": {},
   "outputs": [
    {
     "name": "stderr",
     "output_type": "stream",
     "text": [
      "INFO:classes.coordinator_utils:Found 5 features present in (at least) 3 clients\n",
      "INFO:classes.coordinator_utils:Total number of unique features: 5\n",
      "INFO:classes.coordinator_utils:Using specified client order: ['GSE129508', 'GSE149276', 'GSE58135']\n",
      "INFO:classes.coordinator_utils:Cohorts order: ['GSE129508|0', 'GSE149276|1', 'GSE58135|2']\n"
     ]
    }
   ],
   "source": [
    "global_feature_names, feature_presence_matrix, cohorts_order = \\\n",
    "    c_utils.select_common_features_variables(feature_information,\n",
    "                                            default_order=[0, 1, 2],\n",
    "                                            min_clients=3)\n"
   ]
  },
  {
   "cell_type": "code",
   "execution_count": 35,
   "metadata": {},
   "outputs": [
    {
     "name": "stderr",
     "output_type": "stream",
     "text": [
      "INFO:root:\n",
      "Processing cohort GSE129508\n",
      "INFO:root:[validate] waiting for common features and covariates\n",
      "INFO:classes.client:Client GSE129508: Data validated\n",
      "INFO:classes.client:Client GSE129508: Inputs validated.\n",
      "INFO:root:[validate] Inputs have been validated\n",
      "INFO:classes.client:Local features: 5; Global features: 5\n",
      "INFO:classes.client:Dropping 0 extra local features/rows.\n",
      "INFO:root:[validate] Data has been set to contain all global features\n",
      "INFO:classes.client:Client GSE129508 has only one batch\n",
      "INFO:root:[validate] Design matrix has been created with shape (6, 4)\n",
      "INFO:root:[validate] design has been created\n",
      "INFO:root:\n",
      "Processing cohort GSE58135\n",
      "INFO:root:[validate] waiting for common features and covariates\n",
      "INFO:classes.client:Client GSE58135: Data validated\n",
      "INFO:classes.client:Client GSE58135: Inputs validated.\n",
      "INFO:root:[validate] Inputs have been validated\n",
      "INFO:classes.client:Local features: 5; Global features: 5\n",
      "INFO:classes.client:Dropping 0 extra local features/rows.\n",
      "INFO:root:[validate] Data has been set to contain all global features\n",
      "INFO:classes.client:Client GSE58135 has only one batch\n",
      "INFO:root:[validate] Design matrix has been created with shape (6, 4)\n",
      "INFO:root:[validate] design has been created\n",
      "INFO:root:\n",
      "Processing cohort GSE149276\n",
      "INFO:root:[validate] waiting for common features and covariates\n",
      "INFO:classes.client:Client GSE149276: Data validated\n",
      "INFO:classes.client:Client GSE149276: Inputs validated.\n",
      "INFO:root:[validate] Inputs have been validated\n",
      "INFO:classes.client:Local features: 5; Global features: 5\n",
      "INFO:classes.client:Dropping 0 extra local features/rows.\n",
      "INFO:root:[validate] Data has been set to contain all global features\n",
      "INFO:classes.client:Client GSE149276 has only one batch\n",
      "INFO:root:[validate] Design matrix has been created with shape (6, 4)\n",
      "INFO:root:[validate] design has been created\n"
     ]
    }
   ],
   "source": [
    "for cohort_name in cohorts:\n",
    "    logging.info(f\"\\nProcessing cohort {cohort_name}\")\n",
    "    client = clients[cohort_name]\n",
    "    logging.info(\"[validate] waiting for common features and covariates\")\n",
    "\n",
    "    client.validate_inputs(global_variables)\n",
    "    logging.info(\"[validate] Inputs have been validated\")\n",
    "    client.set_data(global_feature_names)\n",
    "    logging.info(\"[validate] Data has been set to contain all global features\")\n",
    "\n",
    "    # get all client names to generate design matrix\n",
    "    client.create_design(cohorts_order)\n",
    "    logging.info(f\"[validate] Design matrix has been created with shape {client.design.shape}\")\n",
    "    logging.info(\"[validate] design has been created\")"
   ]
  },
  {
   "cell_type": "code",
   "execution_count": 36,
   "metadata": {},
   "outputs": [
    {
     "name": "stderr",
     "output_type": "stream",
     "text": [
      "INFO:root:\n",
      "Processing cohort GSE129508\n",
      "INFO:root:[ComBat-first_step:] Starting the first step of ComBat\n",
      "INFO:root:[ComBat-first_step:] Adjusting for 1 covariate(s) or covariate level(s)\n",
      "INFO:root:[ComBat-first_step:] Computation done, sending data to coordinator\n",
      "INFO:root:[ComBat-first_step:] XtX of shape (5, 4, 4), X of shape (6, 4), XtY of shape (5, 4)\n",
      "INFO:root:\n",
      "Processing cohort GSE58135\n",
      "INFO:root:[ComBat-first_step:] Starting the first step of ComBat\n",
      "INFO:root:[ComBat-first_step:] Adjusting for 1 covariate(s) or covariate level(s)\n",
      "INFO:root:[ComBat-first_step:] Computation done, sending data to coordinator\n",
      "INFO:root:[ComBat-first_step:] XtX of shape (5, 4, 4), X of shape (6, 4), XtY of shape (5, 4)\n",
      "INFO:root:\n",
      "Processing cohort GSE149276\n",
      "INFO:root:[ComBat-first_step:] Starting the first step of ComBat\n",
      "INFO:root:[ComBat-first_step:] Adjusting for 1 covariate(s) or covariate level(s)\n",
      "INFO:root:[ComBat-first_step:] Computation done, sending data to coordinator\n",
      "INFO:root:[ComBat-first_step:] XtX of shape (5, 4, 4), X of shape (6, 4), XtY of shape (5, 4)\n",
      "INFO:root:[ComBat-first_step:] All clients have finished the first step of ComBat\n",
      "INFO:root:[ComBat-first_step:] Ref size: [6 6 6]\n",
      "INFO:root:[ComBat-first_step:] XtX shape: (5, 4, 4), XtY shape: (5, 4)\n"
     ]
    }
   ],
   "source": [
    "XtX_global = None\n",
    "XtY_global = None\n",
    "ref_size_global = None\n",
    "\n",
    "for cohort_name in cohorts:\n",
    "    logging.info(f\"\\nProcessing cohort {cohort_name}\")\n",
    "    client = clients[cohort_name]\n",
    "\n",
    "    logging.info(\"[ComBat-first_step:] Starting the first step of ComBat\")\n",
    "    logging.info(f\"[ComBat-first_step:] Adjusting for {len(client.variables)} covariate(s) or covariate level(s)\")\n",
    "    if client.mean_only:\n",
    "        logging.info(\"[ComBat-first_step:] Performing ComBat with mean only.\")\n",
    "    \n",
    "    # getting XtX and Xty\n",
    "    XtX, XtY = client.compute_XtX_XtY()\n",
    "    design_cols = client.design.shape[1]\n",
    "    ref_size = [sum(client.design.iloc[:, i]) for i in range(design_cols - len(client.variables))]\n",
    "\n",
    "    if XtY_global is None:\n",
    "        XtX_global = XtX\n",
    "        XtY_global = XtY\n",
    "        ref_size_global = np.array(ref_size)\n",
    "    else:\n",
    "        XtX_global += XtX\n",
    "        XtY_global += XtY\n",
    "        ref_size_global += ref_size\n",
    "    \n",
    "    logging.info(\"[ComBat-first_step:] Computation done, sending data to coordinator\")\n",
    "    logging.info(f\"[ComBat-first_step:] XtX of shape {XtX.shape}, X of shape {client.design.shape}, XtY of shape {XtY.shape}\")\n",
    "\n",
    "\n",
    "logging.info(\"[ComBat-first_step:] All clients have finished the first step of ComBat\")\n",
    "logging.info(f\"[ComBat-first_step:] Ref size: {ref_size_global}\")\n",
    "logging.info(f\"[ComBat-first_step:] XtX shape: {XtX_global.shape}, XtY shape: {XtY_global.shape}\")\n",
    "\n",
    "ref_size = ref_size_global.copy()\n"
   ]
  },
  {
   "cell_type": "code",
   "execution_count": 37,
   "metadata": {},
   "outputs": [
    {
     "name": "stderr",
     "output_type": "stream",
     "text": [
      "INFO:classes.coordinator_utils:Computing B_hat\n",
      "INFO:classes.coordinator_utils:B_hat has been computed\n",
      "INFO:root:[Compute_b_hat:] B_hat has been computed.\n",
      "INFO:classes.coordinator_utils:Grand mean and stand mean have been computed\n",
      "INFO:classes.coordinator_utils:Grand mean shape: (5,), stand mean shape: (5, 18)\n",
      "INFO:classes.coordinator_utils:XtX_global shape: (5, 4, 4), XtY_global shape: (5, 4)\n",
      "INFO:root:[Compute_b_hat:] Grand mean and stand mean have been computed.\n"
     ]
    }
   ],
   "source": [
    "n = client.data.values.shape[0]\n",
    "k = client.design.shape[1]\n",
    "\n",
    "B_hat = c_utils.compute_B_hat(XtX_global, XtY_global)\n",
    "logging.info(\"[Compute_b_hat:] B_hat has been computed.\")\n",
    "grand_mean, stand_mean = c_utils.compute_mean(XtX_global, XtY_global, B_hat, ref_size)\n",
    "logging.info(\"[Compute_b_hat:] Grand mean and stand mean have been computed.\")"
   ]
  },
  {
   "cell_type": "markdown",
   "metadata": {},
   "source": [
    "# CORRECT  ^^"
   ]
  },
  {
   "cell_type": "code",
   "execution_count": 38,
   "metadata": {},
   "outputs": [
    {
     "name": "stderr",
     "output_type": "stream",
     "text": [
      "INFO:root:n_array: \n",
      "6\n",
      "\n",
      "INFO:root:factor: \n",
      "1.200000\n",
      "\n",
      "INFO:root:fitted shape: \n",
      "[[ 4.56365282  4.56365282  4.56365282  4.31489177  4.31489177  4.31489177]\n",
      " [ 3.08829523  3.08829523  3.08829523  2.47516162  2.47516162  2.47516162]\n",
      " [ 1.93509512  1.93509512  1.93509512  2.14190536  2.14190536  2.14190536]\n",
      " [ 0.1816107   0.1816107   0.1816107   0.20060604  0.20060604  0.20060604]\n",
      " [10.68751883 10.68751883 10.68751883  9.87644827  9.87644827  9.87644827]]\n",
      "\n",
      "INFO:root:diff shape: \n",
      "[[-3.41700260e+00  4.71312263e-01  2.00390259e+00  1.34118528e-01\n",
      "  -4.69573588e-01  1.27724280e+00]\n",
      " [ 1.26388963e+00  4.47136709e-01 -1.03051996e+00  1.00707081e-01\n",
      "  -7.84127230e-01  2.91377615e-03]\n",
      " [-1.93509512e+00 -7.18251635e-01  1.72017334e+00  1.43305080e+00\n",
      "   3.06404262e-01 -8.06281652e-01]\n",
      " [ 9.65039520e-01 -1.81610698e-01 -1.81610698e-01 -2.00606042e-01\n",
      "  -2.00606042e-01 -2.00606042e-01]\n",
      " [-5.01133870e-01  8.09067407e-01 -4.30811351e-02  3.70029070e-01\n",
      "  -2.38536289e-01 -3.96345182e-01]]\n",
      "\n",
      "INFO:root:var_unbiased shape: \n",
      "[3.55670078 0.69686511 2.00341662 0.2235989  0.25169836]\n",
      "\n",
      "INFO:root:var_pooled shape: \n",
      "[2.96391732 0.58072092 1.66951385 0.18633242 0.20974863]\n",
      "\n",
      "INFO:root:[Compute_sigma_site:] Sigma site has been computed for GSE129508\n",
      "INFO:root:[Compute_sigma_site:] Sigma site shape: (5,)\n",
      "INFO:root:n_array: \n",
      "6\n",
      "\n",
      "INFO:root:factor: \n",
      "1.200000\n",
      "\n",
      "INFO:root:fitted shape: \n",
      "[[ 3.60804816  3.60804816  3.60804816  3.35928711  3.35928711  3.35928711]\n",
      " [ 1.43825932  1.43825932  1.43825932  0.82512571  0.82512571  0.82512571]\n",
      " [ 1.70452842  1.70452842  1.70452842  1.91133866  1.91133866  1.91133866]\n",
      " [ 2.52186197  2.52186197  2.52186197  2.54085732  2.54085732  2.54085732]\n",
      " [11.61197071 11.61197071 11.61197071 10.80090015 10.80090015 10.80090015]]\n",
      "\n",
      "INFO:root:diff shape: \n",
      "[[ 0.27743265  2.23915202 -1.13304072 -1.39469401 -0.1777649   0.18891497]\n",
      " [-0.14522708 -1.43825932  0.05941978 -0.82512571  2.12481983  0.2243725 ]\n",
      " [ 0.25926042 -0.47379548  0.19689688 -0.93484645 -0.027374    0.97985862]\n",
      " [ 0.081376   -0.18827061 -0.04685454 -0.98732443  1.01539038  0.1256832 ]\n",
      " [ 0.61981612 -0.19599878  0.23342806  0.23652545  0.01384126 -0.90761212]]\n",
      "\n",
      "INFO:root:var_unbiased shape: \n",
      "[1.67740251 1.46784925 0.43305533 0.41317733 0.27139437]\n",
      "\n",
      "INFO:root:var_pooled shape: \n",
      "[1.39783542 1.2232077  0.36087944 0.34431444 0.22616197]\n",
      "\n",
      "INFO:root:[Compute_sigma_site:] Sigma site has been computed for GSE58135\n",
      "INFO:root:[Compute_sigma_site:] Sigma site shape: (5,)\n",
      "INFO:root:n_array: \n",
      "6\n",
      "\n",
      "INFO:root:factor: \n",
      "1.200000\n",
      "\n",
      "INFO:root:fitted shape: \n",
      "[[6.69990132 6.69990132 6.69990132 6.45114027 6.45114027 6.45114027]\n",
      " [0.89432036 0.89432036 0.89432036 0.28118675 0.28118675 0.28118675]\n",
      " [0.11012695 0.11012695 0.11012695 0.3169372  0.3169372  0.3169372 ]\n",
      " [2.23569604 2.23569604 2.23569604 2.25469138 2.25469138 2.25469138]\n",
      " [9.97134661 9.97134661 9.97134661 9.16027605 9.16027605 9.16027605]]\n",
      "\n",
      "INFO:root:diff shape: \n",
      "[[-0.70131087 -0.26785367  0.52740833 -1.37182122 -1.27195172  3.08552914]\n",
      " [ 1.05457778  0.68330283 -0.89432036 -0.28118675 -0.28118675 -0.28118675]\n",
      " [ 1.17106549 -0.11012695 -0.11012695 -0.3169372  -0.3169372  -0.3169372 ]\n",
      " [ 1.22541132  0.56221575 -2.23569604 -0.49507482  1.27757195 -0.33442815]\n",
      " [-1.87223044  0.15591198  0.79422065 -0.25157626 -0.1409385   1.31461257]]\n",
      "\n",
      "INFO:root:var_unbiased shape: \n",
      "[2.77239735 0.52320878 0.33939956 1.76103752 1.19434046]\n",
      "\n",
      "INFO:root:var_pooled shape: \n",
      "[2.31033113 0.43600732 0.28283297 1.46753126 0.99528371]\n",
      "\n",
      "INFO:root:[Compute_sigma_site:] Sigma site has been computed for GSE149276\n",
      "INFO:root:[Compute_sigma_site:] Sigma site shape: (5,)\n",
      "INFO:root:[Compute_pooled_variance:] Pooled variance has been computed.\n",
      "INFO:root:[Compute_pooled_variance:] Pooled variance shape: (5,)\n"
     ]
    }
   ],
   "source": [
    "var_list = []\n",
    "\n",
    "for cohort_name in cohorts:\n",
    "    client = clients[cohort_name]\n",
    "    sigma_site = client.get_sigma_summary(B_hat, ref_size)\n",
    "    logging.info(f\"[Compute_sigma_site:] Sigma site has been computed for {cohort_name}\")\n",
    "    logging.info(f\"[Compute_sigma_site:] Sigma site shape: {sigma_site.shape}\")\n",
    "\n",
    "    var_list.append(sigma_site)\n",
    "\n",
    "pooled_variance = c_utils.get_pooled_variance(var_list, ref_size)\n",
    "logging.info(\"[Compute_pooled_variance:] Pooled variance has been computed.\")\n",
    "logging.info(f\"[Compute_pooled_variance:] Pooled variance shape: {pooled_variance.shape}\")\n"
   ]
  },
  {
   "cell_type": "code",
   "execution_count": null,
   "metadata": {},
   "outputs": [
    {
     "data": {
      "text/html": [
       "<div>\n",
       "<style scoped>\n",
       "    .dataframe tbody tr th:only-of-type {\n",
       "        vertical-align: middle;\n",
       "    }\n",
       "\n",
       "    .dataframe tbody tr th {\n",
       "        vertical-align: top;\n",
       "    }\n",
       "\n",
       "    .dataframe thead th {\n",
       "        text-align: right;\n",
       "    }\n",
       "</style>\n",
       "<table border=\"1\" class=\"dataframe\">\n",
       "  <thead>\n",
       "    <tr style=\"text-align: right;\">\n",
       "      <th></th>\n",
       "      <th>pooled_variance</th>\n",
       "    </tr>\n",
       "  </thead>\n",
       "  <tbody>\n",
       "    <tr>\n",
       "      <th>BTLA</th>\n",
       "      <td>2.224028</td>\n",
       "    </tr>\n",
       "    <tr>\n",
       "      <th>RP1-209B5.2</th>\n",
       "      <td>0.746645</td>\n",
       "    </tr>\n",
       "    <tr>\n",
       "      <th>RP1-40G4P.1</th>\n",
       "      <td>0.771075</td>\n",
       "    </tr>\n",
       "    <tr>\n",
       "      <th>TAL2</th>\n",
       "      <td>0.666059</td>\n",
       "    </tr>\n",
       "    <tr>\n",
       "      <th>TTC7A</th>\n",
       "      <td>0.477065</td>\n",
       "    </tr>\n",
       "  </tbody>\n",
       "</table>\n",
       "</div>"
      ],
      "text/plain": [
       "             pooled_variance\n",
       "BTLA                2.224028\n",
       "RP1-209B5.2         0.746645\n",
       "RP1-40G4P.1         0.771075\n",
       "TAL2                0.666059\n",
       "TTC7A               0.477065"
      ]
     },
     "execution_count": 39,
     "metadata": {},
     "output_type": "execute_result"
    }
   ],
   "source": [
    "# # pooled_variance - reshare and add columns - features\n",
    "# pooled_variance = pd.DataFrame(pooled_variance.reshape(-1, 1), index=global_feature_names, columns=[\"pooled_variance\"])\n",
    "# pooled_variance"
   ]
  },
  {
   "cell_type": "markdown",
   "metadata": {},
   "source": [
    "# INCORRECT ^^^"
   ]
  },
  {
   "cell_type": "code",
   "execution_count": null,
   "metadata": {},
   "outputs": [
    {
     "name": "stdout",
     "output_type": "stream",
     "text": [
      "             GSM3714629  GSM3714603  GSM3714599  GSM3714589  GSM3714639  \\\n",
      "gene_id                                                                   \n",
      "BTLA           1.146650    5.034965    6.567555    4.449010    3.845318   \n",
      "RP1-209B5.2    4.352185    3.535432    2.057775    2.575869    1.691034   \n",
      "RP1-40G4P.1    0.000000    1.216843    3.655268    3.574956    2.448310   \n",
      "TAL2           1.146650    0.000000    0.000000    0.000000    0.000000   \n",
      "TTC7A         10.186385   11.496586   10.644438   10.246477    9.637912   \n",
      "\n",
      "             GSM3714625  \n",
      "gene_id                  \n",
      "BTLA           5.592135  \n",
      "RP1-209B5.2    2.478075  \n",
      "RP1-40G4P.1    1.335624  \n",
      "TAL2           0.000000  \n",
      "TTC7A          9.480103  \n"
     ]
    }
   ],
   "source": [
    "print(client.stand_data)"
   ]
  },
  {
   "cell_type": "code",
   "execution_count": 23,
   "metadata": {},
   "outputs": [
    {
     "name": "stderr",
     "output_type": "stream",
     "text": [
      "INFO:root:[calculate_estimates] Getting standardized data...\n",
      "INFO:classes.client:mod_mean shape: (5, 6)\n",
      "INFO:classes.client:Standardizing data...\n",
      "INFO:classes.client:Data standardized, shape: (5, 6)\n",
      "INFO:root:[calculate_estimates] Standardized data has been computed.\n",
      "INFO:classes.client:Computed gamma_hat, shape: (1, 5)\n",
      "INFO:classes.client:Computed delta_hat, shape: (1, 5)\n",
      "INFO:classes.client:Computed naive estimates.\n",
      "INFO:root:[calculate_estimates] Getting parametric Empirical Bayes estimates...\n"
     ]
    },
    {
     "name": "stdout",
     "output_type": "stream",
     "text": [
      "indices [0 1 2 3 4 5]\n"
     ]
    },
    {
     "ename": "IndexError",
     "evalue": "index 5 is out of bounds for axis 1 with size 5",
     "output_type": "error",
     "traceback": [
      "\u001b[0;31m---------------------------------------------------------------------------\u001b[0m",
      "\u001b[0;31mIndexError\u001b[0m                                Traceback (most recent call last)",
      "Cell \u001b[0;32mIn[23], line 20\u001b[0m\n\u001b[1;32m     18\u001b[0m     \u001b[38;5;28;01melse\u001b[39;00m:\n\u001b[1;32m     19\u001b[0m         logging\u001b[38;5;241m.\u001b[39minfo(\u001b[38;5;124m\"\u001b[39m\u001b[38;5;124m[calculate_estimates] Getting non-parametric Empirical Bayes estimates...\u001b[39m\u001b[38;5;124m\"\u001b[39m)\n\u001b[0;32m---> 20\u001b[0m     \u001b[43mclient\u001b[49m\u001b[38;5;241;43m.\u001b[39;49m\u001b[43mget_eb_estimators\u001b[49m\u001b[43m(\u001b[49m\u001b[43m)\u001b[49m\n\u001b[1;32m     21\u001b[0m     logging\u001b[38;5;241m.\u001b[39minfo(\u001b[38;5;124m\"\u001b[39m\u001b[38;5;124m[calculate_estimates] Empirical Bayes estimates have been computed.\u001b[39m\u001b[38;5;124m\"\u001b[39m)\n\u001b[1;32m     22\u001b[0m \u001b[38;5;28;01melse\u001b[39;00m:\n",
      "File \u001b[0;32m~/repos/cosybio/FedComBat/fedcombat/classes/client.py:979\u001b[0m, in \u001b[0;36mClient.get_eb_estimators\u001b[0;34m(self)\u001b[0m\n\u001b[1;32m    976\u001b[0m b_prior \u001b[38;5;241m=\u001b[39m \u001b[38;5;28mself\u001b[39m\u001b[38;5;241m.\u001b[39mbpriorMat(\u001b[38;5;28mself\u001b[39m\u001b[38;5;241m.\u001b[39mdelta_hat)\n\u001b[1;32m    978\u001b[0m \u001b[38;5;28;01mif\u001b[39;00m \u001b[38;5;28mself\u001b[39m\u001b[38;5;241m.\u001b[39mparametric:\n\u001b[0;32m--> 979\u001b[0m     \u001b[38;5;28;43mself\u001b[39;49m\u001b[38;5;241;43m.\u001b[39;49m\u001b[43mget_parametric_estimators\u001b[49m\u001b[43m(\u001b[49m\u001b[43mt2\u001b[49m\u001b[43m,\u001b[49m\u001b[43m \u001b[49m\u001b[43ma_prior\u001b[49m\u001b[43m,\u001b[49m\u001b[43m \u001b[49m\u001b[43mb_prior\u001b[49m\u001b[43m)\u001b[49m\n\u001b[1;32m    980\u001b[0m \u001b[38;5;28;01melse\u001b[39;00m:\n\u001b[1;32m    981\u001b[0m     \u001b[38;5;28mself\u001b[39m\u001b[38;5;241m.\u001b[39mget_nonparametric_estimators()\n",
      "File \u001b[0;32m~/repos/cosybio/FedComBat/fedcombat/classes/client.py:922\u001b[0m, in \u001b[0;36mClient.get_parametric_estimators\u001b[0;34m(self, t2, a_prior, b_prior)\u001b[0m\n\u001b[1;32m    919\u001b[0m indices \u001b[38;5;241m=\u001b[39m np\u001b[38;5;241m.\u001b[39mwhere(\u001b[38;5;28mself\u001b[39m\u001b[38;5;241m.\u001b[39mdesign[label] \u001b[38;5;241m==\u001b[39m \u001b[38;5;241m1\u001b[39m)[\u001b[38;5;241m0\u001b[39m]\n\u001b[1;32m    920\u001b[0m \u001b[38;5;28mprint\u001b[39m(\u001b[38;5;124m\"\u001b[39m\u001b[38;5;124mindices\u001b[39m\u001b[38;5;124m\"\u001b[39m, indices)\n\u001b[1;32m    921\u001b[0m temp \u001b[38;5;241m=\u001b[39m \u001b[38;5;28mself\u001b[39m\u001b[38;5;241m.\u001b[39mit_sol(\n\u001b[0;32m--> 922\u001b[0m     \u001b[38;5;28;43mself\u001b[39;49m\u001b[38;5;241;43m.\u001b[39;49m\u001b[43mdelta_hat\u001b[49m\u001b[43m[\u001b[49m\u001b[43m:\u001b[49m\u001b[43m,\u001b[49m\u001b[43m \u001b[49m\u001b[43mindices\u001b[49m\u001b[43m]\u001b[49m,\n\u001b[1;32m    923\u001b[0m               gamma_hat[i, :], delta_hat[i, :],\n\u001b[1;32m    924\u001b[0m               gamma_bar[i], t2[i], a_prior[i], b_prior[i])\n\u001b[1;32m    925\u001b[0m gamma_star_row \u001b[38;5;241m=\u001b[39m temp[\u001b[38;5;241m0\u001b[39m]\n\u001b[1;32m    926\u001b[0m delta_star_row \u001b[38;5;241m=\u001b[39m temp[\u001b[38;5;241m1\u001b[39m]\n",
      "\u001b[0;31mIndexError\u001b[0m: index 5 is out of bounds for axis 1 with size 5"
     ]
    }
   ],
   "source": [
    "\n",
    "for cohort_name in cohorts:\n",
    "    client = clients[cohort_name]\n",
    "    logging.info(\"[calculate_estimates] Getting standardized data...\")\n",
    "    client.get_standardized_data(\n",
    "        B_hat,\n",
    "        stand_mean,\n",
    "        pooled_variance,\n",
    "        ref_size\n",
    "    )\n",
    "    logging.info(\"[calculate_estimates] Standardized data has been computed.\")\n",
    "\n",
    "    # Get naive estimators\n",
    "    client.get_naive_estimates()\n",
    "\n",
    "    if client.eb_param:\n",
    "        if client.parametric:\n",
    "            logging.info(\"[calculate_estimates] Getting parametric Empirical Bayes estimates...\")\n",
    "        else:\n",
    "            logging.info(\"[calculate_estimates] Getting non-parametric Empirical Bayes estimates...\")\n",
    "        client.get_eb_estimators()\n",
    "        logging.info(\"[calculate_estimates] Empirical Bayes estimates have been computed.\")\n",
    "    else:\n",
    "        client.gamma_star = client.gamma_hat.copy()\n",
    "        client.delta_star = client.delta_hat.copy()\n",
    "        logging.info(\"[calculate_estimates] Non-Empirical Bayes estimates have been computed.\")\n",
    "\n",
    "    corrected_data = client.get_corrected_data(pooled_variance)\n",
    "    logging.info(\"[calculate_estimates] Corrected data has been computed.\")\n",
    "\n",
    "\n"
   ]
  },
  {
   "cell_type": "code",
   "execution_count": null,
   "metadata": {},
   "outputs": [
    {
     "data": {
      "text/plain": [
       "array([[0.65821301, 0.29199562, 0.56371845, 0.17261438, 2.04382362]])"
      ]
     },
     "execution_count": 145,
     "metadata": {},
     "output_type": "execute_result"
    }
   ],
   "source": [
    "client.delta_hat"
   ]
  },
  {
   "cell_type": "code",
   "execution_count": null,
   "metadata": {},
   "outputs": [],
   "source": []
  }
 ],
 "metadata": {
  "kernelspec": {
   "display_name": "fedcombat-DngeI4K1-py3.12",
   "language": "python",
   "name": "python3"
  },
  "language_info": {
   "codemirror_mode": {
    "name": "ipython",
    "version": 3
   },
   "file_extension": ".py",
   "mimetype": "text/x-python",
   "name": "python",
   "nbconvert_exporter": "python",
   "pygments_lexer": "ipython3",
   "version": "3.12.5"
  }
 },
 "nbformat": 4,
 "nbformat_minor": 2
}
