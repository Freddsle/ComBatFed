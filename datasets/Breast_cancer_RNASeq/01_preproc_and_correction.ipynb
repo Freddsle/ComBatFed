{
 "cells": [
  {
   "cell_type": "code",
   "execution_count": 12,
   "metadata": {
    "vscode": {
     "languageId": "r"
    }
   },
   "outputs": [],
   "source": [
    "library(tidyverse)\n",
    "library(DESeq2)\n",
    "library(sva)\n",
    "\n",
    "source(\"../../utils/plots_eda.R\")"
   ]
  },
  {
   "cell_type": "markdown",
   "metadata": {},
   "source": [
    "# Load data"
   ]
  },
  {
   "cell_type": "code",
   "execution_count": 13,
   "metadata": {
    "vscode": {
     "languageId": "r"
    }
   },
   "outputs": [],
   "source": [
    "datasets <- c(\"GSE129508\", \"GSE58135\", \"GSE149276\")"
   ]
  },
  {
   "cell_type": "code",
   "execution_count": 14,
   "metadata": {
    "vscode": {
     "languageId": "r"
    }
   },
   "outputs": [
    {
     "name": "stdout",
     "output_type": "stream",
     "text": [
      "[1] \"Removing sample GSM3714613 from GSE129508\"\n",
      "[1] \"Samples: 25; Features: 35238\"\n",
      "[1] \"Normalized Samples: 25; Features: 30174\"\n",
      "[1] \"..plotting..\"\n"
     ]
    },
    {
     "name": "stderr",
     "output_type": "stream",
     "text": [
      "No id variables; using all as measure variables\n",
      "\n"
     ]
    },
    {
     "name": "stdout",
     "output_type": "stream",
     "text": [
      "[1] \"Combined Samples: 25; Features: 30174\"\n",
      "[1] \" \"\n",
      "[1] \"Samples: 75; Features: 35238\"\n",
      "[1] \"Normalized Samples: 75; Features: 34675\"\n",
      "[1] \"..plotting..\"\n"
     ]
    },
    {
     "name": "stderr",
     "output_type": "stream",
     "text": [
      "No id variables; using all as measure variables\n",
      "\n"
     ]
    },
    {
     "name": "stdout",
     "output_type": "stream",
     "text": [
      "[1] \"Combined Samples: 100; Features: 34784\"\n",
      "[1] \" \"\n",
      "[1] \"Samples: 31; Features: 35238\"\n",
      "[1] \"Normalized Samples: 31; Features: 31377\"\n",
      "[1] \"..plotting..\"\n"
     ]
    },
    {
     "name": "stderr",
     "output_type": "stream",
     "text": [
      "No id variables; using all as measure variables\n",
      "\n"
     ]
    },
    {
     "name": "stdout",
     "output_type": "stream",
     "text": [
      "[1] \"Combined Samples: 131; Features: 34818\"\n",
      "[1] \" \"\n",
      "[1] \"Plotting combined data\"\n",
      "[1] \"..plotting..\"\n"
     ]
    },
    {
     "name": "stderr",
     "output_type": "stream",
     "text": [
      "No id variables; using all as measure variables\n",
      "\n",
      "Warning message:\n",
      "“\u001b[1m\u001b[22mRemoved 68128 rows containing non-finite outside the scale range\n",
      "(`stat_density()`).”\n",
      "Warning message:\n",
      "“\u001b[1m\u001b[22mRemoved 68128 rows containing non-finite outside the scale range\n",
      "(`stat_boxplot()`).”\n",
      "Warning message:\n",
      "“\u001b[1m\u001b[22mRemoved 68128 rows containing non-finite outside the scale range\n",
      "(`stat_summary()`).”\n"
     ]
    }
   ],
   "source": [
    "all_expression <- NULL\n",
    "raw_expression <- NULL\n",
    "all_metadata <- NULL\n",
    "\n",
    "for(dataset in datasets){\n",
    "    metadata <- read.table(paste0(\"before/\", dataset, \"/\", dataset, \".sample_info.tsv\"), header = TRUE, sep = \"\\t\")\n",
    "    expr_data <- read.table(paste0(\"before/\", dataset, \"/\", dataset, \".counts.tsv\"), header = TRUE, sep = \"\\t\")\n",
    "\n",
    "\n",
    "    # if sample GCSM3714613 is in expression or metadata, remove it\n",
    "    if(\"GSM3714613\" %in% colnames(expr_data)){\n",
    "        print(paste0(\"Removing sample GSM3714613 from \", dataset))\n",
    "        expr_data <- expr_data[, -which(colnames(expr_data) == \"GSM3714613\")]\n",
    "        metadata <- metadata[metadata$sample_id != \"GSM3714613\",]\n",
    "    }\n",
    "    \n",
    "    metadata$Dataset <- dataset\n",
    "    metadata <- metadata %>% \n",
    "        mutate(Status = ifelse(Basal == 1, \"Basal\", \"Luminal\")) %>%\n",
    "            # ifelse(is_LumA == 1, \"LumA\", \"LumB\"))) %>%\n",
    "        mutate(Status = as.factor(Status))\n",
    "\n",
    "    print(paste0(\"Samples: \", nrow(metadata), \"; Features: \", nrow(expr_data)))\n",
    "\n",
    "    #########################################################################################################################\n",
    "    # Normalization # \n",
    "    # Create a DESeq2 dataset object\n",
    "    expr_data <- expr_data %>% column_to_rownames(\"gene_id\")\n",
    "\n",
    "    # srop rows with only zeros\n",
    "    expr_data <- expr_data[rowSums(expr_data) > 0,]\n",
    "\n",
    "    dds <- DESeqDataSetFromMatrix(countData = expr_data, colData = metadata, design = ~ Status)\n",
    "    # Normalize using median of ratios method\n",
    "    dds <- estimateSizeFactors(dds)\n",
    "    normalized_counts <- counts(dds, normalized = TRUE)\n",
    "    norm_expr <- as.data.frame(normalized_counts) %>% \n",
    "        rownames_to_column(\"gene_id\")\n",
    "    print(paste0(\"Normalized Samples: \", nrow(metadata), \"; Features: \", nrow(norm_expr)))\n",
    "\n",
    "    #########################################################################################################################\n",
    "    #  plot\n",
    "    plot_res <- plot_diagnostic(norm_expr, metadata, dataset,\n",
    "                                log_transform = FALSE, with_rowname = FALSE)\n",
    "    layout <- (plot_res[[1]] + plot_res[[2]] ) / \n",
    "              (plot_res[[3]] )\n",
    "    ggsave(paste0(\"before/\", dataset, \"/diagnostic_plot.png\"), \n",
    "                plot = layout, width = 12, height = 12)\n",
    "\n",
    "    # save data\n",
    "    if(is.null(all_metadata)){\n",
    "        all_metadata <- metadata\n",
    "        all_expression <- norm_expr\n",
    "        raw_expression <- expr_data %>% rownames_to_column(\"gene_id\")\n",
    "    } else {        \n",
    "        all_metadata <- rbind(all_metadata, metadata)\n",
    "        all_expression <- full_join(all_expression, norm_expr, by = \"gene_id\")\n",
    "        raw_expression <- inner_join(raw_expression, expr_data %>% rownames_to_column(\"gene_id\"), by = \"gene_id\")\n",
    "    }\n",
    "    print(paste0(\"Combined Samples: \", nrow(all_metadata), \"; Features: \", nrow(all_expression)))\n",
    "    print(\" \")\n",
    "}\n",
    "\n",
    "# plot the combined data\n",
    "print(\"Plotting combined data\")\n",
    "plot_res <- plot_diagnostic(all_expression, all_metadata, \"Combined\")\n",
    "layout <- (plot_res[[1]] + plot_res[[2]] ) / \n",
    "          (plot_res[[3]] )\n",
    "ggsave(\"before/diagnostic_plot.png\", \n",
    "            plot = layout, width = 12, height = 12)"
   ]
  },
  {
   "cell_type": "markdown",
   "metadata": {},
   "source": [
    "# Correction"
   ]
  },
  {
   "cell_type": "code",
   "execution_count": 15,
   "metadata": {
    "vscode": {
     "languageId": "r"
    }
   },
   "outputs": [
    {
     "name": "stderr",
     "output_type": "stream",
     "text": [
      "\u001b[1m\u001b[22m`summarise()` has grouped output by 'Dataset'. You can override using the\n",
      "`.groups` argument.\n"
     ]
    },
    {
     "data": {
      "text/html": [
       "<table class=\"dataframe\">\n",
       "<caption>A grouped_df: 6 × 3</caption>\n",
       "<thead>\n",
       "\t<tr><th scope=col>Dataset</th><th scope=col>Status</th><th scope=col>n()</th></tr>\n",
       "\t<tr><th scope=col>&lt;chr&gt;</th><th scope=col>&lt;fct&gt;</th><th scope=col>&lt;int&gt;</th></tr>\n",
       "</thead>\n",
       "<tbody>\n",
       "\t<tr><td>GSE129508</td><td>Basal  </td><td> 4</td></tr>\n",
       "\t<tr><td>GSE129508</td><td>Luminal</td><td>21</td></tr>\n",
       "\t<tr><td>GSE149276</td><td>Basal  </td><td>17</td></tr>\n",
       "\t<tr><td>GSE149276</td><td>Luminal</td><td>14</td></tr>\n",
       "\t<tr><td>GSE58135 </td><td>Basal  </td><td>36</td></tr>\n",
       "\t<tr><td>GSE58135 </td><td>Luminal</td><td>39</td></tr>\n",
       "</tbody>\n",
       "</table>\n"
      ],
      "text/latex": [
       "A grouped\\_df: 6 × 3\n",
       "\\begin{tabular}{lll}\n",
       " Dataset & Status & n()\\\\\n",
       " <chr> & <fct> & <int>\\\\\n",
       "\\hline\n",
       "\t GSE129508 & Basal   &  4\\\\\n",
       "\t GSE129508 & Luminal & 21\\\\\n",
       "\t GSE149276 & Basal   & 17\\\\\n",
       "\t GSE149276 & Luminal & 14\\\\\n",
       "\t GSE58135  & Basal   & 36\\\\\n",
       "\t GSE58135  & Luminal & 39\\\\\n",
       "\\end{tabular}\n"
      ],
      "text/markdown": [
       "\n",
       "A grouped_df: 6 × 3\n",
       "\n",
       "| Dataset &lt;chr&gt; | Status &lt;fct&gt; | n() &lt;int&gt; |\n",
       "|---|---|---|\n",
       "| GSE129508 | Basal   |  4 |\n",
       "| GSE129508 | Luminal | 21 |\n",
       "| GSE149276 | Basal   | 17 |\n",
       "| GSE149276 | Luminal | 14 |\n",
       "| GSE58135  | Basal   | 36 |\n",
       "| GSE58135  | Luminal | 39 |\n",
       "\n"
      ],
      "text/plain": [
       "  Dataset   Status  n()\n",
       "1 GSE129508 Basal    4 \n",
       "2 GSE129508 Luminal 21 \n",
       "3 GSE149276 Basal   17 \n",
       "4 GSE149276 Luminal 14 \n",
       "5 GSE58135  Basal   36 \n",
       "6 GSE58135  Luminal 39 "
      ]
     },
     "metadata": {},
     "output_type": "display_data"
    }
   ],
   "source": [
    "all_metadata %>%\n",
    "    group_by(Dataset, Status) %>% summarise(n())"
   ]
  },
  {
   "cell_type": "code",
   "execution_count": 16,
   "metadata": {
    "vscode": {
     "languageId": "r"
    }
   },
   "outputs": [
    {
     "data": {
      "text/html": [
       "<table class=\"dataframe\">\n",
       "<caption>A tibble: 3 × 2</caption>\n",
       "<thead>\n",
       "\t<tr><th scope=col>Dataset</th><th scope=col>n()</th></tr>\n",
       "\t<tr><th scope=col>&lt;chr&gt;</th><th scope=col>&lt;int&gt;</th></tr>\n",
       "</thead>\n",
       "<tbody>\n",
       "\t<tr><td>GSE129508</td><td>25</td></tr>\n",
       "\t<tr><td>GSE149276</td><td>31</td></tr>\n",
       "\t<tr><td>GSE58135 </td><td>75</td></tr>\n",
       "</tbody>\n",
       "</table>\n"
      ],
      "text/latex": [
       "A tibble: 3 × 2\n",
       "\\begin{tabular}{ll}\n",
       " Dataset & n()\\\\\n",
       " <chr> & <int>\\\\\n",
       "\\hline\n",
       "\t GSE129508 & 25\\\\\n",
       "\t GSE149276 & 31\\\\\n",
       "\t GSE58135  & 75\\\\\n",
       "\\end{tabular}\n"
      ],
      "text/markdown": [
       "\n",
       "A tibble: 3 × 2\n",
       "\n",
       "| Dataset &lt;chr&gt; | n() &lt;int&gt; |\n",
       "|---|---|\n",
       "| GSE129508 | 25 |\n",
       "| GSE149276 | 31 |\n",
       "| GSE58135  | 75 |\n",
       "\n"
      ],
      "text/plain": [
       "  Dataset   n()\n",
       "1 GSE129508 25 \n",
       "2 GSE149276 31 \n",
       "3 GSE58135  75 "
      ]
     },
     "metadata": {},
     "output_type": "display_data"
    }
   ],
   "source": [
    "all_metadata %>%\n",
    "    group_by(Dataset) %>% summarise(n())"
   ]
  },
  {
   "cell_type": "code",
   "execution_count": 17,
   "metadata": {
    "vscode": {
     "languageId": "r"
    }
   },
   "outputs": [],
   "source": [
    "all_expression <- all_expression %>% as.data.frame() %>% column_to_rownames(\"gene_id\")\n",
    "raw_expression <- raw_expression %>% as.data.frame() %>% column_to_rownames(\"gene_id\")\n",
    "\n",
    "# sort index in all_expression_nona alphabetically - rows\n",
    "all_expression <- all_expression[order(rownames(all_expression)),]\n",
    "raw_expression <- raw_expression[order(rownames(raw_expression)),]\n"
   ]
  },
  {
   "cell_type": "code",
   "execution_count": 18,
   "metadata": {
    "vscode": {
     "languageId": "r"
    }
   },
   "outputs": [
    {
     "name": "stdout",
     "output_type": "stream",
     "text": [
      "[1] \"Number of samples: 131\"\n",
      "[1] \"Number of features: 34818; Number of samples: 131\"\n"
     ]
    }
   ],
   "source": [
    "all_expression <- all_expression[, all_metadata$sample_id]\n",
    "all_expression <- log2(all_expression + 1)\n",
    "print(paste0(\"Number of samples: \", nrow(all_metadata)))\n",
    "print(paste0(\"Number of features: \", nrow(all_expression), \"; Number of samples: \", ncol(all_expression)))"
   ]
  },
  {
   "cell_type": "code",
   "execution_count": 19,
   "metadata": {
    "vscode": {
     "languageId": "r"
    }
   },
   "outputs": [
    {
     "name": "stdout",
     "output_type": "stream",
     "text": [
      "[1] \"Number of features before filtering: 34818\"\n"
     ]
    },
    {
     "name": "stdout",
     "output_type": "stream",
     "text": [
      "[1] \"Number of features after filtering: 28823\"\n",
      "[1] \"Number of samples: 131\"\n"
     ]
    }
   ],
   "source": [
    "print(paste0(\"Number of features before filtering: \", nrow(all_expression)))\n",
    "all_expression_nona <- all_expression[rownames(all_expression) %in% rownames(raw_expression),]\n",
    "print(paste0(\"Number of features after filtering: \", nrow(all_expression_nona)))\n",
    "print(paste0(\"Number of samples: \", nrow(all_metadata)))"
   ]
  },
  {
   "cell_type": "code",
   "execution_count": 20,
   "metadata": {
    "vscode": {
     "languageId": "r"
    }
   },
   "outputs": [
    {
     "name": "stderr",
     "output_type": "stream",
     "text": [
      "Found3batches\n",
      "\n",
      "Adjusting for1covariate(s) or covariate level(s)\n",
      "\n",
      "Standardizing Data across genes\n",
      "\n",
      "Fitting L/S model and finding priors\n",
      "\n",
      "Finding parametric adjustments\n",
      "\n",
      "Adjusting the Data\n",
      "\n",
      "\n"
     ]
    },
    {
     "name": "stdout",
     "output_type": "stream",
     "text": [
      "[1] \"Plotting combined corrected data\"\n",
      "[1] \"..plotting..\"\n"
     ]
    },
    {
     "name": "stderr",
     "output_type": "stream",
     "text": [
      "No id variables; using all as measure variables\n",
      "\n"
     ]
    }
   ],
   "source": [
    "design <- model.matrix(~all_metadata$Status)\n",
    "\n",
    "corrected_expr <- sva::ComBat(dat = all_expression_nona, \n",
    "                              batch = all_metadata$Dataset, \n",
    "                              mod = design)\n",
    "\n",
    "corrected_expr <- as.data.frame(corrected_expr)\n",
    "\n",
    "# plot the combined corrected data\n",
    "print(\"Plotting combined corrected data\")\n",
    "plot_res <- plot_diagnostic(corrected_expr, all_metadata, \"Combined Corrected\",\n",
    "                            log_transform = TRUE, with_rowname = TRUE)\n",
    "layout <- (plot_res[[1]] + plot_res[[2]] ) / \n",
    "          (plot_res[[3]] )\n",
    "ggsave(\"after/diagnostic_plot_corrected.png\", \n",
    "            plot = layout, width = 12, height = 12)\n"
   ]
  },
  {
   "cell_type": "markdown",
   "metadata": {},
   "source": [
    "# Save data for correction and after correction"
   ]
  },
  {
   "cell_type": "code",
   "execution_count": 21,
   "metadata": {
    "vscode": {
     "languageId": "r"
    }
   },
   "outputs": [
    {
     "name": "stdout",
     "output_type": "stream",
     "text": [
      "[1] \"Save data prior to batch correction for GSE129508\"\n",
      "[1] \"Samples: 25; Features: 34818\"\n",
      "[1] \"Save data prior to batch correction for GSE58135\"\n",
      "[1] \"Samples: 75; Features: 34818\"\n",
      "[1] \"Save data prior to batch correction for GSE149276\"\n",
      "[1] \"Samples: 31; Features: 34818\"\n"
     ]
    }
   ],
   "source": [
    "all_metadata$batch <- as.numeric(as.factor(all_metadata$Dataset)) - 1\n",
    "# all_metadata$batch <- 0\n",
    "all_metadata$lum <- as.numeric(as.factor(all_metadata$Status))\n",
    "all_metadata$lum = all_metadata$lum - 1\n",
    "\n",
    "for (dataset in unique(all_metadata$Dataset)) {\n",
    "    print(paste0(\"Save data prior to batch correction for \", dataset))\n",
    "    dataset_metadata <- all_metadata[all_metadata$Dataset == dataset,]\n",
    "    dataset_metadata <- dataset_metadata %>% select(sample_id, lum, batch)\n",
    "    \n",
    "    dataset_expression <- all_expression[, dataset_metadata$sample_id]\n",
    "    dataset_expression <- dataset_expression %>% rownames_to_column(\"gene_id\")\n",
    "    print(paste0(\"Samples: \", nrow(dataset_metadata), \"; Features: \", nrow(dataset_expression)))\n",
    "    \n",
    "    write.table(dataset_metadata, \n",
    "        file = paste0(\"before/\", dataset, \"/design.tsv\"), sep = \"\\t\", quote = FALSE, row.names = FALSE)\n",
    "    write.table(dataset_expression, \n",
    "        file = paste0(\"before/\", dataset, \"/expr_for_correction.tsv\"), sep = \"\\t\", quote = FALSE, row.names = FALSE)\n",
    "\n",
    "}\n",
    "\n",
    "write.table(all_metadata %>% select(sample_id, lum, batch), \n",
    "    file = \"before/all_design.tsv\", sep = \"\\t\", quote = FALSE, row.names = FALSE)\n",
    "write.table(all_expression %>% rownames_to_column(\"gene_id\"),\n",
    "    file = \"before/all_expr_for_correction.tsv\", sep = \"\\t\", quote = FALSE, row.names = FALSE)\n",
    "write.table(corrected_expr %>% rownames_to_column(\"gene_id\"),\n",
    "    file = \"after/all_corrected_R_expr.tsv\", sep = \"\\t\", quote = FALSE, row.names = FALSE)"
   ]
  },
  {
   "cell_type": "markdown",
   "metadata": {},
   "source": [
    "# Small test data"
   ]
  },
  {
   "cell_type": "code",
   "execution_count": 22,
   "metadata": {
    "vscode": {
     "languageId": "r"
    }
   },
   "outputs": [
    {
     "name": "stdout",
     "output_type": "stream",
     "text": [
      "[1] \"Save data prior to batch correction for GSE129508\"\n",
      "[1] \"Samples: 6; Features: 5\"\n",
      "[1] \"Save data prior to batch correction for GSE58135\"\n",
      "[1] \"Samples: 6; Features: 5\"\n",
      "[1] \"Save data prior to batch correction for GSE149276\"\n",
      "[1] \"Samples: 6; Features: 5\"\n"
     ]
    },
    {
     "name": "stderr",
     "output_type": "stream",
     "text": [
      "Found3batches\n",
      "\n",
      "Adjusting for1covariate(s) or covariate level(s)\n",
      "\n",
      "Standardizing Data across genes\n",
      "\n",
      "Fitting L/S model and finding priors\n",
      "\n",
      "Finding parametric adjustments\n",
      "\n",
      "Adjusting the Data\n",
      "\n",
      "\n"
     ]
    }
   ],
   "source": [
    "small_meta <- all_metadata %>%\n",
    "    # select samples - 3 from each lum class\n",
    "    group_by(Dataset, lum) %>% sample_n(3) %>%\n",
    "    ungroup() \n",
    "\n",
    "path_to_small <- \"/home/yuliya/repos/cosybio/FedComBat/datasets/small_test/\"\n",
    "\n",
    "# set seed\n",
    "set.seed(123)\n",
    "\n",
    "# select 5 random rows (features) from the expression data\n",
    "small_expr <- all_expression_nona[sample(1:nrow(all_expression_nona), 5), small_meta$sample_id]\n",
    "\n",
    "write.table(small_meta,\n",
    "      file = paste0(path_to_small, \"/before/design.tsv\"),\n",
    "      sep = \"\\t\", quote = FALSE)\n",
    "\n",
    "write.table(small_expr,\n",
    "      file = paste0(path_to_small, \"/before/expr_for_correction.tsv\"),\n",
    "      sep = \"\\t\", quote = FALSE)\n",
    "\n",
    "for (dataset in unique(all_metadata$Dataset)) {\n",
    "    print(paste0(\"Save data prior to batch correction for \", dataset))\n",
    "    dataset_metadata <- small_meta[small_meta$Dataset == dataset,] %>%\n",
    "        select(sample_id, lum, batch)\n",
    "    \n",
    "    dataset_expression <- small_expr[, dataset_metadata$sample_id]\n",
    "    dataset_expression <- dataset_expression %>% rownames_to_column(\"gene_id\")\n",
    "    print(paste0(\"Samples: \", nrow(dataset_metadata), \"; Features: \", nrow(dataset_expression)))\n",
    "    \n",
    "    write.table(dataset_metadata,\n",
    "      file = paste0(path_to_small, \"/before/\", dataset, \"/design.tsv\"),\n",
    "      sep = \"\\t\", quote = FALSE, row.names = FALSE)\n",
    "    write.table(dataset_expression, \n",
    "      file = paste0(path_to_small, \"/before/\",  dataset, \"/expr_for_correction.tsv\"),\n",
    "      sep = \"\\t\", quote = FALSE, row.names = FALSE)\n",
    "\n",
    "}\n",
    "\n",
    "design_small <- model.matrix(~small_meta$Status)\n",
    "corrected_expr_small <- sva::ComBat(dat = small_expr, \n",
    "                              batch = small_meta$Dataset, \n",
    "                              mod = design_small) %>% as.data.frame()\n",
    "\n",
    "write.table(small_expr,\n",
    "      file = paste0(path_to_small, \"/after/expr_central.tsv\"),\n",
    "      sep = \"\\t\", quote = FALSE)\n"
   ]
  },
  {
   "cell_type": "markdown",
   "metadata": {},
   "source": [
    "# Fed Correction ...\n",
    "\n",
    "... after FC app ..."
   ]
  },
  {
   "cell_type": "code",
   "execution_count": 24,
   "metadata": {
    "vscode": {
     "languageId": "r"
    }
   },
   "outputs": [],
   "source": [
    "path_to_fed <- \"/home/yuliya/repos/cosybio/FedComBat/datasets/Breast_cancer_RNASeq/after/fed_res/\"\n",
    "zip_files <- list.files(path = path_to_fed, pattern = \"\\\\.zip$\", full.names = TRUE)\n",
    "\n",
    "for(i in seq_along(zip_files)) {\n",
    "  zipfile <- zip_files[i]\n",
    "  zip_contents <- unzip(zipfile, list = TRUE)$Name\n",
    "  csv_files <- zip_contents[grepl(\"\\\\.csv$\", zip_contents, ignore.case = TRUE)]\n",
    "  \n",
    "  # If no CSV file is found, skip this zip\n",
    "  if(length(csv_files) == 0) {\n",
    "    warning(sprintf(\"No CSV file found in zip: %s\", zipfile))\n",
    "    next\n",
    "  }\n",
    "  csv_to_extract <- csv_files[1]\n",
    "  new_csv_name <- file.path(path_to_fed, sprintf(\"%d_bayes_data.csv\", i))\n",
    "  unzip(zipfile, files = csv_to_extract, exdir = path_to_fed)\n",
    "  \n",
    "  # Determine the path to the extracted file (handles potential subdirectories)\n",
    "  extracted_csv_path <- file.path(path_to_fed, csv_to_extract)\n",
    "  \n",
    "  # If the extracted file is inside a subdirectory, move it to the main folder\n",
    "  if (!file.exists(extracted_csv_path)) {\n",
    "    # Sometimes the unzip creates subfolders. List files recursively.\n",
    "    extracted_files <- list.files(path_to_fed, pattern = \"\\\\.csv$\", full.names = TRUE, recursive = TRUE)\n",
    "    # Find the matching file (by comparing filenames ignoring directory structure)\n",
    "    candidate <- extracted_files[basename(extracted_files) == basename(csv_to_extract)]\n",
    "    if(length(candidate) > 0) {\n",
    "      extracted_csv_path <- candidate[1]\n",
    "    } else {\n",
    "      warning(sprintf(\"Extracted CSV file not found for zip: %s\", zipfile))\n",
    "      next\n",
    "    }\n",
    "  }\n",
    "  \n",
    "  # Rename (or move) the extracted CSV file to the new filename\n",
    "  if(!file.rename(from = extracted_csv_path, to = new_csv_name)) {\n",
    "    warning(sprintf(\"Failed to rename file: %s\", extracted_csv_path))\n",
    "  }\n",
    "}\n"
   ]
  },
  {
   "cell_type": "code",
   "execution_count": 25,
   "metadata": {
    "vscode": {
     "languageId": "r"
    }
   },
   "outputs": [
    {
     "name": "stdout",
     "output_type": "stream",
     "text": [
      "[1] \"Samples: 76; Features: 28823\"\n",
      "[1] \"Combined Samples: 76; Features: 28823\"\n",
      "[1] \" \"\n",
      "[1] \"Samples: 26; Features: 28823\"\n",
      "[1] \"Combined Samples: 101; Features: 28823\"\n",
      "[1] \" \"\n",
      "[1] \"Samples: 32; Features: 28823\"\n",
      "[1] \"Combined Samples: 132; Features: 28823\"\n",
      "[1] \" \"\n"
     ]
    }
   ],
   "source": [
    "fed_expression <- NULL\n",
    "\n",
    "\n",
    "for(i in 1:3){\n",
    "    expr_data <- read.table(paste0(path_to_fed, i, \"_bayes_data.csv\"), header = TRUE, sep = \"\\t\")\n",
    "    print(paste0(\"Samples: \", ncol(expr_data), \"; Features: \", nrow(expr_data)))\n",
    "    # save data\n",
    "    if(is.null(fed_expression)){\n",
    "        fed_expression <- expr_data\n",
    "    } else {        \n",
    "        fed_expression <- full_join(fed_expression, expr_data, by = \"gene_id\")\n",
    "    }\n",
    "    print(paste0(\"Combined Samples: \", ncol(fed_expression), \"; Features: \", nrow(fed_expression)))\n",
    "    print(\" \")\n",
    "}\n"
   ]
  },
  {
   "cell_type": "code",
   "execution_count": 26,
   "metadata": {
    "vscode": {
     "languageId": "r"
    }
   },
   "outputs": [
    {
     "name": "stdout",
     "output_type": "stream",
     "text": [
      "[1] \"Plotting combined data\"\n"
     ]
    },
    {
     "name": "stdout",
     "output_type": "stream",
     "text": [
      "[1] \"..plotting..\"\n"
     ]
    },
    {
     "name": "stderr",
     "output_type": "stream",
     "text": [
      "No id variables; using all as measure variables\n",
      "\n"
     ]
    }
   ],
   "source": [
    "fed_expression <- fed_expression %>% column_to_rownames(\"gene_id\") \n",
    "fed_expression <- fed_expression[, all_metadata$sample_id]\n",
    "\n",
    "# plot the combined data\n",
    "print(\"Plotting combined data\")\n",
    "plot_res <- plot_diagnostic(fed_expression, all_metadata, \"FedCombat corrected\",\n",
    "                            log_transform = TRUE, with_rowname = TRUE)\n",
    "layout <- (plot_res[[1]] + plot_res[[2]] ) / \n",
    "          (plot_res[[3]] )\n",
    "ggsave(\"after/diagnostic_plot_correcter_Fed.png\", \n",
    "            plot = layout, width = 12, height = 12)"
   ]
  },
  {
   "cell_type": "markdown",
   "metadata": {},
   "source": [
    "# Min Max and mean absolute error"
   ]
  },
  {
   "cell_type": "code",
   "execution_count": 27,
   "metadata": {
    "vscode": {
     "languageId": "r"
    }
   },
   "outputs": [
    {
     "name": "stdout",
     "output_type": "stream",
     "text": [
      "[1] \"Number of samples: 131\"\n",
      "[1] \"Number of features FED: 28823; Number of samples: 131\"\n",
      "[1] \"Number of features CENTRAL: 28823; Number of samples: 131\"\n"
     ]
    }
   ],
   "source": [
    "print(paste0(\"Number of samples: \", nrow(all_metadata)))\n",
    "print(paste0(\"Number of features FED: \", nrow(fed_expression), \"; Number of samples: \", ncol(fed_expression)))\n",
    "print(paste0(\"Number of features CENTRAL: \", nrow(corrected_expr), \"; Number of samples: \", ncol(corrected_expr)))"
   ]
  },
  {
   "cell_type": "code",
   "execution_count": 28,
   "metadata": {
    "vscode": {
     "languageId": "r"
    }
   },
   "outputs": [],
   "source": [
    "corrected_expr <- as.data.frame(corrected_expr)\n",
    "fed_expression <- fed_expression[rownames(corrected_expr), colnames(corrected_expr)]"
   ]
  },
  {
   "cell_type": "code",
   "execution_count": 29,
   "metadata": {
    "vscode": {
     "languageId": "r"
    }
   },
   "outputs": [
    {
     "name": "stdout",
     "output_type": "stream",
     "text": [
      "[1] \"Min difference: 5.82725316888855e-08\"\n",
      "[1] \"Mean difference: 0.256842683799871\"\n",
      "[1] \"Max difference: 11.3959829171489\"\n"
     ]
    }
   ],
   "source": [
    "# Calculate value-to-value mean, max, and mean absolute difference\n",
    "mean_diff <- mean(as.matrix(abs(corrected_expr - fed_expression), na.rm = TRUE))\n",
    "max_diff <- max(abs(corrected_expr - fed_expression), na.rm = TRUE)\n",
    "min_diff <- min(abs(corrected_expr - fed_expression), na.rm = TRUE)\n",
    "\n",
    "print(paste0(\"Min difference: \", min_diff))\n",
    "print(paste0(\"Mean difference: \", mean_diff))\n",
    "print(paste0(\"Max difference: \", max_diff))\n"
   ]
  },
  {
   "cell_type": "code",
   "execution_count": null,
   "metadata": {
    "vscode": {
     "languageId": "r"
    }
   },
   "outputs": [],
   "source": [
    "boxplot(abs(as.numeric(unlist(corrected_expr)) - as.numeric(unlist(fed_expression))),\n",
    "        main = \"Boxplot of Differences\", xlab = \"Absolute Differences\",\n",
    "        # add values to the plot - for the mean and the median\n",
    "        horizontal = TRUE)"
   ]
  },
  {
   "cell_type": "code",
   "execution_count": null,
   "metadata": {
    "vscode": {
     "languageId": "r"
    }
   },
   "outputs": [],
   "source": []
  }
 ],
 "metadata": {
  "kernelspec": {
   "display_name": "R",
   "language": "R",
   "name": "ir"
  },
  "language_info": {
   "codemirror_mode": "r",
   "file_extension": ".r",
   "mimetype": "text/x-r-source",
   "name": "R",
   "pygments_lexer": "r",
   "version": "4.4.2"
  }
 },
 "nbformat": 4,
 "nbformat_minor": 2
}
