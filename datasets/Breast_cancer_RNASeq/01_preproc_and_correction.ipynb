{
 "cells": [
  {
   "cell_type": "code",
   "execution_count": 1,
   "metadata": {
    "vscode": {
     "languageId": "r"
    }
   },
   "outputs": [
    {
     "name": "stderr",
     "output_type": "stream",
     "text": [
      "Warning message:\n",
      "“package ‘tidyverse’ was built under R version 4.2.2”\n",
      "Warning message:\n",
      "“package ‘ggplot2’ was built under R version 4.2.3”\n",
      "Warning message:\n",
      "“package ‘tibble’ was built under R version 4.2.3”\n",
      "Warning message:\n",
      "“package ‘tidyr’ was built under R version 4.2.2”\n",
      "Warning message:\n",
      "“package ‘readr’ was built under R version 4.2.2”\n",
      "Warning message:\n",
      "“package ‘purrr’ was built under R version 4.2.3”\n",
      "Warning message:\n",
      "“package ‘dplyr’ was built under R version 4.2.3”\n",
      "Warning message:\n",
      "“package ‘stringr’ was built under R version 4.2.3”\n",
      "Warning message:\n",
      "“package ‘forcats’ was built under R version 4.2.2”\n",
      "Warning message:\n",
      "“package ‘lubridate’ was built under R version 4.2.2”\n",
      "── \u001b[1mAttaching core tidyverse packages\u001b[22m ──────────────────────── tidyverse 2.0.0 ──\n",
      "\u001b[32m✔\u001b[39m \u001b[34mdplyr    \u001b[39m 1.1.2     \u001b[32m✔\u001b[39m \u001b[34mreadr    \u001b[39m 2.1.4\n",
      "\u001b[32m✔\u001b[39m \u001b[34mforcats  \u001b[39m 1.0.0     \u001b[32m✔\u001b[39m \u001b[34mstringr  \u001b[39m 1.5.0\n",
      "\u001b[32m✔\u001b[39m \u001b[34mggplot2  \u001b[39m 3.4.2     \u001b[32m✔\u001b[39m \u001b[34mtibble   \u001b[39m 3.2.1\n",
      "\u001b[32m✔\u001b[39m \u001b[34mlubridate\u001b[39m 1.9.2     \u001b[32m✔\u001b[39m \u001b[34mtidyr    \u001b[39m 1.3.0\n",
      "\u001b[32m✔\u001b[39m \u001b[34mpurrr    \u001b[39m 1.0.1     \n",
      "── \u001b[1mConflicts\u001b[22m ────────────────────────────────────────── tidyverse_conflicts() ──\n",
      "\u001b[31m✖\u001b[39m \u001b[34mdplyr\u001b[39m::\u001b[32mfilter()\u001b[39m masks \u001b[34mstats\u001b[39m::filter()\n",
      "\u001b[31m✖\u001b[39m \u001b[34mdplyr\u001b[39m::\u001b[32mlag()\u001b[39m    masks \u001b[34mstats\u001b[39m::lag()\n",
      "\u001b[36mℹ\u001b[39m Use the conflicted package (\u001b[3m\u001b[34m<http://conflicted.r-lib.org/>\u001b[39m\u001b[23m) to force all conflicts to become errors\n",
      "Warning message:\n",
      "“package ‘DESeq2’ was built under R version 4.2.3”\n",
      "Loading required package: S4Vectors\n",
      "\n",
      "Loading required package: stats4\n",
      "\n",
      "Loading required package: BiocGenerics\n",
      "\n",
      "Warning message:\n",
      "“package ‘BiocGenerics’ was built under R version 4.2.1”\n",
      "\n",
      "Attaching package: ‘BiocGenerics’\n",
      "\n",
      "\n",
      "The following objects are masked from ‘package:lubridate’:\n",
      "\n",
      "    intersect, setdiff, union\n",
      "\n",
      "\n",
      "The following objects are masked from ‘package:dplyr’:\n",
      "\n",
      "    combine, intersect, setdiff, union\n",
      "\n",
      "\n",
      "The following objects are masked from ‘package:stats’:\n",
      "\n",
      "    IQR, mad, sd, var, xtabs\n",
      "\n",
      "\n",
      "The following objects are masked from ‘package:base’:\n",
      "\n",
      "    anyDuplicated, aperm, append, as.data.frame, basename, cbind,\n",
      "    colnames, dirname, do.call, duplicated, eval, evalq, Filter, Find,\n",
      "    get, grep, grepl, intersect, is.unsorted, lapply, Map, mapply,\n",
      "    match, mget, order, paste, pmax, pmax.int, pmin, pmin.int,\n",
      "    Position, rank, rbind, Reduce, rownames, sapply, setdiff, sort,\n",
      "    table, tapply, union, unique, unsplit, which.max, which.min\n",
      "\n",
      "\n",
      "\n",
      "Attaching package: ‘S4Vectors’\n",
      "\n",
      "\n",
      "The following objects are masked from ‘package:lubridate’:\n",
      "\n",
      "    second, second<-\n",
      "\n",
      "\n",
      "The following objects are masked from ‘package:dplyr’:\n",
      "\n",
      "    first, rename\n",
      "\n",
      "\n",
      "The following object is masked from ‘package:tidyr’:\n",
      "\n",
      "    expand\n",
      "\n",
      "\n",
      "The following objects are masked from ‘package:base’:\n",
      "\n",
      "    expand.grid, I, unname\n",
      "\n",
      "\n",
      "Loading required package: IRanges\n",
      "\n",
      "Warning message:\n",
      "“package ‘IRanges’ was built under R version 4.2.3”\n",
      "\n",
      "Attaching package: ‘IRanges’\n",
      "\n",
      "\n",
      "The following object is masked from ‘package:lubridate’:\n",
      "\n",
      "    %within%\n",
      "\n",
      "\n",
      "The following objects are masked from ‘package:dplyr’:\n",
      "\n",
      "    collapse, desc, slice\n",
      "\n",
      "\n",
      "The following object is masked from ‘package:purrr’:\n",
      "\n",
      "    reduce\n",
      "\n",
      "\n",
      "Loading required package: GenomicRanges\n",
      "\n",
      "Warning message:\n",
      "“package ‘GenomicRanges’ was built under R version 4.2.3”\n",
      "Loading required package: GenomeInfoDb\n",
      "\n",
      "Warning message:\n",
      "“package ‘GenomeInfoDb’ was built under R version 4.2.3”\n",
      "Loading required package: SummarizedExperiment\n",
      "\n",
      "Warning message:\n",
      "“package ‘SummarizedExperiment’ was built under R version 4.2.2”\n",
      "Loading required package: MatrixGenerics\n",
      "\n",
      "Warning message:\n",
      "“package ‘MatrixGenerics’ was built under R version 4.2.1”\n",
      "Loading required package: matrixStats\n",
      "\n",
      "Warning message:\n",
      "“package ‘matrixStats’ was built under R version 4.2.3”\n",
      "\n",
      "Attaching package: ‘matrixStats’\n",
      "\n",
      "\n",
      "The following object is masked from ‘package:dplyr’:\n",
      "\n",
      "    count\n",
      "\n",
      "\n",
      "\n",
      "Attaching package: ‘MatrixGenerics’\n",
      "\n",
      "\n",
      "The following objects are masked from ‘package:matrixStats’:\n",
      "\n",
      "    colAlls, colAnyNAs, colAnys, colAvgsPerRowSet, colCollapse,\n",
      "    colCounts, colCummaxs, colCummins, colCumprods, colCumsums,\n",
      "    colDiffs, colIQRDiffs, colIQRs, colLogSumExps, colMadDiffs,\n",
      "    colMads, colMaxs, colMeans2, colMedians, colMins, colOrderStats,\n",
      "    colProds, colQuantiles, colRanges, colRanks, colSdDiffs, colSds,\n",
      "    colSums2, colTabulates, colVarDiffs, colVars, colWeightedMads,\n",
      "    colWeightedMeans, colWeightedMedians, colWeightedSds,\n",
      "    colWeightedVars, rowAlls, rowAnyNAs, rowAnys, rowAvgsPerColSet,\n",
      "    rowCollapse, rowCounts, rowCummaxs, rowCummins, rowCumprods,\n",
      "    rowCumsums, rowDiffs, rowIQRDiffs, rowIQRs, rowLogSumExps,\n",
      "    rowMadDiffs, rowMads, rowMaxs, rowMeans2, rowMedians, rowMins,\n",
      "    rowOrderStats, rowProds, rowQuantiles, rowRanges, rowRanks,\n",
      "    rowSdDiffs, rowSds, rowSums2, rowTabulates, rowVarDiffs, rowVars,\n",
      "    rowWeightedMads, rowWeightedMeans, rowWeightedMedians,\n",
      "    rowWeightedSds, rowWeightedVars\n",
      "\n",
      "\n",
      "Loading required package: Biobase\n",
      "\n",
      "Warning message:\n",
      "“package ‘Biobase’ was built under R version 4.2.3”\n",
      "Welcome to Bioconductor\n",
      "\n",
      "    Vignettes contain introductory material; view with\n",
      "    'browseVignettes()'. To cite Bioconductor, see\n",
      "    'citation(\"Biobase\")', and for packages 'citation(\"pkgname\")'.\n",
      "\n",
      "\n",
      "\n",
      "Attaching package: ‘Biobase’\n",
      "\n",
      "\n",
      "The following object is masked from ‘package:MatrixGenerics’:\n",
      "\n",
      "    rowMedians\n",
      "\n",
      "\n",
      "The following objects are masked from ‘package:matrixStats’:\n",
      "\n",
      "    anyMissing, rowMedians\n",
      "\n",
      "\n",
      "Warning message:\n",
      "“package ‘sva’ was built under R version 4.2.3”\n",
      "Loading required package: mgcv\n",
      "\n",
      "Loading required package: nlme\n",
      "\n",
      "\n",
      "Attaching package: ‘nlme’\n",
      "\n",
      "\n",
      "The following object is masked from ‘package:IRanges’:\n",
      "\n",
      "    collapse\n",
      "\n",
      "\n",
      "The following object is masked from ‘package:dplyr’:\n",
      "\n",
      "    collapse\n",
      "\n",
      "\n",
      "This is mgcv 1.9-0. For overview type 'help(\"mgcv-package\")'.\n",
      "\n",
      "Loading required package: genefilter\n",
      "\n",
      "\n",
      "Attaching package: ‘genefilter’\n",
      "\n",
      "\n",
      "The following objects are masked from ‘package:MatrixGenerics’:\n",
      "\n",
      "    rowSds, rowVars\n",
      "\n",
      "\n",
      "The following objects are masked from ‘package:matrixStats’:\n",
      "\n",
      "    rowSds, rowVars\n",
      "\n",
      "\n",
      "The following object is masked from ‘package:readr’:\n",
      "\n",
      "    spec\n",
      "\n",
      "\n",
      "Loading required package: BiocParallel\n",
      "\n",
      "Warning message:\n",
      "“package ‘gridExtra’ was built under R version 4.2.3”\n",
      "\n",
      "Attaching package: ‘gridExtra’\n",
      "\n",
      "\n",
      "The following object is masked from ‘package:Biobase’:\n",
      "\n",
      "    combine\n",
      "\n",
      "\n",
      "The following object is masked from ‘package:BiocGenerics’:\n",
      "\n",
      "    combine\n",
      "\n",
      "\n",
      "The following object is masked from ‘package:dplyr’:\n",
      "\n",
      "    combine\n",
      "\n",
      "\n",
      "\n",
      "Attaching package: ‘patchwork’\n",
      "\n",
      "\n",
      "The following object is masked from ‘package:genefilter’:\n",
      "\n",
      "    area\n",
      "\n",
      "\n",
      "Warning message:\n",
      "“package ‘umap’ was built under R version 4.2.3”\n",
      "Warning message:\n",
      "“package ‘ggsci’ was built under R version 4.2.3”\n",
      "Warning message:\n",
      "“package ‘viridis’ was built under R version 4.2.3”\n",
      "Loading required package: viridisLite\n",
      "\n",
      "Warning message:\n",
      "“package ‘viridisLite’ was built under R version 4.2.3”\n"
     ]
    }
   ],
   "source": [
    "library(tidyverse)\n",
    "library(DESeq2)\n",
    "library(sva)\n",
    "\n",
    "source(\"../../utils/plots_eda.R\")"
   ]
  },
  {
   "cell_type": "code",
   "execution_count": 2,
   "metadata": {
    "vscode": {
     "languageId": "r"
    }
   },
   "outputs": [
    {
     "data": {
      "text/plain": [
       "[1] ‘1.38.0’"
      ]
     },
     "metadata": {},
     "output_type": "display_data"
    },
    {
     "data": {
      "text/plain": [
       "[1] ‘3.46.0’"
      ]
     },
     "metadata": {},
     "output_type": "display_data"
    }
   ],
   "source": [
    "# version of DESeq2\n",
    "packageVersion(\"DESeq2\")\n",
    "\n",
    "# version of sva\n",
    "packageVersion(\"sva\")"
   ]
  },
  {
   "cell_type": "markdown",
   "metadata": {},
   "source": [
    "# Load data"
   ]
  },
  {
   "cell_type": "code",
   "execution_count": 3,
   "metadata": {
    "vscode": {
     "languageId": "r"
    }
   },
   "outputs": [],
   "source": [
    "datasets <- c(\"GSE129508\", \"GSE58135\", \"GSE149276\")"
   ]
  },
  {
   "cell_type": "code",
   "execution_count": 4,
   "metadata": {
    "vscode": {
     "languageId": "r"
    }
   },
   "outputs": [
    {
     "name": "stdout",
     "output_type": "stream",
     "text": [
      "[1] \"Removing sample GSM3714613 from GSE129508\"\n",
      "[1] \"Samples: 25; Features: 35238\"\n",
      "[1] \"Normalized Samples: 25; Features: 35238\"\n",
      "[1] \"..plotting..\"\n"
     ]
    },
    {
     "name": "stderr",
     "output_type": "stream",
     "text": [
      "Warning message:\n",
      "“\u001b[1m\u001b[22m`aes_string()` was deprecated in ggplot2 3.0.0.\n",
      "\u001b[36mℹ\u001b[39m Please use tidy evaluation idioms with `aes()`.\n",
      "\u001b[36mℹ\u001b[39m See also `vignette(\"ggplot2-in-packages\")` for more information.”\n",
      "No id variables; using all as measure variables\n",
      "\n"
     ]
    },
    {
     "name": "stdout",
     "output_type": "stream",
     "text": [
      "[1] \"Combined Samples: 25; Features: 35238\"\n",
      "[1] \" \"\n",
      "[1] \"Samples: 75; Features: 35238\"\n",
      "[1] \"Normalized Samples: 75; Features: 35238\"\n",
      "[1] \"..plotting..\"\n"
     ]
    },
    {
     "name": "stderr",
     "output_type": "stream",
     "text": [
      "No id variables; using all as measure variables\n",
      "\n"
     ]
    },
    {
     "name": "stdout",
     "output_type": "stream",
     "text": [
      "[1] \"Combined Samples: 100; Features: 35238\"\n",
      "[1] \" \"\n",
      "[1] \"Samples: 31; Features: 35238\"\n",
      "[1] \"Normalized Samples: 31; Features: 35238\"\n",
      "[1] \"..plotting..\"\n"
     ]
    },
    {
     "name": "stderr",
     "output_type": "stream",
     "text": [
      "No id variables; using all as measure variables\n",
      "\n"
     ]
    },
    {
     "name": "stdout",
     "output_type": "stream",
     "text": [
      "[1] \"Combined Samples: 131; Features: 35238\"\n",
      "[1] \" \"\n",
      "[1] \"Plotting combined data\"\n",
      "[1] \"..plotting..\"\n"
     ]
    },
    {
     "name": "stderr",
     "output_type": "stream",
     "text": [
      "No id variables; using all as measure variables\n",
      "\n"
     ]
    }
   ],
   "source": [
    "all_expression <- NULL\n",
    "all_metadata <- NULL\n",
    "\n",
    "for(dataset in datasets){\n",
    "    metadata <- read.table(paste0(\"before/\", dataset, \"/\", dataset, \".sample_info.tsv\"), header = TRUE, sep = \"\\t\")\n",
    "    expr_data <- read.table(paste0(\"before/\", dataset, \"/\", dataset, \".counts.tsv\"), header = TRUE, sep = \"\\t\")\n",
    "\n",
    "\n",
    "    # if sample GCSM3714613 is in expression or metadata, remove it\n",
    "    if(\"GSM3714613\" %in% colnames(expr_data)){\n",
    "        print(paste0(\"Removing sample GSM3714613 from \", dataset))\n",
    "        expr_data <- expr_data[, -which(colnames(expr_data) == \"GSM3714613\")]\n",
    "        metadata <- metadata[metadata$sample_id != \"GSM3714613\",]\n",
    "    }\n",
    "    \n",
    "    metadata$Dataset <- dataset\n",
    "    metadata <- metadata %>% \n",
    "        mutate(Status = ifelse(Basal == 1, \"Basal\", \"Luminal\")) %>%\n",
    "            # ifelse(is_LumA == 1, \"LumA\", \"LumB\"))) %>%\n",
    "        mutate(Status = as.factor(Status))\n",
    "\n",
    "    print(paste0(\"Samples: \", nrow(metadata), \"; Features: \", nrow(expr_data)))\n",
    "\n",
    "    #########################################################################################################################\n",
    "    # Normalization # \n",
    "    # Create a DESeq2 dataset object\n",
    "    expr_data <- expr_data %>% column_to_rownames(\"gene_id\")\n",
    "\n",
    "    dds <- DESeqDataSetFromMatrix(countData = expr_data, colData = metadata, design = ~ Status)\n",
    "    # Normalize using median of ratios method\n",
    "    dds <- estimateSizeFactors(dds)\n",
    "    normalized_counts <- counts(dds, normalized = TRUE)\n",
    "    expr_data <- as.data.frame(normalized_counts) %>% \n",
    "        rownames_to_column(\"gene_id\")\n",
    "    print(paste0(\"Normalized Samples: \", nrow(metadata), \"; Features: \", nrow(expr_data)))\n",
    "\n",
    "    #########################################################################################################################\n",
    "    #  plot\n",
    "    plot_res <- plot_diagnostic(expr_data, metadata, dataset,\n",
    "                                log_transform = FALSE, with_rowname = FALSE)\n",
    "    layout <- (plot_res[[1]] + plot_res[[2]] ) / \n",
    "              (plot_res[[3]] )\n",
    "    ggsave(paste0(\"before/\", dataset, \"/diagnostic_plot.png\"), \n",
    "                plot = layout, width = 12, height = 12)\n",
    "\n",
    "    # save data\n",
    "    if(is.null(all_metadata)){\n",
    "        all_metadata <- metadata\n",
    "        all_expression <- expr_data\n",
    "    } else {        \n",
    "        all_metadata <- rbind(all_metadata, metadata)\n",
    "        all_expression <- full_join(all_expression, expr_data, by = \"gene_id\")\n",
    "    }\n",
    "    print(paste0(\"Combined Samples: \", nrow(all_metadata), \"; Features: \", nrow(all_expression)))\n",
    "    print(\" \")\n",
    "}\n",
    "\n",
    "# plot the combined data\n",
    "print(\"Plotting combined data\")\n",
    "plot_res <- plot_diagnostic(all_expression, all_metadata, \"Combined\")\n",
    "layout <- (plot_res[[1]] + plot_res[[2]] ) / \n",
    "          (plot_res[[3]] )\n",
    "ggsave(\"before/diagnostic_plot.png\", \n",
    "            plot = layout, width = 12, height = 12)"
   ]
  },
  {
   "cell_type": "markdown",
   "metadata": {},
   "source": [
    "# Correction"
   ]
  },
  {
   "cell_type": "code",
   "execution_count": 5,
   "metadata": {
    "vscode": {
     "languageId": "r"
    }
   },
   "outputs": [
    {
     "name": "stderr",
     "output_type": "stream",
     "text": [
      "\u001b[1m\u001b[22m`summarise()` has grouped output by 'Dataset'. You can override using the\n",
      "`.groups` argument.\n"
     ]
    },
    {
     "data": {
      "text/html": [
       "<table class=\"dataframe\">\n",
       "<caption>A grouped_df: 6 × 3</caption>\n",
       "<thead>\n",
       "\t<tr><th scope=col>Dataset</th><th scope=col>Status</th><th scope=col>n()</th></tr>\n",
       "\t<tr><th scope=col>&lt;chr&gt;</th><th scope=col>&lt;fct&gt;</th><th scope=col>&lt;int&gt;</th></tr>\n",
       "</thead>\n",
       "<tbody>\n",
       "\t<tr><td>GSE129508</td><td>Basal  </td><td> 4</td></tr>\n",
       "\t<tr><td>GSE129508</td><td>Luminal</td><td>21</td></tr>\n",
       "\t<tr><td>GSE149276</td><td>Basal  </td><td>17</td></tr>\n",
       "\t<tr><td>GSE149276</td><td>Luminal</td><td>14</td></tr>\n",
       "\t<tr><td>GSE58135 </td><td>Basal  </td><td>36</td></tr>\n",
       "\t<tr><td>GSE58135 </td><td>Luminal</td><td>39</td></tr>\n",
       "</tbody>\n",
       "</table>\n"
      ],
      "text/latex": [
       "A grouped\\_df: 6 × 3\n",
       "\\begin{tabular}{lll}\n",
       " Dataset & Status & n()\\\\\n",
       " <chr> & <fct> & <int>\\\\\n",
       "\\hline\n",
       "\t GSE129508 & Basal   &  4\\\\\n",
       "\t GSE129508 & Luminal & 21\\\\\n",
       "\t GSE149276 & Basal   & 17\\\\\n",
       "\t GSE149276 & Luminal & 14\\\\\n",
       "\t GSE58135  & Basal   & 36\\\\\n",
       "\t GSE58135  & Luminal & 39\\\\\n",
       "\\end{tabular}\n"
      ],
      "text/markdown": [
       "\n",
       "A grouped_df: 6 × 3\n",
       "\n",
       "| Dataset &lt;chr&gt; | Status &lt;fct&gt; | n() &lt;int&gt; |\n",
       "|---|---|---|\n",
       "| GSE129508 | Basal   |  4 |\n",
       "| GSE129508 | Luminal | 21 |\n",
       "| GSE149276 | Basal   | 17 |\n",
       "| GSE149276 | Luminal | 14 |\n",
       "| GSE58135  | Basal   | 36 |\n",
       "| GSE58135  | Luminal | 39 |\n",
       "\n"
      ],
      "text/plain": [
       "  Dataset   Status  n()\n",
       "1 GSE129508 Basal    4 \n",
       "2 GSE129508 Luminal 21 \n",
       "3 GSE149276 Basal   17 \n",
       "4 GSE149276 Luminal 14 \n",
       "5 GSE58135  Basal   36 \n",
       "6 GSE58135  Luminal 39 "
      ]
     },
     "metadata": {},
     "output_type": "display_data"
    }
   ],
   "source": [
    "all_metadata %>%\n",
    "    group_by(Dataset, Status) %>% summarise(n())"
   ]
  },
  {
   "cell_type": "code",
   "execution_count": 6,
   "metadata": {
    "vscode": {
     "languageId": "r"
    }
   },
   "outputs": [
    {
     "data": {
      "text/html": [
       "<table class=\"dataframe\">\n",
       "<caption>A tibble: 3 × 2</caption>\n",
       "<thead>\n",
       "\t<tr><th scope=col>Dataset</th><th scope=col>n()</th></tr>\n",
       "\t<tr><th scope=col>&lt;chr&gt;</th><th scope=col>&lt;int&gt;</th></tr>\n",
       "</thead>\n",
       "<tbody>\n",
       "\t<tr><td>GSE129508</td><td>25</td></tr>\n",
       "\t<tr><td>GSE149276</td><td>31</td></tr>\n",
       "\t<tr><td>GSE58135 </td><td>75</td></tr>\n",
       "</tbody>\n",
       "</table>\n"
      ],
      "text/latex": [
       "A tibble: 3 × 2\n",
       "\\begin{tabular}{ll}\n",
       " Dataset & n()\\\\\n",
       " <chr> & <int>\\\\\n",
       "\\hline\n",
       "\t GSE129508 & 25\\\\\n",
       "\t GSE149276 & 31\\\\\n",
       "\t GSE58135  & 75\\\\\n",
       "\\end{tabular}\n"
      ],
      "text/markdown": [
       "\n",
       "A tibble: 3 × 2\n",
       "\n",
       "| Dataset &lt;chr&gt; | n() &lt;int&gt; |\n",
       "|---|---|\n",
       "| GSE129508 | 25 |\n",
       "| GSE149276 | 31 |\n",
       "| GSE58135  | 75 |\n",
       "\n"
      ],
      "text/plain": [
       "  Dataset   n()\n",
       "1 GSE129508 25 \n",
       "2 GSE149276 31 \n",
       "3 GSE58135  75 "
      ]
     },
     "metadata": {},
     "output_type": "display_data"
    }
   ],
   "source": [
    "all_metadata %>%\n",
    "    group_by(Dataset) %>% summarise(n())"
   ]
  },
  {
   "cell_type": "code",
   "execution_count": 7,
   "metadata": {
    "vscode": {
     "languageId": "r"
    }
   },
   "outputs": [
    {
     "name": "stdout",
     "output_type": "stream",
     "text": [
      "[1] \"Number of features before filtering: 35238\"\n"
     ]
    },
    {
     "name": "stdout",
     "output_type": "stream",
     "text": [
      "[1] \"Number of features after filtering: 35238\"\n",
      "[1] \"Number of samples: 131\"\n"
     ]
    }
   ],
   "source": [
    "print(paste0(\"Number of features before filtering: \", nrow(all_expression)))\n",
    "all_expression <- na.omit(all_expression)\n",
    "print(paste0(\"Number of features after filtering: \", nrow(all_expression)))\n",
    "print(paste0(\"Number of samples: \", nrow(all_metadata)))"
   ]
  },
  {
   "cell_type": "code",
   "execution_count": 8,
   "metadata": {
    "vscode": {
     "languageId": "r"
    }
   },
   "outputs": [
    {
     "name": "stdout",
     "output_type": "stream",
     "text": [
      "[1] \"Number of samples: 131\"\n",
      "[1] \"Number of features: 35238; Number of samples: 131\"\n"
     ]
    }
   ],
   "source": [
    "all_expression <- all_expression %>% column_to_rownames(\"gene_id\")\n",
    "all_expression <- all_expression[, all_metadata$sample_id]\n",
    "all_expression <- log2(all_expression + 1)\n",
    "print(paste0(\"Number of samples: \", nrow(all_metadata)))\n",
    "print(paste0(\"Number of features: \", nrow(all_expression), \"; Number of samples: \", ncol(all_expression)))"
   ]
  },
  {
   "cell_type": "code",
   "execution_count": 9,
   "metadata": {
    "vscode": {
     "languageId": "r"
    }
   },
   "outputs": [
    {
     "name": "stdout",
     "output_type": "stream",
     "text": [
      "Found 6415 genes with uniform expression within a single batch (all zeros); these will not be adjusted for batch.\n"
     ]
    },
    {
     "name": "stderr",
     "output_type": "stream",
     "text": [
      "Found3batches\n",
      "\n",
      "Adjusting for1covariate(s) or covariate level(s)\n",
      "\n",
      "Standardizing Data across genes\n",
      "\n",
      "Fitting L/S model and finding priors\n",
      "\n",
      "Finding parametric adjustments\n",
      "\n",
      "Adjusting the Data\n",
      "\n",
      "\n"
     ]
    },
    {
     "name": "stdout",
     "output_type": "stream",
     "text": [
      "[1] \"Plotting combined corrected data\"\n",
      "[1] \"..plotting..\"\n"
     ]
    },
    {
     "name": "stderr",
     "output_type": "stream",
     "text": [
      "No id variables; using all as measure variables\n",
      "\n"
     ]
    }
   ],
   "source": [
    "design <- model.matrix(~all_metadata$Status)\n",
    "\n",
    "corrected_expr <- sva::ComBat(dat = all_expression, \n",
    "                              batch = all_metadata$Dataset, \n",
    "                              mod = design)\n",
    "\n",
    "corrected_expr <- as.data.frame(corrected_expr)\n",
    "\n",
    "# plot the combined corrected data\n",
    "print(\"Plotting combined corrected data\")\n",
    "plot_res <- plot_diagnostic(corrected_expr, all_metadata, \"Combined Corrected\",\n",
    "                            log_transform = TRUE, with_rowname = TRUE)\n",
    "layout <- (plot_res[[1]] + plot_res[[2]] ) / \n",
    "          (plot_res[[3]] )\n",
    "ggsave(\"after/diagnostic_plot_corrected.png\", \n",
    "            plot = layout, width = 12, height = 12)\n"
   ]
  },
  {
   "cell_type": "markdown",
   "metadata": {},
   "source": [
    "# Save data for correction and after correction"
   ]
  },
  {
   "cell_type": "code",
   "execution_count": 10,
   "metadata": {
    "vscode": {
     "languageId": "r"
    }
   },
   "outputs": [
    {
     "name": "stdout",
     "output_type": "stream",
     "text": [
      "[1] \"Save data prior to batch correction for GSE129508\"\n",
      "[1] \"Save data prior to batch correction for GSE58135\"\n",
      "[1] \"Save data prior to batch correction for GSE149276\"\n"
     ]
    }
   ],
   "source": [
    "all_metadata$batch <- as.numeric(as.factor(all_metadata$Dataset)) - 1\n",
    "# all_metadata$batch <- 0\n",
    "all_metadata$lum <- as.numeric(as.factor(all_metadata$Status))\n",
    "all_metadata$lum = all_metadata$lum - 1\n",
    "\n",
    "for (dataset in unique(all_metadata$Dataset)) {\n",
    "    print(paste0(\"Save data prior to batch correction for \", dataset))\n",
    "    dataset_metadata <- all_metadata[all_metadata$Dataset == dataset,]\n",
    "    dataset_metadata <- dataset_metadata %>% select(sample_id, lum, batch)\n",
    "    \n",
    "    dataset_expression <- all_expression[, dataset_metadata$sample_id]\n",
    "    dataset_expression <- dataset_expression %>% rownames_to_column(\"gene_id\")\n",
    "    \n",
    "    write.table(dataset_metadata, \n",
    "        file = paste0(\"before/\", dataset, \"/design.tsv\"), sep = \"\\t\", quote = FALSE, row.names = FALSE)\n",
    "    write.table(dataset_expression, \n",
    "        file = paste0(\"before/\", dataset, \"/expr_for_correction.tsv\"), sep = \"\\t\", quote = FALSE, row.names = FALSE)\n",
    "\n",
    "}\n",
    "\n",
    "write.table(all_metadata %>% select(sample_id, lum, batch), \n",
    "    file = \"before/all_design.tsv\", sep = \"\\t\", quote = FALSE, row.names = FALSE)\n",
    "write.table(all_expression %>% rownames_to_column(\"gene_id\"),\n",
    "    file = \"before/all_expr_for_correction.tsv\", sep = \"\\t\", quote = FALSE, row.names = FALSE)\n",
    "write.table(corrected_expr %>% rownames_to_column(\"gene_id\"),\n",
    "    file = \"after/all_corrected_R_expr.tsv\", sep = \"\\t\", quote = FALSE, row.names = FALSE)"
   ]
  },
  {
   "cell_type": "markdown",
   "metadata": {},
   "source": [
    "# Fed Correction ...\n",
    "\n",
    "... after FC app ..."
   ]
  },
  {
   "cell_type": "code",
   "execution_count": 12,
   "metadata": {
    "vscode": {
     "languageId": "r"
    }
   },
   "outputs": [
    {
     "name": "stdout",
     "output_type": "stream",
     "text": [
      "[1] \"Samples: 26; Features: 35238\"\n",
      "[1] \"Combined Samples: 26; Features: 35238\"\n",
      "[1] \" \"\n",
      "[1] \"Samples: 32; Features: 35238\"\n",
      "[1] \"Combined Samples: 57; Features: 35238\"\n",
      "[1] \" \"\n",
      "[1] \"Samples: 76; Features: 35238\"\n",
      "[1] \"Combined Samples: 132; Features: 35238\"\n",
      "[1] \" \"\n"
     ]
    }
   ],
   "source": [
    "fed_expression <- NULL\n",
    "\n",
    "path_to_fed <- \"/home/yuliya/repos/cosybio/FedComBat/datasets/Breast_cancer_RNASeq/after/fed_res/\"\n",
    "\n",
    "for(i in 0:2){\n",
    "    expr_data <- read.table(paste0(path_to_fed, i, \"_bayes_data.csv\"), header = TRUE, sep = \",\")\n",
    "    print(paste0(\"Samples: \", ncol(expr_data), \"; Features: \", nrow(expr_data)))\n",
    "    # save data\n",
    "    if(is.null(fed_expression)){\n",
    "        fed_expression <- expr_data\n",
    "    } else {        \n",
    "        fed_expression <- full_join(fed_expression, expr_data, by = \"gene_id\")\n",
    "    }\n",
    "    print(paste0(\"Combined Samples: \", ncol(fed_expression), \"; Features: \", nrow(fed_expression)))\n",
    "    print(\" \")\n",
    "}\n"
   ]
  },
  {
   "cell_type": "code",
   "execution_count": 15,
   "metadata": {
    "vscode": {
     "languageId": "r"
    }
   },
   "outputs": [
    {
     "name": "stdout",
     "output_type": "stream",
     "text": [
      "[1] \"Plotting combined data\"\n"
     ]
    },
    {
     "name": "stdout",
     "output_type": "stream",
     "text": [
      "[1] \"..plotting..\"\n"
     ]
    },
    {
     "name": "stderr",
     "output_type": "stream",
     "text": [
      "No id variables; using all as measure variables\n",
      "\n"
     ]
    }
   ],
   "source": [
    "\n",
    "fed_expression <- fed_expression %>% column_to_rownames(\"gene_id\") \n",
    "fed_expression <- fed_expression[, all_metadata$sample_id]\n",
    "\n",
    "# plot the combined data\n",
    "print(\"Plotting combined data\")\n",
    "plot_res <- plot_diagnostic(fed_expression, all_metadata, \"FedCombat corrected\",\n",
    "                            log_transform = TRUE, with_rowname = TRUE)\n",
    "layout <- (plot_res[[1]] + plot_res[[2]] ) / \n",
    "          (plot_res[[3]] )\n",
    "ggsave(\"after/diagnostic_plot_correcter_Fed.png\", \n",
    "            plot = layout, width = 12, height = 12)"
   ]
  },
  {
   "cell_type": "markdown",
   "metadata": {},
   "source": [
    "# Min Max and mean absolute error"
   ]
  },
  {
   "cell_type": "code",
   "execution_count": 17,
   "metadata": {
    "vscode": {
     "languageId": "r"
    }
   },
   "outputs": [],
   "source": [
    "corrected_expr <- as.data.frame(corrected_expr)\n",
    "fed_expression <- fed_expression[rownames(corrected_expr), colnames(corrected_expr)]"
   ]
  },
  {
   "cell_type": "code",
   "execution_count": 29,
   "metadata": {
    "vscode": {
     "languageId": "r"
    }
   },
   "outputs": [
    {
     "name": "stdout",
     "output_type": "stream",
     "text": [
      "[1] \"Min difference: 0\"\n",
      "[1] \"Mean difference: 0.38892337828645\"\n",
      "[1] \"Max difference: 3.58996554293112\"\n"
     ]
    }
   ],
   "source": [
    "# Calculate value-to-value mean, max, and mean absolute difference\n",
    "mean_diff <- mean(as.matrix(abs(corrected_expr - fed_expression), na.rm = TRUE))\n",
    "max_diff <- max(abs(corrected_expr - fed_expression), na.rm = TRUE)\n",
    "min_diff <- min(abs(corrected_expr - fed_expression), na.rm = TRUE)\n",
    "\n",
    "print(paste0(\"Min difference: \", min_diff))\n",
    "print(paste0(\"Mean difference: \", mean_diff))\n",
    "print(paste0(\"Max difference: \", max_diff))\n"
   ]
  },
  {
   "cell_type": "code",
   "execution_count": 35,
   "metadata": {
    "vscode": {
     "languageId": "r"
    }
   },
   "outputs": [
    {
     "data": {
      "image/png": "[encoded data removed]",
      "text/plain": [
       "Plot with title “Boxplot of Differences”"
      ]
     },
     "metadata": {
      "image/png": {
       "height": 420,
       "width": 420
      }
     },
     "output_type": "display_data"
    }
   ],
   "source": [
    "boxplot(abs(as.numeric(unlist(corrected_expr)) - as.numeric(unlist(fed_expression))),\n",
    "        main = \"Boxplot of Differences\", xlab = \"Absolute Differences\",\n",
    "        # add values to the plot - for the mean and the median\n",
    "        horizontal = TRUE)"
   ]
  },
  {
   "cell_type": "code",
   "execution_count": null,
   "metadata": {
    "vscode": {
     "languageId": "r"
    }
   },
   "outputs": [],
   "source": []
  }
 ],
 "metadata": {
  "kernelspec": {
   "display_name": "R",
   "language": "R",
   "name": "ir"
  },
  "language_info": {
   "codemirror_mode": "r",
   "file_extension": ".r",
   "mimetype": "text/x-r-source",
   "name": "R",
   "pygments_lexer": "r",
   "version": "4.2.0"
  }
 },
 "nbformat": 4,
 "nbformat_minor": 2
}
