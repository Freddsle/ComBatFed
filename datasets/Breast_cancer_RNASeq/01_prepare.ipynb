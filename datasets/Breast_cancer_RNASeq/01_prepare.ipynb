{
 "cells": [
  {
   "cell_type": "code",
   "execution_count": 19,
   "metadata": {
    "vscode": {
     "languageId": "r"
    }
   },
   "outputs": [],
   "source": [
    "library(tidyverse)\n",
    "library(DESeq2)\n",
    "library(sva)\n",
    "\n",
    "source(\"../../utils/plots_eda.R\")"
   ]
  },
  {
   "cell_type": "markdown",
   "metadata": {},
   "source": [
    "# Load data"
   ]
  },
  {
   "cell_type": "code",
   "execution_count": 20,
   "metadata": {
    "vscode": {
     "languageId": "r"
    }
   },
   "outputs": [],
   "source": [
    "datasets <- c(\"GSE129508\", \"GSE58135\", \"GSE149276\")"
   ]
  },
  {
   "cell_type": "code",
   "execution_count": 21,
   "metadata": {
    "vscode": {
     "languageId": "r"
    }
   },
   "outputs": [
    {
     "name": "stdout",
     "output_type": "stream",
     "text": [
      "[1] \"Removing sample GSM3714613 from GSE129508\"\n",
      "[1] \"Samples: 25; Features: 35238\"\n",
      "[1] \"Normalized Samples: 25; Features: 30174\"\n",
      "[1] \"Combined Samples: 25; Features: 30174\"\n",
      "[1] \" \"\n",
      "[1] \"Samples: 75; Features: 35238\"\n",
      "[1] \"Normalized Samples: 75; Features: 34675\"\n",
      "[1] \"Combined Samples: 100; Features: 34784\"\n",
      "[1] \" \"\n",
      "[1] \"Samples: 31; Features: 35238\"\n",
      "[1] \"Normalized Samples: 31; Features: 31377\"\n",
      "[1] \"Combined Samples: 131; Features: 34818\"\n",
      "[1] \" \"\n"
     ]
    }
   ],
   "source": [
    "all_expression <- NULL\n",
    "raw_expression <- NULL\n",
    "all_metadata <- NULL\n",
    "\n",
    "for(dataset in datasets){\n",
    "    metadata <- read.table(paste0(\"before/\", dataset, \"/\", dataset, \".sample_info.tsv\"), header = TRUE, sep = \"\\t\")\n",
    "    expr_data <- read.table(paste0(\"before/\", dataset, \"/\", dataset, \".counts.tsv\"), header = TRUE, sep = \"\\t\")\n",
    "\n",
    "\n",
    "    # if sample GCSM3714613 is in expression or metadata, remove it\n",
    "    if(\"GSM3714613\" %in% colnames(expr_data)){\n",
    "        print(paste0(\"Removing sample GSM3714613 from \", dataset))\n",
    "        expr_data <- expr_data[, -which(colnames(expr_data) == \"GSM3714613\")]\n",
    "        metadata <- metadata[metadata$sample_id != \"GSM3714613\",]\n",
    "    }\n",
    "    \n",
    "    metadata$Dataset <- dataset\n",
    "    metadata <- metadata %>% \n",
    "        mutate(Status = ifelse(Basal == 1, \"Basal\", \"Luminal\")) %>%\n",
    "            # ifelse(is_LumA == 1, \"LumA\", \"LumB\"))) %>%\n",
    "        mutate(Status = as.factor(Status))\n",
    "\n",
    "    print(paste0(\"Samples: \", nrow(metadata), \"; Features: \", nrow(expr_data)))\n",
    "\n",
    "    #########################################################################################################################\n",
    "    # Normalization # \n",
    "    # Create a DESeq2 dataset object\n",
    "    expr_data <- expr_data %>% column_to_rownames(\"gene_id\")\n",
    "\n",
    "    # srop rows with only zeros\n",
    "    expr_data <- expr_data[rowSums(expr_data) > 0,]\n",
    "\n",
    "    dds <- DESeqDataSetFromMatrix(countData = expr_data, colData = metadata, design = ~ Status)\n",
    "    # Normalize using median of ratios method\n",
    "    dds <- estimateSizeFactors(dds)\n",
    "    normalized_counts <- counts(dds, normalized = TRUE)\n",
    "    \n",
    "    norm_expr <- as.data.frame(normalized_counts) %>% \n",
    "        rownames_to_column(\"gene_id\")\n",
    "    print(paste0(\"Normalized Samples: \", nrow(metadata), \"; Features: \", nrow(norm_expr)))\n",
    "\n",
    "    #########################################################################################################################\n",
    "    #  plot\n",
    "    # plot_res <- plot_diagnostic(norm_expr, metadata, dataset,\n",
    "    #                             log_transform = FALSE, with_rowname = FALSE)\n",
    "    # layout <- (plot_res[[1]] + plot_res[[2]] ) / \n",
    "    #           (plot_res[[3]] )\n",
    "    # ggsave(paste0(\"before/\", dataset, \"/diagnostic_plot.png\"), \n",
    "    #             plot = layout, width = 12, height = 12)\n",
    "\n",
    "    # save data\n",
    "    if(is.null(all_metadata)){\n",
    "        all_metadata <- metadata\n",
    "        all_expression <- norm_expr\n",
    "        raw_expression <- expr_data %>% rownames_to_column(\"gene_id\")\n",
    "    } else {        \n",
    "        all_metadata <- rbind(all_metadata, metadata)\n",
    "        all_expression <- full_join(all_expression, norm_expr, by = \"gene_id\")\n",
    "        raw_expression <- inner_join(raw_expression, expr_data %>% rownames_to_column(\"gene_id\"), by = \"gene_id\")\n",
    "    }\n",
    "    print(paste0(\"Combined Samples: \", nrow(all_metadata), \"; Features: \", nrow(all_expression)))\n",
    "    print(\" \")\n",
    "}\n",
    "\n",
    "# # plot the combined data\n",
    "# print(\"Plotting combined data\")\n",
    "# plot_res <- plot_diagnostic(all_expression, all_metadata, \"Combined\")\n",
    "# layout <- (plot_res[[1]] + plot_res[[2]] ) / \n",
    "#           (plot_res[[3]] )\n",
    "# ggsave(\"before/diagnostic_plot.png\", \n",
    "#             plot = layout, width = 12, height = 12)"
   ]
  },
  {
   "cell_type": "markdown",
   "metadata": {},
   "source": [
    "# Save data for correction and after correction"
   ]
  },
  {
   "cell_type": "code",
   "execution_count": 22,
   "metadata": {
    "vscode": {
     "languageId": "r"
    }
   },
   "outputs": [
    {
     "name": "stdout",
     "output_type": "stream",
     "text": [
      "[1] \"Save data prior to batch correction for GSE129508\"\n",
      "[1] \"Samples: 25; Features: 30174\"\n",
      "[1] \"Save data prior to batch correction for GSE58135\"\n",
      "[1] \"Samples: 75; Features: 34675\"\n",
      "[1] \"Save data prior to batch correction for GSE149276\"\n",
      "[1] \"Samples: 31; Features: 31377\"\n"
     ]
    }
   ],
   "source": [
    "all_metadata$batch <- as.numeric(as.factor(all_metadata$Dataset)) - 1\n",
    "# all_metadata$batch <- 0\n",
    "all_metadata$lum <- as.numeric(as.factor(all_metadata$Status))\n",
    "all_metadata$lum = all_metadata$lum - 1\n",
    "\n",
    "all_expression <- all_expression %>% \n",
    "    column_to_rownames(\"gene_id\")\n",
    "\n",
    "for (dataset in unique(all_metadata$Dataset)) {\n",
    "    print(paste0(\"Save data prior to batch correction for \", dataset))\n",
    "    dataset_metadata <- all_metadata[all_metadata$Dataset == dataset,]\n",
    "    dataset_metadata <- dataset_metadata %>% select(sample_id, lum, batch)\n",
    "    \n",
    "    dataset_expression <- all_expression[, dataset_metadata$sample_id]\n",
    "    dataset_expression <- na.omit(dataset_expression)\n",
    "    dataset_expression <- log2(dataset_expression + 1)\n",
    "    dataset_expression <- dataset_expression[apply(dataset_expression, 1, var) > 0, ]\n",
    "\n",
    "    dataset_expression <- dataset_expression %>% rownames_to_column(\"gene_id\")\n",
    "    print(paste0(\"Samples: \", nrow(dataset_metadata), \"; Features: \", nrow(dataset_expression)))\n",
    "    \n",
    "    write.table(dataset_metadata, \n",
    "        file = paste0(\"before/\", dataset, \"/design.tsv\"), sep = \"\\t\", quote = FALSE, row.names = FALSE)\n",
    "    write.table(dataset_expression, \n",
    "        file = paste0(\"before/\", dataset, \"/expr_for_correction.tsv\"), sep = \"\\t\", quote = FALSE, row.names = FALSE)\n",
    "\n",
    "}\n",
    "\n",
    "all_expression <- na.omit(all_expression)\n",
    "all_expression <- log2(all_expression + 1)\n",
    "all_expression <- all_expression[apply(all_expression, 1, var) > 0, ]\n",
    "all_expression <- all_expression[, all_metadata$sample_id]\n",
    "\n",
    "write.table(all_metadata %>% select(sample_id, lum, batch), \n",
    "    file = \"before/all_design.tsv\", sep = \"\\t\", quote = FALSE, row.names = FALSE)\n",
    "write.table(all_expression %>% rownames_to_column(\"gene_id\"),\n",
    "    file = \"before/all_expr_for_correction.tsv\", sep = \"\\t\", quote = FALSE, row.names = FALSE)"
   ]
  },
  {
   "cell_type": "code",
   "execution_count": null,
   "metadata": {
    "vscode": {
     "languageId": "r"
    }
   },
   "outputs": [],
   "source": []
  },
  {
   "cell_type": "code",
   "execution_count": null,
   "metadata": {
    "vscode": {
     "languageId": "r"
    }
   },
   "outputs": [],
   "source": []
  },
  {
   "cell_type": "code",
   "execution_count": null,
   "metadata": {
    "vscode": {
     "languageId": "r"
    }
   },
   "outputs": [],
   "source": []
  },
  {
   "cell_type": "code",
   "execution_count": null,
   "metadata": {
    "vscode": {
     "languageId": "r"
    }
   },
   "outputs": [],
   "source": []
  },
  {
   "cell_type": "code",
   "execution_count": null,
   "metadata": {
    "vscode": {
     "languageId": "r"
    }
   },
   "outputs": [],
   "source": []
  },
  {
   "cell_type": "code",
   "execution_count": null,
   "metadata": {
    "vscode": {
     "languageId": "r"
    }
   },
   "outputs": [],
   "source": []
  }
 ],
 "metadata": {
  "kernelspec": {
   "display_name": "R",
   "language": "R",
   "name": "ir"
  },
  "language_info": {
   "codemirror_mode": "r",
   "file_extension": ".r",
   "mimetype": "text/x-r-source",
   "name": "R",
   "pygments_lexer": "r",
   "version": "4.4.2"
  }
 },
 "nbformat": 4,
 "nbformat_minor": 2
}
