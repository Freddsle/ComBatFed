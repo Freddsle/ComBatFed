{
 "cells": [
  {
   "cell_type": "code",
   "execution_count": 1,
   "metadata": {
    "vscode": {
     "languageId": "r"
    }
   },
   "outputs": [
    {
     "name": "stderr",
     "output_type": "stream",
     "text": [
      "── \u001b[1mAttaching core tidyverse packages\u001b[22m ──────────────────────── tidyverse 2.0.0 ──\n",
      "\u001b[32m✔\u001b[39m \u001b[34mdplyr    \u001b[39m 1.1.4     \u001b[32m✔\u001b[39m \u001b[34mreadr    \u001b[39m 2.1.5\n",
      "\u001b[32m✔\u001b[39m \u001b[34mforcats  \u001b[39m 1.0.0     \u001b[32m✔\u001b[39m \u001b[34mstringr  \u001b[39m 1.5.1\n",
      "\u001b[32m✔\u001b[39m \u001b[34mggplot2  \u001b[39m 3.5.1     \u001b[32m✔\u001b[39m \u001b[34mtibble   \u001b[39m 3.2.1\n",
      "\u001b[32m✔\u001b[39m \u001b[34mlubridate\u001b[39m 1.9.4     \u001b[32m✔\u001b[39m \u001b[34mtidyr    \u001b[39m 1.3.1\n",
      "\u001b[32m✔\u001b[39m \u001b[34mpurrr    \u001b[39m 1.0.4     \n",
      "── \u001b[1mConflicts\u001b[22m ────────────────────────────────────────── tidyverse_conflicts() ──\n",
      "\u001b[31m✖\u001b[39m \u001b[34mdplyr\u001b[39m::\u001b[32mfilter()\u001b[39m masks \u001b[34mstats\u001b[39m::filter()\n",
      "\u001b[31m✖\u001b[39m \u001b[34mdplyr\u001b[39m::\u001b[32mlag()\u001b[39m    masks \u001b[34mstats\u001b[39m::lag()\n",
      "\u001b[36mℹ\u001b[39m Use the conflicted package (\u001b[3m\u001b[34m<http://conflicted.r-lib.org/>\u001b[39m\u001b[23m) to force all conflicts to become errors\n",
      "Loading required package: S4Vectors\n",
      "\n",
      "Loading required package: stats4\n",
      "\n",
      "Loading required package: BiocGenerics\n",
      "\n",
      "\n",
      "Attaching package: ‘BiocGenerics’\n",
      "\n",
      "\n",
      "The following objects are masked from ‘package:lubridate’:\n",
      "\n",
      "    intersect, setdiff, union\n",
      "\n",
      "\n",
      "The following objects are masked from ‘package:dplyr’:\n",
      "\n",
      "    combine, intersect, setdiff, union\n",
      "\n",
      "\n",
      "The following objects are masked from ‘package:stats’:\n",
      "\n",
      "    IQR, mad, sd, var, xtabs\n",
      "\n",
      "\n",
      "The following objects are masked from ‘package:base’:\n",
      "\n",
      "    anyDuplicated, aperm, append, as.data.frame, basename, cbind,\n",
      "    colnames, dirname, do.call, duplicated, eval, evalq, Filter, Find,\n",
      "    get, grep, grepl, intersect, is.unsorted, lapply, Map, mapply,\n",
      "    match, mget, order, paste, pmax, pmax.int, pmin, pmin.int,\n",
      "    Position, rank, rbind, Reduce, rownames, sapply, saveRDS, setdiff,\n",
      "    table, tapply, union, unique, unsplit, which.max, which.min\n",
      "\n",
      "\n",
      "\n",
      "Attaching package: ‘S4Vectors’\n",
      "\n",
      "\n",
      "The following objects are masked from ‘package:lubridate’:\n",
      "\n",
      "    second, second<-\n",
      "\n",
      "\n",
      "The following objects are masked from ‘package:dplyr’:\n",
      "\n",
      "    first, rename\n",
      "\n",
      "\n",
      "The following object is masked from ‘package:tidyr’:\n",
      "\n",
      "    expand\n",
      "\n",
      "\n",
      "The following object is masked from ‘package:utils’:\n",
      "\n",
      "    findMatches\n",
      "\n",
      "\n",
      "The following objects are masked from ‘package:base’:\n",
      "\n",
      "    expand.grid, I, unname\n",
      "\n",
      "\n",
      "Loading required package: IRanges\n",
      "\n",
      "\n",
      "Attaching package: ‘IRanges’\n",
      "\n",
      "\n",
      "The following object is masked from ‘package:lubridate’:\n",
      "\n",
      "    %within%\n",
      "\n",
      "\n",
      "The following objects are masked from ‘package:dplyr’:\n",
      "\n",
      "    collapse, desc, slice\n",
      "\n",
      "\n",
      "The following object is masked from ‘package:purrr’:\n",
      "\n",
      "    reduce\n",
      "\n",
      "\n",
      "Loading required package: GenomicRanges\n",
      "\n",
      "Loading required package: GenomeInfoDb\n",
      "\n",
      "Loading required package: SummarizedExperiment\n",
      "\n",
      "Loading required package: MatrixGenerics\n",
      "\n",
      "Loading required package: matrixStats\n",
      "\n",
      "\n",
      "Attaching package: ‘matrixStats’\n",
      "\n",
      "\n",
      "The following object is masked from ‘package:dplyr’:\n",
      "\n",
      "    count\n",
      "\n",
      "\n",
      "\n",
      "Attaching package: ‘MatrixGenerics’\n",
      "\n",
      "\n",
      "The following objects are masked from ‘package:matrixStats’:\n",
      "\n",
      "    colAlls, colAnyNAs, colAnys, colAvgsPerRowSet, colCollapse,\n",
      "    colCounts, colCummaxs, colCummins, colCumprods, colCumsums,\n",
      "    colDiffs, colIQRDiffs, colIQRs, colLogSumExps, colMadDiffs,\n",
      "    colMads, colMaxs, colMeans2, colMedians, colMins, colOrderStats,\n",
      "    colProds, colQuantiles, colRanges, colRanks, colSdDiffs, colSds,\n",
      "    colSums2, colTabulates, colVarDiffs, colVars, colWeightedMads,\n",
      "    colWeightedMeans, colWeightedMedians, colWeightedSds,\n",
      "    colWeightedVars, rowAlls, rowAnyNAs, rowAnys, rowAvgsPerColSet,\n",
      "    rowCollapse, rowCounts, rowCummaxs, rowCummins, rowCumprods,\n",
      "    rowCumsums, rowDiffs, rowIQRDiffs, rowIQRs, rowLogSumExps,\n",
      "    rowMadDiffs, rowMads, rowMaxs, rowMeans2, rowMedians, rowMins,\n",
      "    rowOrderStats, rowProds, rowQuantiles, rowRanges, rowRanks,\n",
      "    rowSdDiffs, rowSds, rowSums2, rowTabulates, rowVarDiffs, rowVars,\n",
      "    rowWeightedMads, rowWeightedMeans, rowWeightedMedians,\n",
      "    rowWeightedSds, rowWeightedVars\n",
      "\n",
      "\n",
      "Loading required package: Biobase\n",
      "\n",
      "Welcome to Bioconductor\n",
      "\n",
      "    Vignettes contain introductory material; view with\n",
      "    'browseVignettes()'. To cite Bioconductor, see\n",
      "    'citation(\"Biobase\")', and for packages 'citation(\"pkgname\")'.\n",
      "\n",
      "\n",
      "\n",
      "Attaching package: ‘Biobase’\n",
      "\n",
      "\n",
      "The following object is masked from ‘package:MatrixGenerics’:\n",
      "\n",
      "    rowMedians\n",
      "\n",
      "\n",
      "The following objects are masked from ‘package:matrixStats’:\n",
      "\n",
      "    anyMissing, rowMedians\n",
      "\n",
      "\n",
      "Loading required package: mgcv\n",
      "\n",
      "Loading required package: nlme\n",
      "\n",
      "\n",
      "Attaching package: ‘nlme’\n",
      "\n",
      "\n",
      "The following object is masked from ‘package:IRanges’:\n",
      "\n",
      "    collapse\n",
      "\n",
      "\n",
      "The following object is masked from ‘package:dplyr’:\n",
      "\n",
      "    collapse\n",
      "\n",
      "\n",
      "This is mgcv 1.9-1. For overview type 'help(\"mgcv-package\")'.\n",
      "\n",
      "Loading required package: genefilter\n",
      "\n",
      "\n",
      "Attaching package: ‘genefilter’\n",
      "\n",
      "\n",
      "The following objects are masked from ‘package:MatrixGenerics’:\n",
      "\n",
      "    rowSds, rowVars\n",
      "\n",
      "\n",
      "The following objects are masked from ‘package:matrixStats’:\n",
      "\n",
      "    rowSds, rowVars\n",
      "\n",
      "\n",
      "The following object is masked from ‘package:readr’:\n",
      "\n",
      "    spec\n",
      "\n",
      "\n",
      "Loading required package: BiocParallel\n",
      "\n",
      "\n",
      "Attaching package: ‘gridExtra’\n",
      "\n",
      "\n",
      "The following object is masked from ‘package:Biobase’:\n",
      "\n",
      "    combine\n",
      "\n",
      "\n",
      "The following object is masked from ‘package:BiocGenerics’:\n",
      "\n",
      "    combine\n",
      "\n",
      "\n",
      "The following object is masked from ‘package:dplyr’:\n",
      "\n",
      "    combine\n",
      "\n",
      "\n",
      "\n",
      "Attaching package: ‘patchwork’\n",
      "\n",
      "\n",
      "The following object is masked from ‘package:genefilter’:\n",
      "\n",
      "    area\n",
      "\n",
      "\n",
      "Loading required package: viridisLite\n",
      "\n"
     ]
    }
   ],
   "source": [
    "library(tidyverse)\n",
    "library(DESeq2)\n",
    "library(sva)\n",
    "\n",
    "source(\"../../utils/plots_eda.R\")"
   ]
  },
  {
   "cell_type": "markdown",
   "metadata": {},
   "source": [
    "# Fed Correction ...\n",
    "\n",
    "... after FC app ..."
   ]
  },
  {
   "cell_type": "code",
   "execution_count": null,
   "metadata": {
    "vscode": {
     "languageId": "r"
    }
   },
   "outputs": [],
   "source": [
    "path_to_fed <- \"/home/yuliya/repos/cosybio/FedComBat/datasets/Breast_cancer_RNASeq/after/fed_res/\"\n",
    "zip_files <- list.files(path = path_to_fed, pattern = \"\\\\.zip$\", full.names = TRUE)\n",
    "\n",
    "for(i in seq_along(zip_files)) {\n",
    "  zipfile <- zip_files[i]\n",
    "  zip_contents <- unzip(zipfile, list = TRUE)$Name\n",
    "  csv_files <- zip_contents[grepl(\"\\\\.csv$\", zip_contents, ignore.case = TRUE)]\n",
    "  \n",
    "  # If no CSV file is found, skip this zip\n",
    "  if(length(csv_files) == 0) {\n",
    "    warning(sprintf(\"No CSV file found in zip: %s\", zipfile))\n",
    "    next\n",
    "  }\n",
    "  csv_to_extract <- csv_files[1]\n",
    "  new_csv_name <- file.path(path_to_fed, sprintf(\"%d_bayes_data.csv\", i))\n",
    "  unzip(zipfile, files = csv_to_extract, exdir = path_to_fed)\n",
    "  \n",
    "  # Determine the path to the extracted file (handles potential subdirectories)\n",
    "  extracted_csv_path <- file.path(path_to_fed, csv_to_extract)\n",
    "  \n",
    "  # If the extracted file is inside a subdirectory, move it to the main folder\n",
    "  if (!file.exists(extracted_csv_path)) {\n",
    "    # Sometimes the unzip creates subfolders. List files recursively.\n",
    "    extracted_files <- list.files(path_to_fed, pattern = \"\\\\.csv$\", full.names = TRUE, recursive = TRUE)\n",
    "    # Find the matching file (by comparing filenames ignoring directory structure)\n",
    "    candidate <- extracted_files[basename(extracted_files) == basename(csv_to_extract)]\n",
    "    if(length(candidate) > 0) {\n",
    "      extracted_csv_path <- candidate[1]\n",
    "    } else {\n",
    "      warning(sprintf(\"Extracted CSV file not found for zip: %s\", zipfile))\n",
    "      next\n",
    "    }\n",
    "  }\n",
    "  \n",
    "  # Rename (or move) the extracted CSV file to the new filename\n",
    "  if(!file.rename(from = extracted_csv_path, to = new_csv_name)) {\n",
    "    warning(sprintf(\"Failed to rename file: %s\", extracted_csv_path))\n",
    "  }\n",
    "}\n"
   ]
  },
  {
   "cell_type": "code",
   "execution_count": null,
   "metadata": {
    "vscode": {
     "languageId": "r"
    }
   },
   "outputs": [],
   "source": [
    "fed_expression <- NULL\n",
    "\n",
    "for(i in 1:3){\n",
    "    expr_data <- read.table(paste0(path_to_fed, i, \"_bayes_data.csv\"), header = TRUE, sep = \"\\t\")\n",
    "    print(paste0(\"Samples: \", ncol(expr_data), \"; Features: \", nrow(expr_data)))\n",
    "    # save data\n",
    "    if(is.null(fed_expression)){\n",
    "        fed_expression <- expr_data\n",
    "    } else {        \n",
    "        fed_expression <- full_join(fed_expression, expr_data, by = \"gene_id\")\n",
    "    }\n",
    "    print(paste0(\"Combined Samples: \", ncol(fed_expression), \"; Features: \", nrow(fed_expression)))\n",
    "    print(\" \")\n",
    "}\n"
   ]
  },
  {
   "cell_type": "code",
   "execution_count": null,
   "metadata": {
    "vscode": {
     "languageId": "r"
    }
   },
   "outputs": [],
   "source": [
    "# write to file\n",
    "write.table(fed_expression, file = \"after/fed_combined_data.csv\", sep = \"\\t\", \n",
    "            row.names = FALSE, col.names = TRUE, quote = FALSE)"
   ]
  },
  {
   "cell_type": "markdown",
   "metadata": {},
   "source": [
    "# Load data"
   ]
  },
  {
   "cell_type": "code",
   "execution_count": 6,
   "metadata": {
    "vscode": {
     "languageId": "r"
    }
   },
   "outputs": [],
   "source": [
    "all_metadata <- read.table(\"before/all_design.tsv\", header = TRUE, sep = \"\\t\")\n",
    "all_metadata$Status <- all_metadata$lum\n",
    "all_metadata$Dataset <- as.character(all_metadata$batch)"
   ]
  },
  {
   "cell_type": "code",
   "execution_count": 7,
   "metadata": {
    "vscode": {
     "languageId": "r"
    }
   },
   "outputs": [
    {
     "name": "stdout",
     "output_type": "stream",
     "text": [
      "[1] \"Samples: 131; Features: 28823\"\n"
     ]
    }
   ],
   "source": [
    "corrected_expr <- read.table(\n",
    "    \"/home/yuliya/repos/cosybio/FedComBat/datasets/Breast_cancer_RNASeq/after/all_corrected_R_expr.tsv\", \n",
    "    header = TRUE, sep = \"\\t\")\n",
    "\n",
    "corrected_expr <- corrected_expr %>% column_to_rownames(\"gene_id\") \n",
    "print(paste0(\"Samples: \", ncol(corrected_expr), \"; Features: \", nrow(corrected_expr)))\n",
    "corrected_expr <- corrected_expr[, all_metadata$sample_id]\n"
   ]
  },
  {
   "cell_type": "code",
   "execution_count": 8,
   "metadata": {
    "vscode": {
     "languageId": "r"
    }
   },
   "outputs": [
    {
     "name": "stdout",
     "output_type": "stream",
     "text": [
      "[1] \"Samples: 131; Features: 28823\"\n"
     ]
    }
   ],
   "source": [
    "fed_expression <- read.table(\n",
    "    \"/home/yuliya/repos/cosybio/FedComBat/datasets/Breast_cancer_RNASeq/after/fed_combined_data.csv\", \n",
    "    header = TRUE, sep = \"\\t\")\n",
    "\n",
    "fed_expression <- fed_expression %>% column_to_rownames(\"gene_id\") \n",
    "print(paste0(\"Samples: \", ncol(fed_expression), \"; Features: \", nrow(fed_expression)))\n",
    "fed_expression <- fed_expression[rownames(corrected_expr), all_metadata$sample_id]\n"
   ]
  },
  {
   "cell_type": "code",
   "execution_count": 9,
   "metadata": {
    "vscode": {
     "languageId": "r"
    }
   },
   "outputs": [
    {
     "name": "stdout",
     "output_type": "stream",
     "text": [
      "[1] \"Plotting combined data\"\n"
     ]
    },
    {
     "name": "stdout",
     "output_type": "stream",
     "text": [
      "[1] \"..plotting..\"\n"
     ]
    },
    {
     "name": "stderr",
     "output_type": "stream",
     "text": [
      "Warning message:\n",
      "“\u001b[1m\u001b[22m`aes_string()` was deprecated in ggplot2 3.0.0.\n",
      "\u001b[36mℹ\u001b[39m Please use tidy evaluation idioms with `aes()`.\n",
      "\u001b[36mℹ\u001b[39m See also `vignette(\"ggplot2-in-packages\")` for more information.”\n",
      "No id variables; using all as measure variables\n",
      "\n"
     ]
    }
   ],
   "source": [
    "# plot the combined data\n",
    "print(\"Plotting combined data\")\n",
    "plot_res <- plot_diagnostic(fed_expression, all_metadata, \"FedCombat corrected\",\n",
    "                            log_transform = TRUE, with_rowname = TRUE)\n",
    "layout <- (plot_res[[1]] + plot_res[[2]] ) / \n",
    "          (plot_res[[3]] )\n",
    "ggsave(\"after/diagnostic_plot_correcter_Fed.png\", \n",
    "            plot = layout, width = 12, height = 12)"
   ]
  },
  {
   "cell_type": "markdown",
   "metadata": {},
   "source": [
    "# Min Max and mean absolute error"
   ]
  },
  {
   "cell_type": "code",
   "execution_count": 10,
   "metadata": {
    "vscode": {
     "languageId": "r"
    }
   },
   "outputs": [
    {
     "name": "stdout",
     "output_type": "stream",
     "text": [
      "[1] \"Min difference: 0\"\n",
      "[1] \"Mean difference: 1.24195999808576e-14\"\n",
      "[1] \"Max difference: 3.59934304583476e-13\"\n"
     ]
    }
   ],
   "source": [
    "# Calculate value-to-value mean, max, and mean absolute difference\n",
    "mean_diff <- mean(as.matrix(abs(corrected_expr - fed_expression), na.rm = TRUE))\n",
    "max_diff <- max(abs(corrected_expr - fed_expression), na.rm = TRUE)\n",
    "min_diff <- min(abs(corrected_expr - fed_expression), na.rm = TRUE)\n",
    "\n",
    "print(paste0(\"Min difference: \", min_diff))\n",
    "print(paste0(\"Mean difference: \", mean_diff))\n",
    "print(paste0(\"Max difference: \", max_diff))\n"
   ]
  },
  {
   "cell_type": "code",
   "execution_count": 11,
   "metadata": {
    "vscode": {
     "languageId": "r"
    }
   },
   "outputs": [
    {
     "data": {
      "text/plain": [
       "NULL"
      ]
     },
     "metadata": {},
     "output_type": "display_data"
    },
    {
     "data": {
      "image/png": "[encoded data removed]",
      "text/plain": [
       "Plot with title “Boxplot of Differences”"
      ]
     },
     "metadata": {
      "image/png": {
       "height": 420,
       "width": 420
      }
     },
     "output_type": "display_data"
    }
   ],
   "source": [
    "boxplot(abs(as.numeric(unlist(corrected_expr)) - as.numeric(unlist(fed_expression))),\n",
    "        main = \"Boxplot of Differences\", xlab = \"Absolute Differences\",\n",
    "        # add values to the plot - for the mean and the median\n",
    "        horizontal = TRUE) +\n",
    "    theme_minimal()\n"
   ]
  },
  {
   "cell_type": "code",
   "execution_count": null,
   "metadata": {
    "vscode": {
     "languageId": "r"
    }
   },
   "outputs": [],
   "source": []
  }
 ],
 "metadata": {
  "kernelspec": {
   "display_name": "R",
   "language": "R",
   "name": "ir"
  },
  "language_info": {
   "codemirror_mode": "r",
   "file_extension": ".r",
   "mimetype": "text/x-r-source",
   "name": "R",
   "pygments_lexer": "r",
   "version": "4.4.2"
  }
 },
 "nbformat": 4,
 "nbformat_minor": 2
}
