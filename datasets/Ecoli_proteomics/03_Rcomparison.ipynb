{
 "cells": [
  {
   "cell_type": "code",
   "execution_count": 49,
   "metadata": {
    "vscode": {
     "languageId": "r"
    }
   },
   "outputs": [],
   "source": [
    "library(tidyverse)\n",
    "library(DESeq2)\n",
    "library(sva)\n",
    "\n",
    "source(\"../../utils/plots_eda.R\")"
   ]
  },
  {
   "cell_type": "markdown",
   "metadata": {},
   "source": [
    "# Fed Correction ...\n",
    "\n",
    "... after FC app ..."
   ]
  },
  {
   "cell_type": "code",
   "execution_count": 50,
   "metadata": {
    "vscode": {
     "languageId": "r"
    }
   },
   "outputs": [],
   "source": [
    "path_to_fed <- \"/home/yuliya/repos/cosybio/FedComBat/datasets/Ecoli_proteomics/after/fed_res/\"\n",
    "zip_files <- list.files(path = path_to_fed, pattern = \"\\\\.zip$\", full.names = TRUE)\n",
    "\n",
    "for(i in seq_along(zip_files)) {\n",
    "  zipfile <- zip_files[i]\n",
    "  zip_contents <- unzip(zipfile, list = TRUE)$Name\n",
    "  csv_files <- zip_contents[grepl(\"\\\\.csv$\", zip_contents, ignore.case = TRUE)]\n",
    "  \n",
    "  # If no CSV file is found, skip this zip\n",
    "  if(length(csv_files) == 0) {\n",
    "    warning(sprintf(\"No CSV file found in zip: %s\", zipfile))\n",
    "    next\n",
    "  }\n",
    "  csv_to_extract <- csv_files[1]\n",
    "  new_csv_name <- file.path(path_to_fed, sprintf(\"%d_bayes_data.csv\", i))\n",
    "  unzip(zipfile, files = csv_to_extract, exdir = path_to_fed)\n",
    "  \n",
    "  # Determine the path to the extracted file (handles potential subdirectories)\n",
    "  extracted_csv_path <- file.path(path_to_fed, csv_to_extract)\n",
    "  \n",
    "  # If the extracted file is inside a subdirectory, move it to the main folder\n",
    "  if (!file.exists(extracted_csv_path)) {\n",
    "    # Sometimes the unzip creates subfolders. List files recursively.\n",
    "    extracted_files <- list.files(path_to_fed, pattern = \"\\\\.csv$\", full.names = TRUE, recursive = TRUE)\n",
    "    # Find the matching file (by comparing filenames ignoring directory structure)\n",
    "    candidate <- extracted_files[basename(extracted_files) == basename(csv_to_extract)]\n",
    "    if(length(candidate) > 0) {\n",
    "      extracted_csv_path <- candidate[1]\n",
    "    } else {\n",
    "      warning(sprintf(\"Extracted CSV file not found for zip: %s\", zipfile))\n",
    "      next\n",
    "    }\n",
    "  }\n",
    "  \n",
    "  # Rename (or move) the extracted CSV file to the new filename\n",
    "  if(!file.rename(from = extracted_csv_path, to = new_csv_name)) {\n",
    "    warning(sprintf(\"Failed to rename file: %s\", extracted_csv_path))\n",
    "  }\n",
    "}\n"
   ]
  },
  {
   "cell_type": "code",
   "execution_count": 51,
   "metadata": {
    "vscode": {
     "languageId": "r"
    }
   },
   "outputs": [
    {
     "name": "stdout",
     "output_type": "stream",
     "text": [
      "[1] \"Samples: 21; Features: 2067\"\n",
      "[1] \"Combined Samples: 21; Features: 2067\"\n",
      "[1] \" \"\n",
      "[1] \"Samples: 20; Features: 2067\"\n",
      "[1] \"Combined Samples: 40; Features: 2067\"\n",
      "[1] \" \"\n",
      "[1] \"Samples: 20; Features: 2067\"\n",
      "[1] \"Combined Samples: 59; Features: 2067\"\n",
      "[1] \" \"\n",
      "[1] \"Samples: 21; Features: 2067\"\n",
      "[1] \"Combined Samples: 79; Features: 2067\"\n",
      "[1] \" \"\n",
      "[1] \"Samples: 21; Features: 2067\"\n",
      "[1] \"Combined Samples: 99; Features: 2067\"\n",
      "[1] \" \"\n"
     ]
    }
   ],
   "source": [
    "fed_expression <- NULL\n",
    "\n",
    "for(i in 1:5){\n",
    "    expr_data <- read.table(paste0(path_to_fed, i, \"_bayes_data.csv\"), header = TRUE, sep = \"\\t\")\n",
    "    print(paste0(\"Samples: \", ncol(expr_data), \"; Features: \", nrow(expr_data)))\n",
    "    # save data\n",
    "    if(is.null(fed_expression)){\n",
    "        fed_expression <- expr_data\n",
    "    } else {        \n",
    "        fed_expression <- full_join(fed_expression, expr_data, by = \"gene_id\")\n",
    "    }\n",
    "    print(paste0(\"Combined Samples: \", ncol(fed_expression), \"; Features: \", nrow(fed_expression)))\n",
    "    print(\" \")\n",
    "}\n"
   ]
  },
  {
   "cell_type": "code",
   "execution_count": 52,
   "metadata": {
    "vscode": {
     "languageId": "r"
    }
   },
   "outputs": [],
   "source": [
    "# write to file\n",
    "write.table(fed_expression, file = \"after/fed_combined_data.csv\", sep = \"\\t\", \n",
    "            row.names = FALSE, col.names = TRUE, quote = FALSE)"
   ]
  },
  {
   "cell_type": "markdown",
   "metadata": {},
   "source": [
    "# Load data"
   ]
  },
  {
   "cell_type": "code",
   "execution_count": 53,
   "metadata": {
    "vscode": {
     "languageId": "r"
    }
   },
   "outputs": [],
   "source": [
    "all_metadata <- read.table(\"before/all_design.tsv\", header = TRUE, sep = \"\\t\")\n",
    "# all_metadata$Status <- all_metadata$lum\n",
    "all_metadata$Dataset <- as.character(all_metadata$batch)"
   ]
  },
  {
   "cell_type": "code",
   "execution_count": 54,
   "metadata": {
    "vscode": {
     "languageId": "r"
    }
   },
   "outputs": [
    {
     "name": "stdout",
     "output_type": "stream",
     "text": [
      "[1] \"Samples: 98; Features: 2067\"\n"
     ]
    }
   ],
   "source": [
    "corrected_expr <- read.table(\n",
    "    \"/home/yuliya/repos/cosybio/FedComBat/datasets/Ecoli_proteomics/after/all_corrected_R_expr.tsv\", \n",
    "    header = TRUE, sep = \"\\t\")\n",
    "\n",
    "corrected_expr <- corrected_expr %>% column_to_rownames(\"gene_id\") \n",
    "print(paste0(\"Samples: \", ncol(corrected_expr), \"; Features: \", nrow(corrected_expr)))\n",
    "corrected_expr <- corrected_expr[, all_metadata$sample_id]\n"
   ]
  },
  {
   "cell_type": "code",
   "execution_count": 55,
   "metadata": {
    "vscode": {
     "languageId": "r"
    }
   },
   "outputs": [
    {
     "name": "stdout",
     "output_type": "stream",
     "text": [
      "[1] \"Samples: 98; Features: 2067\"\n"
     ]
    }
   ],
   "source": [
    "fed_expression <- read.table(\n",
    "    \"/home/yuliya/repos/cosybio/FedComBat/datasets/Ecoli_proteomics/after/fed_combined_data.csv\", \n",
    "    header = TRUE, sep = \"\\t\")\n",
    "\n",
    "fed_expression <- fed_expression %>% column_to_rownames(\"gene_id\") \n",
    "print(paste0(\"Samples: \", ncol(fed_expression), \"; Features: \", nrow(fed_expression)))\n",
    "fed_expression <- fed_expression[rownames(corrected_expr), all_metadata$sample_id]\n"
   ]
  },
  {
   "cell_type": "code",
   "execution_count": 56,
   "metadata": {
    "vscode": {
     "languageId": "r"
    }
   },
   "outputs": [
    {
     "name": "stdout",
     "output_type": "stream",
     "text": [
      "[1] \"Plotting combined data\"\n"
     ]
    },
    {
     "name": "stdout",
     "output_type": "stream",
     "text": [
      "[1] \"..plotting..\"\n"
     ]
    },
    {
     "name": "stderr",
     "output_type": "stream",
     "text": [
      "No id variables; using all as measure variables\n",
      "\n"
     ]
    }
   ],
   "source": [
    "# plot the combined data\n",
    "print(\"Plotting combined data\")\n",
    "plot_res <- plot_diagnostic(fed_expression, all_metadata, \"FedCombat corrected\",\n",
    "                            log_transform = TRUE, with_rowname = TRUE)\n",
    "layout <- (plot_res[[1]] + plot_res[[2]] ) / \n",
    "          (plot_res[[3]] )\n",
    "ggsave(\"after/diagnostic_plot_correcter_Fed.png\", \n",
    "            plot = layout, width = 12, height = 12)"
   ]
  },
  {
   "cell_type": "markdown",
   "metadata": {},
   "source": [
    "# Min Max and mean absolute error"
   ]
  },
  {
   "cell_type": "code",
   "execution_count": 57,
   "metadata": {
    "vscode": {
     "languageId": "r"
    }
   },
   "outputs": [
    {
     "name": "stdout",
     "output_type": "stream",
     "text": [
      "[1] \"Min difference: 0\"\n",
      "[1] \"Mean difference: 7.30198187414532e-15\"\n",
      "[1] \"Max difference: 1.03028696685215e-13\"\n"
     ]
    }
   ],
   "source": [
    "# Calculate value-to-value mean, max, and mean absolute difference\n",
    "mean_diff <- mean(as.matrix(abs(corrected_expr - fed_expression), na.rm = TRUE))\n",
    "max_diff <- max(abs(corrected_expr - fed_expression), na.rm = TRUE)\n",
    "min_diff <- min(abs(corrected_expr - fed_expression), na.rm = TRUE)\n",
    "\n",
    "print(paste0(\"Min difference: \", min_diff))\n",
    "print(paste0(\"Mean difference: \", mean_diff))\n",
    "print(paste0(\"Max difference: \", max_diff))\n"
   ]
  },
  {
   "cell_type": "code",
   "execution_count": 58,
   "metadata": {
    "vscode": {
     "languageId": "r"
    }
   },
   "outputs": [
    {
     "data": {
      "text/plain": [
       "NULL"
      ]
     },
     "metadata": {},
     "output_type": "display_data"
    },
    {
     "data": {
      "image/png": "[encoded data removed]",
      "text/plain": [
       "Plot with title “Boxplot of Differences”"
      ]
     },
     "metadata": {
      "image/png": {
       "height": 420,
       "width": 420
      }
     },
     "output_type": "display_data"
    }
   ],
   "source": [
    "boxplot(abs(as.numeric(unlist(corrected_expr)) - as.numeric(unlist(fed_expression))),\n",
    "        main = \"Boxplot of Differences\", xlab = \"Absolute Differences\",\n",
    "        # add values to the plot - for the mean and the median\n",
    "        horizontal = TRUE) +\n",
    "    theme_minimal()\n"
   ]
  },
  {
   "cell_type": "code",
   "execution_count": null,
   "metadata": {
    "vscode": {
     "languageId": "r"
    }
   },
   "outputs": [],
   "source": []
  }
 ],
 "metadata": {
  "kernelspec": {
   "display_name": "R",
   "language": "R",
   "name": "ir"
  },
  "language_info": {
   "codemirror_mode": "r",
   "file_extension": ".r",
   "mimetype": "text/x-r-source",
   "name": "R",
   "pygments_lexer": "r",
   "version": "4.4.2"
  }
 },
 "nbformat": 4,
 "nbformat_minor": 2
}
