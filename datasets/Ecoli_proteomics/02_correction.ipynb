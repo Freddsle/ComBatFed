{
 "cells": [
  {
   "cell_type": "code",
   "execution_count": 2,
   "metadata": {
    "vscode": {
     "languageId": "r"
    }
   },
   "outputs": [],
   "source": [
    "library(tidyverse)\n",
    "library(sva)\n",
    "\n",
    "source(\"../../utils/plots_eda.R\")"
   ]
  },
  {
   "cell_type": "markdown",
   "metadata": {},
   "source": [
    "# Load data"
   ]
  },
  {
   "cell_type": "code",
   "execution_count": 3,
   "metadata": {
    "vscode": {
     "languageId": "r"
    }
   },
   "outputs": [],
   "source": [
    "datasets = c(\"lab_A\", \"lab_B\", \"lab_C\",  \"lab_D\", \"lab_E\")"
   ]
  },
  {
   "cell_type": "code",
   "execution_count": 11,
   "metadata": {
    "vscode": {
     "languageId": "r"
    }
   },
   "outputs": [],
   "source": [
    "all_metadata <- read.table(\"before/all_design.tsv\", header = TRUE, sep = \"\\t\")\n",
    "all_expression <- read.table(\"before/all_expr_for_correction.tsv\", header = TRUE, sep = \"\\t\") %>% column_to_rownames(\"sample_id\") %>% t() %>% as.data.frame()\n",
    "\n",
    "all_expression <- all_expression[, all_metadata$sample_id]\n",
    "\n",
    "# remove NAs rows\n",
    "all_expression <- na.omit(all_expression)\n",
    "# remove genes with 0 variance\n",
    "all_expression <- all_expression[apply(all_expression, 1, var) > 0, ]"
   ]
  },
  {
   "cell_type": "code",
   "execution_count": 12,
   "metadata": {
    "vscode": {
     "languageId": "r"
    }
   },
   "outputs": [
    {
     "name": "stdout",
     "output_type": "stream",
     "text": [
      "[1] \"Loading metadata and expression data\"\n",
      "[1] \"Metadata dimensions:\"\n",
      "[1] 98  3\n",
      "[1] \"Expression data dimensions:\"\n",
      "[1] 2067   98\n"
     ]
    }
   ],
   "source": [
    "print(\"Loading metadata and expression data\")\n",
    "print(\"Metadata dimensions:\")\n",
    "print(dim(all_metadata))\n",
    "print(\"Expression data dimensions:\")\n",
    "print(dim(all_expression))"
   ]
  },
  {
   "cell_type": "code",
   "execution_count": 13,
   "metadata": {
    "vscode": {
     "languageId": "r"
    }
   },
   "outputs": [
    {
     "name": "stderr",
     "output_type": "stream",
     "text": [
      "Found5batches\n",
      "\n",
      "Adjusting for1covariate(s) or covariate level(s)\n",
      "\n",
      "Standardizing Data across genes\n",
      "\n",
      "Fitting L/S model and finding priors\n",
      "\n",
      "Finding parametric adjustments\n",
      "\n",
      "Adjusting the Data\n",
      "\n",
      "\n"
     ]
    }
   ],
   "source": [
    "design <- model.matrix(~all_metadata$Status)\n",
    "\n",
    "corrected_expr <- sva::ComBat(dat = all_expression, \n",
    "                              batch = all_metadata$batch, \n",
    "                              mod = design)\n",
    "\n",
    "corrected_expr <- as.data.frame(corrected_expr)\n"
   ]
  },
  {
   "cell_type": "code",
   "execution_count": 14,
   "metadata": {
    "vscode": {
     "languageId": "r"
    }
   },
   "outputs": [],
   "source": [
    "all_metadata$Status <- all_metadata$Status\n",
    "all_metadata$Dataset <- as.character(all_metadata$batch)"
   ]
  },
  {
   "cell_type": "code",
   "execution_count": 15,
   "metadata": {
    "vscode": {
     "languageId": "r"
    }
   },
   "outputs": [
    {
     "name": "stdout",
     "output_type": "stream",
     "text": [
      "[1] \"Plotting combined corrected data\"\n",
      "[1] \"..plotting..\"\n"
     ]
    },
    {
     "name": "stderr",
     "output_type": "stream",
     "text": [
      "Warning message:\n",
      "“\u001b[1m\u001b[22m`aes_string()` was deprecated in ggplot2 3.0.0.\n",
      "\u001b[36mℹ\u001b[39m Please use tidy evaluation idioms with `aes()`.\n",
      "\u001b[36mℹ\u001b[39m See also `vignette(\"ggplot2-in-packages\")` for more information.”\n",
      "No id variables; using all as measure variables\n",
      "\n"
     ]
    }
   ],
   "source": [
    "# plot the combined corrected data\n",
    "print(\"Plotting combined corrected data\")\n",
    "plot_res <- plot_diagnostic(corrected_expr, all_metadata, \"Combined Corrected\",\n",
    "                            log_transform = TRUE, with_rowname = TRUE)\n",
    "layout <- (plot_res[[1]] + plot_res[[2]] ) / \n",
    "          (plot_res[[3]] )\n",
    "ggsave(\"after/diagnostic_plot_corrected.png\", \n",
    "            plot = layout, width = 12, height = 12)\n"
   ]
  },
  {
   "cell_type": "code",
   "execution_count": 16,
   "metadata": {
    "vscode": {
     "languageId": "r"
    }
   },
   "outputs": [],
   "source": [
    "# write out the corrected expression data\n",
    "write.table(corrected_expr %>% rownames_to_column(\"gene_id\"), \"after/all_corrected_R_expr.tsv\", sep = \"\\t\", \n",
    "            quote = FALSE, col.names = TRUE, row.names = FALSE)"
   ]
  },
  {
   "cell_type": "code",
   "execution_count": null,
   "metadata": {
    "vscode": {
     "languageId": "r"
    }
   },
   "outputs": [],
   "source": []
  },
  {
   "cell_type": "code",
   "execution_count": null,
   "metadata": {
    "vscode": {
     "languageId": "r"
    }
   },
   "outputs": [],
   "source": []
  },
  {
   "cell_type": "code",
   "execution_count": null,
   "metadata": {
    "vscode": {
     "languageId": "r"
    }
   },
   "outputs": [],
   "source": []
  },
  {
   "cell_type": "code",
   "execution_count": null,
   "metadata": {
    "vscode": {
     "languageId": "r"
    }
   },
   "outputs": [],
   "source": []
  }
 ],
 "metadata": {
  "kernelspec": {
   "display_name": "R",
   "language": "R",
   "name": "ir"
  },
  "language_info": {
   "codemirror_mode": "r",
   "file_extension": ".r",
   "mimetype": "text/x-r-source",
   "name": "R",
   "pygments_lexer": "r",
   "version": "4.4.2"
  }
 },
 "nbformat": 4,
 "nbformat_minor": 2
}
