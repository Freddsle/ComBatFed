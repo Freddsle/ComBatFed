{
 "cells": [
  {
   "cell_type": "code",
   "execution_count": 49,
   "metadata": {
    "vscode": {
     "languageId": "r"
    }
   },
   "outputs": [],
   "source": [
    "library(tidyverse)\n",
    "source(\"../../utils/plots_eda.R\")"
   ]
  },
  {
   "cell_type": "markdown",
   "metadata": {},
   "source": [
    "# Load data"
   ]
  },
  {
   "cell_type": "code",
   "execution_count": 50,
   "metadata": {
    "vscode": {
     "languageId": "r"
    }
   },
   "outputs": [],
   "source": [
    "datasets <- c(\"lab_A\", \"lab_B\", \"lab_C\",  \"lab_D\", \"lab_E\")"
   ]
  },
  {
   "cell_type": "code",
   "execution_count": 51,
   "metadata": {
    "vscode": {
     "languageId": "r"
    }
   },
   "outputs": [
    {
     "name": "stdout",
     "output_type": "stream",
     "text": [
      "[1] \"Processing dataset: lab_A; platform: \"\n",
      "[1] \"Samples: 20; Features: 2549\"\n",
      "[1] \"Samples: 20; Features: 2549\"\n",
      "[1] \"..plotting..\"\n"
     ]
    },
    {
     "name": "stderr",
     "output_type": "stream",
     "text": [
      "No id variables; using all as measure variables\n",
      "\n",
      "Warning message:\n",
      "“\u001b[1m\u001b[22mRemoved 1273 rows containing non-finite outside the scale range\n",
      "(`stat_density()`).”\n",
      "Warning message:\n",
      "“\u001b[1m\u001b[22mRemoved 1273 rows containing non-finite outside the scale range\n",
      "(`stat_boxplot()`).”\n",
      "Warning message:\n",
      "“\u001b[1m\u001b[22mRemoved 1273 rows containing non-finite outside the scale range\n",
      "(`stat_summary()`).”\n"
     ]
    },
    {
     "name": "stdout",
     "output_type": "stream",
     "text": [
      "[1] \"Combined Samples: 20; Features: 2549\"\n",
      "[1] \" \"\n",
      "[1] \"Processing dataset: lab_B; platform: \"\n",
      "[1] \"Samples: 19; Features: 2846\"\n",
      "[1] \"Samples: 19; Features: 2846\"\n",
      "[1] \"..plotting..\"\n"
     ]
    },
    {
     "name": "stderr",
     "output_type": "stream",
     "text": [
      "No id variables; using all as measure variables\n",
      "\n",
      "Warning message:\n",
      "“\u001b[1m\u001b[22mRemoved 1029 rows containing non-finite outside the scale range\n",
      "(`stat_density()`).”\n",
      "Warning message:\n",
      "“\u001b[1m\u001b[22mRemoved 1029 rows containing non-finite outside the scale range\n",
      "(`stat_boxplot()`).”\n",
      "Warning message:\n",
      "“\u001b[1m\u001b[22mRemoved 1029 rows containing non-finite outside the scale range\n",
      "(`stat_summary()`).”\n"
     ]
    },
    {
     "name": "stdout",
     "output_type": "stream",
     "text": [
      "[1] \"Combined Samples: 39; Features: 2924\"\n",
      "[1] \" \"\n",
      "[1] \"Processing dataset: lab_C; platform: \"\n",
      "[1] \"Samples: 19; Features: 2820\"\n",
      "[1] \"Samples: 19; Features: 2820\"\n",
      "[1] \"..plotting..\"\n"
     ]
    },
    {
     "name": "stderr",
     "output_type": "stream",
     "text": [
      "No id variables; using all as measure variables\n",
      "\n",
      "Warning message:\n",
      "“\u001b[1m\u001b[22mRemoved 1722 rows containing non-finite outside the scale range\n",
      "(`stat_density()`).”\n",
      "Warning message:\n",
      "“\u001b[1m\u001b[22mRemoved 1722 rows containing non-finite outside the scale range\n",
      "(`stat_boxplot()`).”\n",
      "Warning message:\n",
      "“\u001b[1m\u001b[22mRemoved 1722 rows containing non-finite outside the scale range\n",
      "(`stat_summary()`).”\n"
     ]
    },
    {
     "name": "stdout",
     "output_type": "stream",
     "text": [
      "[1] \"Combined Samples: 58; Features: 2997\"\n",
      "[1] \" \"\n",
      "[1] \"Processing dataset: lab_D; platform: \"\n",
      "[1] \"Samples: 20; Features: 2813\"\n",
      "[1] \"Samples: 20; Features: 2813\"\n",
      "[1] \"..plotting..\"\n"
     ]
    },
    {
     "name": "stderr",
     "output_type": "stream",
     "text": [
      "No id variables; using all as measure variables\n",
      "\n",
      "Warning message:\n",
      "“\u001b[1m\u001b[22mRemoved 857 rows containing non-finite outside the scale range\n",
      "(`stat_density()`).”\n",
      "Warning message:\n",
      "“\u001b[1m\u001b[22mRemoved 857 rows containing non-finite outside the scale range\n",
      "(`stat_boxplot()`).”\n",
      "Warning message:\n",
      "“\u001b[1m\u001b[22mRemoved 857 rows containing non-finite outside the scale range\n",
      "(`stat_summary()`).”\n"
     ]
    },
    {
     "name": "stdout",
     "output_type": "stream",
     "text": [
      "[1] \"Combined Samples: 78; Features: 3048\"\n",
      "[1] \" \"\n",
      "[1] \"Processing dataset: lab_E; platform: \"\n",
      "[1] \"Samples: 20; Features: 2401\"\n",
      "[1] \"Samples: 20; Features: 2401\"\n",
      "[1] \"..plotting..\"\n"
     ]
    },
    {
     "name": "stderr",
     "output_type": "stream",
     "text": [
      "No id variables; using all as measure variables\n",
      "\n",
      "Warning message:\n",
      "“\u001b[1m\u001b[22mRemoved 960 rows containing non-finite outside the scale range\n",
      "(`stat_density()`).”\n",
      "Warning message:\n",
      "“\u001b[1m\u001b[22mRemoved 960 rows containing non-finite outside the scale range\n",
      "(`stat_boxplot()`).”\n",
      "Warning message:\n",
      "“\u001b[1m\u001b[22mRemoved 960 rows containing non-finite outside the scale range\n",
      "(`stat_summary()`).”\n"
     ]
    },
    {
     "name": "stdout",
     "output_type": "stream",
     "text": [
      "[1] \"Combined Samples: 98; Features: 3059\"\n",
      "[1] \" \"\n",
      "[1] \"Plotting combined data\"\n",
      "[1] \"..plotting..\"\n"
     ]
    },
    {
     "name": "stderr",
     "output_type": "stream",
     "text": [
      "No id variables; using all as measure variables\n",
      "\n",
      "Warning message:\n",
      "“\u001b[1m\u001b[22mRemoved 42709 rows containing non-finite outside the scale range\n",
      "(`stat_density()`).”\n",
      "Warning message:\n",
      "“\u001b[1m\u001b[22mRemoved 42709 rows containing non-finite outside the scale range\n",
      "(`stat_boxplot()`).”\n",
      "Warning message:\n",
      "“\u001b[1m\u001b[22mRemoved 42709 rows containing non-finite outside the scale range\n",
      "(`stat_summary()`).”\n"
     ]
    }
   ],
   "source": [
    "all_expression <- NULL\n",
    "all_metadata <- NULL\n",
    "\n",
    "for(dataset in datasets){\n",
    "    metadata <- read.table(paste0(\"before/\", dataset, \"/metadata.tsv\"), header = TRUE, sep = \"\\t\")\n",
    "    expr_data <- read.table(paste0(\"before/\", dataset, \"/protein_groups_matrix.tsv\"), header = TRUE, sep = \"\\t\", row.names = 1)\n",
    "\n",
    "\n",
    "    # if \".\" in expression data column names, replace with \"_\"\n",
    "    colnames(expr_data) <- gsub(\"\\\\.\", \"-\", colnames(expr_data))\n",
    "    # if start with X, remove X\n",
    "    colnames(expr_data) <- gsub(\"^X\", \"\", colnames(expr_data))\n",
    "\n",
    "    print(paste0(\"Processing dataset: \", dataset, \"; platform: \", metadata$platform_id[1]))\n",
    "    print(paste0(\"Samples: \", nrow(metadata), \"; Features: \", nrow(expr_data)))\n",
    "\n",
    "    metadata <- metadata %>% \n",
    "        mutate(Dataset = dataset) %>%\n",
    "        rename(\"sample_id\" = \"file\", \"Status\" = \"condition\")\n",
    "\n",
    "    expr_data <- expr_data[, metadata$sample_id]\n",
    "    # log2 transform\n",
    "    expr_data <- log2(expr_data + 1)\n",
    "    print(paste0(\"Samples: \", nrow(metadata), \"; Features: \", nrow(expr_data)))\n",
    "\n",
    "    #########################################################################################################################\n",
    "    #  plot\n",
    "    plot_res <- plot_diagnostic(expr_data, metadata, dataset,\n",
    "                                log_transform = TRUE, with_rowname = TRUE)\n",
    "    layout <- (plot_res[[1]] + plot_res[[2]] ) / \n",
    "              (plot_res[[3]] )\n",
    "    ggsave(paste0(\"before/\", dataset, \"/diagnostic_plot.png\"), \n",
    "                plot = layout, width = 12, height = 12)\n",
    "\n",
    "\n",
    "    expr_data <- rownames_to_column(as.data.frame(expr_data), \"row_ID\")\n",
    "    # save data\n",
    "    if(is.null(all_metadata)){\n",
    "        all_metadata <- metadata\n",
    "        all_expression <- expr_data\n",
    "    } else {        \n",
    "        all_metadata <- rbind(all_metadata, metadata)\n",
    "        all_expression <- full_join(all_expression, expr_data, by = \"row_ID\")\n",
    "    }\n",
    "    print(paste0(\"Combined Samples: \", nrow(all_metadata), \"; Features: \", nrow(all_expression)))\n",
    "    print(\" \")\n",
    "}\n",
    "\n",
    "rownames(all_expression) <- all_expression$row_ID\n",
    "all_expression <- all_expression[, -1]\n",
    "\n",
    "# # plot the combined data\n",
    "print(\"Plotting combined data\")\n",
    "plot_res <- plot_diagnostic(all_expression, all_metadata, \"Combined\",\n",
    "                                log_transform = TRUE, with_rowname = TRUE)\n",
    "layout <- (plot_res[[1]] + plot_res[[2]] ) / \n",
    "          (plot_res[[3]] )\n",
    "ggsave(\"before/diagnostic_plot.png\", \n",
    "            plot = layout, width = 12, height = 12)"
   ]
  },
  {
   "cell_type": "markdown",
   "metadata": {},
   "source": [
    "# Save data for correction and after correction"
   ]
  },
  {
   "cell_type": "code",
   "execution_count": 52,
   "metadata": {
    "vscode": {
     "languageId": "r"
    }
   },
   "outputs": [],
   "source": [
    "# if colname starts with number, add a prefix \"S\" - in all_expression df\n",
    "all_expression <- all_expression %>%\n",
    "  rename_with(~ ifelse(grepl(\"^[0-9]\", .), paste0(\"S\", .), .))\n",
    "# replace \"-\" with \"_\" in all_expression df\n",
    "all_expression <- all_expression %>%\n",
    "  rename_with(~ gsub(\"-\", \"_\", .))\n",
    "\n",
    "all_metadata$sample_id <- ifelse(grepl(\"^[0-9]\", all_metadata$sample_id), \n",
    "                                 paste0(\"S\", all_metadata$sample_id), \n",
    "                                 all_metadata$sample_id)\n",
    "# replace \"-\" with \"_\" in all_metadata df\n",
    "all_metadata$sample_id <- gsub(\"-\", \"_\", all_metadata$sample_id)"
   ]
  },
  {
   "cell_type": "code",
   "execution_count": 53,
   "metadata": {
    "vscode": {
     "languageId": "r"
    }
   },
   "outputs": [
    {
     "name": "stdout",
     "output_type": "stream",
     "text": [
      "[1] \"Save data prior to batch correction for lab_A\"\n",
      "[1] \"Samples: 20; Features: 2283\"\n",
      "[1] \"Save data prior to batch correction for lab_B\"\n",
      "[1] \"Samples: 19; Features: 2592\"\n",
      "[1] \"Save data prior to batch correction for lab_C\"\n",
      "[1] \"Samples: 19; Features: 2523\"\n",
      "[1] \"Save data prior to batch correction for lab_D\"\n",
      "[1] \"Samples: 20; Features: 2643\"\n",
      "[1] \"Save data prior to batch correction for lab_E\"\n",
      "[1] \"Samples: 20; Features: 2229\"\n"
     ]
    }
   ],
   "source": [
    "all_metadata$batch <- as.numeric(as.factor(all_metadata$Dataset)) - 1\n",
    "# all_metadata$batch <- 0\n",
    "all_metadata$Status <- as.numeric(as.factor(all_metadata$Status))\n",
    "all_metadata$Status = all_metadata$Status - 1\n",
    "\n",
    "\n",
    "for (dataset in unique(all_metadata$Dataset)) {\n",
    "    print(paste0(\"Save data prior to batch correction for \", dataset))\n",
    "    dataset_metadata <- all_metadata[all_metadata$Dataset == dataset,]\n",
    "    dataset_metadata <- dataset_metadata %>% select(sample_id, Status, batch)\n",
    "    \n",
    "    dataset_expression <- all_expression[, dataset_metadata$sample_id]\n",
    "    dataset_expression <- na.omit(dataset_expression)\n",
    "    dataset_expression <- dataset_expression[apply(dataset_expression, 1, var) > 0, ]\n",
    "\n",
    "    dataset_expression <- dataset_expression %>% rownames_to_column(\"gene_id\")\n",
    "    print(paste0(\"Samples: \", nrow(dataset_metadata), \"; Features: \", nrow(dataset_expression)))\n",
    "    \n",
    "    write.table(dataset_metadata, \n",
    "        file = paste0(\"before/\", dataset, \"/design.tsv\"), sep = \"\\t\", quote = FALSE, row.names = FALSE)\n",
    "    write.table(dataset_expression, \n",
    "        file = paste0(\"before/\", dataset, \"/expr_for_correction.tsv\"), sep = \"\\t\", quote = FALSE, row.names = FALSE)\n",
    "\n",
    "}\n",
    "\n",
    "all_expression <- na.omit(all_expression)\n",
    "all_expression <- all_expression[apply(all_expression, 1, var) > 0, ]\n",
    "all_expression <- all_expression[, all_metadata$sample_id]\n",
    "\n",
    "write.table(all_metadata %>% select(sample_id, Status, batch), \n",
    "    file = \"before/all_design.tsv\", sep = \"\\t\", quote = FALSE, row.names = FALSE)\n",
    "write.table(all_expression %>% rownames_to_column(\"gene_id\"),\n",
    "    file = \"before/all_expr_for_correction.tsv\", sep = \"\\t\", quote = FALSE, row.names = FALSE)"
   ]
  },
  {
   "cell_type": "code",
   "execution_count": null,
   "metadata": {
    "vscode": {
     "languageId": "r"
    }
   },
   "outputs": [],
   "source": []
  },
  {
   "cell_type": "code",
   "execution_count": null,
   "metadata": {
    "vscode": {
     "languageId": "r"
    }
   },
   "outputs": [],
   "source": []
  },
  {
   "cell_type": "code",
   "execution_count": null,
   "metadata": {
    "vscode": {
     "languageId": "r"
    }
   },
   "outputs": [],
   "source": []
  },
  {
   "cell_type": "code",
   "execution_count": null,
   "metadata": {
    "vscode": {
     "languageId": "r"
    }
   },
   "outputs": [],
   "source": []
  }
 ],
 "metadata": {
  "kernelspec": {
   "display_name": "R",
   "language": "R",
   "name": "ir"
  },
  "language_info": {
   "codemirror_mode": "r",
   "file_extension": ".r",
   "mimetype": "text/x-r-source",
   "name": "R",
   "pygments_lexer": "r",
   "version": "4.4.2"
  }
 },
 "nbformat": 4,
 "nbformat_minor": 2
}
