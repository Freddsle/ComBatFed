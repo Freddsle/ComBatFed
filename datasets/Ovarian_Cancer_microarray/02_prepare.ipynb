{
 "cells": [
  {
   "cell_type": "code",
   "execution_count": 1,
   "metadata": {
    "vscode": {
     "languageId": "r"
    }
   },
   "outputs": [
    {
     "name": "stderr",
     "output_type": "stream",
     "text": [
      "── \u001b[1mAttaching core tidyverse packages\u001b[22m ──────────────────────── tidyverse 2.0.0 ──\n",
      "\u001b[32m✔\u001b[39m \u001b[34mdplyr    \u001b[39m 1.1.4     \u001b[32m✔\u001b[39m \u001b[34mreadr    \u001b[39m 2.1.5\n",
      "\u001b[32m✔\u001b[39m \u001b[34mforcats  \u001b[39m 1.0.0     \u001b[32m✔\u001b[39m \u001b[34mstringr  \u001b[39m 1.5.1\n",
      "\u001b[32m✔\u001b[39m \u001b[34mggplot2  \u001b[39m 3.5.1     \u001b[32m✔\u001b[39m \u001b[34mtibble   \u001b[39m 3.2.1\n",
      "\u001b[32m✔\u001b[39m \u001b[34mlubridate\u001b[39m 1.9.4     \u001b[32m✔\u001b[39m \u001b[34mtidyr    \u001b[39m 1.3.1\n",
      "\u001b[32m✔\u001b[39m \u001b[34mpurrr    \u001b[39m 1.0.4     \n",
      "── \u001b[1mConflicts\u001b[22m ────────────────────────────────────────── tidyverse_conflicts() ──\n",
      "\u001b[31m✖\u001b[39m \u001b[34mdplyr\u001b[39m::\u001b[32mfilter()\u001b[39m masks \u001b[34mstats\u001b[39m::filter()\n",
      "\u001b[31m✖\u001b[39m \u001b[34mdplyr\u001b[39m::\u001b[32mlag()\u001b[39m    masks \u001b[34mstats\u001b[39m::lag()\n",
      "\u001b[36mℹ\u001b[39m Use the conflicted package (\u001b[3m\u001b[34m<http://conflicted.r-lib.org/>\u001b[39m\u001b[23m) to force all conflicts to become errors\n",
      "\n",
      "Attaching package: ‘gridExtra’\n",
      "\n",
      "\n",
      "The following object is masked from ‘package:dplyr’:\n",
      "\n",
      "    combine\n",
      "\n",
      "\n",
      "\n",
      "Attaching package: ‘cowplot’\n",
      "\n",
      "\n",
      "The following object is masked from ‘package:patchwork’:\n",
      "\n",
      "    align_plots\n",
      "\n",
      "\n",
      "The following object is masked from ‘package:lubridate’:\n",
      "\n",
      "    stamp\n",
      "\n",
      "\n",
      "Loading required package: viridisLite\n",
      "\n"
     ]
    }
   ],
   "source": [
    "library(tidyverse)\n",
    "source(\"../../utils/plots_eda.R\")"
   ]
  },
  {
   "cell_type": "markdown",
   "metadata": {},
   "source": [
    "# Load data"
   ]
  },
  {
   "cell_type": "code",
   "execution_count": 2,
   "metadata": {
    "vscode": {
     "languageId": "r"
    }
   },
   "outputs": [],
   "source": [
    "datasets <- c(\"GSE6008\", \"GSE14407\", \"GSE26712\",  \"GSE40595\", \"GSE36668\", \"GSE69428\")"
   ]
  },
  {
   "cell_type": "code",
   "execution_count": 3,
   "metadata": {
    "vscode": {
     "languageId": "r"
    }
   },
   "outputs": [
    {
     "name": "stdout",
     "output_type": "stream",
     "text": [
      "[1] \"Processing dataset: GSE6008; platform: GPL96\"\n",
      "[1] \"Samples: 27; Features: 13237\"\n",
      "[1] \"Samples: 27; Features: 13237\"\n",
      "[1] \"..plotting..\"\n"
     ]
    },
    {
     "name": "stderr",
     "output_type": "stream",
     "text": [
      "Warning message:\n",
      "“\u001b[1m\u001b[22m`aes_string()` was deprecated in ggplot2 3.0.0.\n",
      "\u001b[36mℹ\u001b[39m Please use tidy evaluation idioms with `aes()`.\n",
      "\u001b[36mℹ\u001b[39m See also `vignette(\"ggplot2-in-packages\")` for more information.”\n",
      "No id variables; using all as measure variables\n",
      "\n"
     ]
    },
    {
     "name": "stdout",
     "output_type": "stream",
     "text": [
      "[1] \"Combined Samples: 27; Features: 13237\"\n",
      "[1] \" \"\n",
      "[1] \"Processing dataset: GSE14407; platform: GPL570\"\n",
      "[1] \"Samples: 24; Features: 22880\"\n",
      "[1] \"Samples: 24; Features: 22880\"\n",
      "[1] \"..plotting..\"\n"
     ]
    },
    {
     "name": "stderr",
     "output_type": "stream",
     "text": [
      "No id variables; using all as measure variables\n",
      "\n"
     ]
    },
    {
     "name": "stdout",
     "output_type": "stream",
     "text": [
      "[1] \"Combined Samples: 51; Features: 22880\"\n",
      "[1] \" \"\n",
      "[1] \"Processing dataset: GSE26712; platform: GPL96\"\n",
      "[1] \"Samples: 195; Features: 13237\"\n",
      "[1] \"Samples: 195; Features: 13237\"\n",
      "[1] \"..plotting..\"\n"
     ]
    },
    {
     "name": "stderr",
     "output_type": "stream",
     "text": [
      "No id variables; using all as measure variables\n",
      "\n"
     ]
    },
    {
     "name": "stdout",
     "output_type": "stream",
     "text": [
      "[1] \"Combined Samples: 246; Features: 22880\"\n",
      "[1] \" \"\n",
      "[1] \"Processing dataset: GSE40595; platform: GPL570\"\n",
      "[1] \"Samples: 38; Features: 22880\"\n",
      "[1] \"Samples: 37; Features: 22880\"\n",
      "[1] \"..plotting..\"\n"
     ]
    },
    {
     "name": "stderr",
     "output_type": "stream",
     "text": [
      "No id variables; using all as measure variables\n",
      "\n"
     ]
    },
    {
     "name": "stdout",
     "output_type": "stream",
     "text": [
      "[1] \"Combined Samples: 283; Features: 22880\"\n",
      "[1] \" \"\n",
      "[1] \"Processing dataset: GSE36668; platform: GPL570\"\n",
      "[1] \"Samples: 8; Features: 22880\"\n",
      "[1] \"Samples: 7; Features: 22880\"\n",
      "[1] \"..plotting..\"\n"
     ]
    },
    {
     "name": "stderr",
     "output_type": "stream",
     "text": [
      "No id variables; using all as measure variables\n",
      "\n"
     ]
    },
    {
     "name": "stdout",
     "output_type": "stream",
     "text": [
      "[1] \"Combined Samples: 290; Features: 22880\"\n",
      "[1] \" \"\n",
      "[1] \"Processing dataset: GSE69428; platform: GPL570\"\n",
      "[1] \"Samples: 20; Features: 22880\"\n",
      "[1] \"Samples: 19; Features: 22880\"\n",
      "[1] \"..plotting..\"\n"
     ]
    },
    {
     "name": "stderr",
     "output_type": "stream",
     "text": [
      "No id variables; using all as measure variables\n",
      "\n"
     ]
    },
    {
     "name": "stdout",
     "output_type": "stream",
     "text": [
      "[1] \"Combined Samples: 309; Features: 22880\"\n",
      "[1] \" \"\n",
      "[1] \"Plotting combined data\"\n",
      "[1] \"..plotting..\"\n"
     ]
    },
    {
     "name": "stderr",
     "output_type": "stream",
     "text": [
      "No id variables; using all as measure variables\n",
      "\n",
      "Warning message:\n",
      "“\u001b[1m\u001b[22mRemoved 931512 rows containing non-finite outside the scale range\n",
      "(`stat_density()`).”\n",
      "Warning message:\n",
      "“\u001b[1m\u001b[22mRemoved 931512 rows containing non-finite outside the scale range\n",
      "(`stat_boxplot()`).”\n",
      "Warning message:\n",
      "“\u001b[1m\u001b[22mRemoved 931512 rows containing non-finite outside the scale range\n",
      "(`stat_summary()`).”\n"
     ]
    }
   ],
   "source": [
    "all_expression <- NULL\n",
    "all_metadata <- NULL\n",
    "\n",
    "for(dataset in datasets){\n",
    "    metadata <- read.table(paste0(\"before/\", dataset, \"/1_metadata_short.tsv\"), header = TRUE, sep = \"\\t\")\n",
    "    expr_data <- read.table(paste0(\"before/\", dataset, \"/1_expr_GBacc_MaxVar.tsv\"), header = TRUE, sep = \"\\t\", row.names = 1)\n",
    "\n",
    "    print(paste0(\"Processing dataset: \", dataset, \"; platform: \", metadata$platform_id[1]))\n",
    "    print(paste0(\"Samples: \", nrow(metadata), \"; Features: \", nrow(expr_data)))\n",
    "\n",
    "    metadata <- metadata %>% mutate(Dataset = dataset) %>%\n",
    "        select(Sample_geo_ID, Status, HistSubtypes, Stage2, Grade2, ClinicopathologicSubtypes, Dataset) %>%\n",
    "        # outliers\n",
    "        filter(!(Sample_geo_ID %in% c(\"GSM1701038\", \"GSM898305\", \"GSM997639\"))) %>%\n",
    "        rename(\"sample_id\" = \"Sample_geo_ID\")\n",
    "\n",
    "    expr_data <- expr_data[, metadata$sample_id]\n",
    "    print(paste0(\"Samples: \", nrow(metadata), \"; Features: \", nrow(expr_data)))\n",
    "\n",
    "    #########################################################################################################################\n",
    "    #  plot\n",
    "    plot_res <- plot_diagnostic(expr_data, metadata, dataset,\n",
    "                                log_transform = TRUE, with_rowname = TRUE)\n",
    "    layout <- (plot_res[[1]] + plot_res[[2]] ) / \n",
    "              (plot_res[[3]] )\n",
    "    ggsave(paste0(\"before/\", dataset, \"/diagnostic_plot.png\"), \n",
    "                plot = layout, width = 12, height = 12)\n",
    "\n",
    "\n",
    "    expr_data <- rownames_to_column(as.data.frame(expr_data), \"row_ID\")\n",
    "    # save data\n",
    "    if(is.null(all_metadata)){\n",
    "        all_metadata <- metadata\n",
    "        all_expression <- expr_data\n",
    "    } else {        \n",
    "        all_metadata <- rbind(all_metadata, metadata)\n",
    "        all_expression <- full_join(all_expression, expr_data, by = \"row_ID\")\n",
    "    }\n",
    "    print(paste0(\"Combined Samples: \", nrow(all_metadata), \"; Features: \", nrow(all_expression)))\n",
    "    print(\" \")\n",
    "}\n",
    "\n",
    "rownames(all_expression) <- all_expression$row_ID\n",
    "all_expression <- all_expression[, -1]\n",
    "\n",
    "# # plot the combined data\n",
    "print(\"Plotting combined data\")\n",
    "plot_res <- plot_diagnostic(all_expression, all_metadata, \"Combined\",\n",
    "                                log_transform = TRUE, with_rowname = TRUE)\n",
    "layout <- (plot_res[[1]] + plot_res[[2]] ) / \n",
    "          (plot_res[[3]] )\n",
    "ggsave(\"before/diagnostic_plot.png\", \n",
    "            plot = layout, width = 12, height = 12)"
   ]
  },
  {
   "cell_type": "markdown",
   "metadata": {},
   "source": [
    "# Save data for correction and after correction"
   ]
  },
  {
   "cell_type": "code",
   "execution_count": 4,
   "metadata": {
    "vscode": {
     "languageId": "r"
    }
   },
   "outputs": [
    {
     "name": "stdout",
     "output_type": "stream",
     "text": [
      "[1] \"Save data prior to batch correction for GSE6008\"\n",
      "[1] \"Samples: 27; Features: 13237\"\n",
      "[1] \"Save data prior to batch correction for GSE14407\"\n",
      "[1] \"Samples: 24; Features: 22880\"\n",
      "[1] \"Save data prior to batch correction for GSE26712\"\n",
      "[1] \"Samples: 195; Features: 13237\"\n",
      "[1] \"Save data prior to batch correction for GSE40595\"\n",
      "[1] \"Samples: 37; Features: 22880\"\n",
      "[1] \"Save data prior to batch correction for GSE36668\"\n",
      "[1] \"Samples: 7; Features: 22880\"\n",
      "[1] \"Save data prior to batch correction for GSE69428\"\n",
      "[1] \"Samples: 19; Features: 22880\"\n"
     ]
    }
   ],
   "source": [
    "all_metadata$batch <- as.numeric(as.factor(all_metadata$Dataset)) - 1\n",
    "# all_metadata$batch <- 0\n",
    "all_metadata$Status <- as.numeric(as.factor(all_metadata$Status))\n",
    "all_metadata$Status = all_metadata$Status - 1\n",
    "\n",
    "\n",
    "for (dataset in unique(all_metadata$Dataset)) {\n",
    "    print(paste0(\"Save data prior to batch correction for \", dataset))\n",
    "    dataset_metadata <- all_metadata[all_metadata$Dataset == dataset,]\n",
    "    dataset_metadata <- dataset_metadata %>% select(sample_id, Status, batch)\n",
    "    \n",
    "    dataset_expression <- all_expression[, dataset_metadata$sample_id]\n",
    "    dataset_expression <- na.omit(dataset_expression)\n",
    "    dataset_expression <- dataset_expression[apply(dataset_expression, 1, var) > 0, ]\n",
    "\n",
    "    dataset_expression <- dataset_expression %>% rownames_to_column(\"gene_id\")\n",
    "    print(paste0(\"Samples: \", nrow(dataset_metadata), \"; Features: \", nrow(dataset_expression)))\n",
    "    \n",
    "    write.table(dataset_metadata, \n",
    "        file = paste0(\"before/\", dataset, \"/design.tsv\"), sep = \"\\t\", quote = FALSE, row.names = FALSE)\n",
    "    write.table(dataset_expression, \n",
    "        file = paste0(\"before/\", dataset, \"/expr_for_correction.tsv\"), sep = \"\\t\", quote = FALSE, row.names = FALSE)\n",
    "\n",
    "}\n",
    "\n",
    "all_expression <- na.omit(all_expression)\n",
    "all_expression <- all_expression[apply(all_expression, 1, var) > 0, ]\n",
    "all_expression <- all_expression[, all_metadata$sample_id]\n",
    "\n",
    "write.table(all_metadata %>% select(sample_id, Status, batch), \n",
    "    file = \"before/all_design.tsv\", sep = \"\\t\", quote = FALSE, row.names = FALSE)\n",
    "write.table(all_expression %>% rownames_to_column(\"gene_id\"),\n",
    "    file = \"before/all_expr_for_correction.tsv\", sep = \"\\t\", quote = FALSE, row.names = FALSE)"
   ]
  },
  {
   "cell_type": "code",
   "execution_count": 12,
   "metadata": {
    "vscode": {
     "languageId": "r"
    }
   },
   "outputs": [
    {
     "name": "stdout",
     "output_type": "stream",
     "text": [
      "[1] \"Save data prior to batch correction for GSE6008\"\n",
      "[1] \"Samples: 27; Features: 13238\"\n",
      "[1] \"Save data prior to batch correction for GSE14407\"\n",
      "[1] \"Samples: 24; Features: 13238\"\n",
      "[1] \"Save data prior to batch correction for GSE26712\"\n",
      "[1] \"Samples: 195; Features: 13238\"\n",
      "[1] \"Save data prior to batch correction for GSE40595\"\n",
      "[1] \"Samples: 37; Features: 13238\"\n",
      "[1] \"Save data prior to batch correction for GSE36668\"\n",
      "[1] \"Samples: 7; Features: 13238\"\n",
      "[1] \"Save data prior to batch correction for GSE69428\"\n",
      "[1] \"Samples: 19; Features: 13238\"\n"
     ]
    }
   ],
   "source": [
    "for (dataset in unique(all_metadata$Dataset)) {\n",
    "\n",
    "    dataset_metadata <- all_metadata[all_metadata$Dataset == dataset,]\n",
    "    print(paste0(\"Save data prior to batch correction for \", dataset))\n",
    "    dataset_expression <- all_expression[, dataset_metadata$sample_id]\n",
    "    dataset_expression <- dataset_expression %>% t() %>% as.data.frame() %>% \n",
    "    rownames_to_column(\"sample_id\")\n",
    "    print(paste0(\"Samples: \", nrow(dataset_expression), \"; Features: \", ncol(dataset_expression)))\n",
    "    \n",
    "    write.table(dataset_expression, \n",
    "        file = paste0(\"before/\", dataset, \"/kmeans/expr_for_kmeans_before.tsv\"), sep = \"\\t\", quote = FALSE, row.names = FALSE)\n",
    "\n",
    "}"
   ]
  },
  {
   "cell_type": "code",
   "execution_count": null,
   "metadata": {
    "vscode": {
     "languageId": "r"
    }
   },
   "outputs": [],
   "source": []
  },
  {
   "cell_type": "code",
   "execution_count": null,
   "metadata": {
    "vscode": {
     "languageId": "r"
    }
   },
   "outputs": [],
   "source": []
  }
 ],
 "metadata": {
  "kernelspec": {
   "display_name": "R",
   "language": "R",
   "name": "ir"
  },
  "language_info": {
   "codemirror_mode": "r",
   "file_extension": ".r",
   "mimetype": "text/x-r-source",
   "name": "R",
   "pygments_lexer": "r",
   "version": "4.4.2"
  }
 },
 "nbformat": 4,
 "nbformat_minor": 2
}
