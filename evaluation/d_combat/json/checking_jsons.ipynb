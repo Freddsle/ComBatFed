{
 "cells": [
  {
   "cell_type": "code",
   "execution_count": 221,
   "metadata": {},
   "outputs": [],
   "source": [
    "import os\n",
    "import json\n",
    "import numpy as np\n",
    "import pandas as pd\n",
    "\n",
    "from pathlib import Path"
   ]
  },
  {
   "cell_type": "code",
   "execution_count": 222,
   "metadata": {},
   "outputs": [],
   "source": [
    "# Path setup\n",
    "base_dir = Path(\"/home/yuliya/repos/cosybio/FedComBat/evaluation/d_combat/json\")\n",
    "cohorts = [\"GSE129508\", \"GSE149276\", \"GSE58135\"]\n",
    "\n",
    "# Comparison parameters\n",
    "RTOL = 1e-6\n",
    "ATOL = 1e-8\n"
   ]
  },
  {
   "cell_type": "code",
   "execution_count": 223,
   "metadata": {},
   "outputs": [],
   "source": [
    "def load_json(path):\n",
    "    with open(path, \"r\", encoding=\"utf-8\") as f:\n",
    "        return json.load(f)\n",
    "\n",
    "\n",
    "def to_df(obj):\n",
    "    \"\"\"Convert nested lists or dicts to DataFrame, safely.\"\"\"\n",
    "    if isinstance(obj, list):\n",
    "        if isinstance(obj[0], dict):  # list of dicts\n",
    "            return pd.DataFrame(obj)\n",
    "        else:\n",
    "            return pd.DataFrame([obj]) if not isinstance(obj[0], list) else pd.DataFrame(obj)\n",
    "    elif isinstance(obj, dict):\n",
    "        return pd.DataFrame.from_dict(obj)\n",
    "    return pd.DataFrame(obj)\n"
   ]
  },
  {
   "cell_type": "code",
   "execution_count": 224,
   "metadata": {},
   "outputs": [],
   "source": [
    "def compare_arrays(name, val1, val2):\n",
    "    try:\n",
    "        arr1 = np.array(val1)\n",
    "        arr2 = np.array(val2)\n",
    "        if arr1.shape != arr2.shape:\n",
    "            return f\"❌ {name}: shape mismatch {arr1.shape} vs {arr2.shape}\"\n",
    "        if not np.allclose(arr1, arr2, rtol=RTOL, atol=ATOL, equal_nan=True):\n",
    "            max_diff = np.max(np.abs(arr1 - arr2))\n",
    "            return f\"⚠️  {name}: values differ (max abs diff = {max_diff:.2e})\"\n",
    "        return f\"✅ {name}: match\"\n",
    "    except Exception as e:\n",
    "        return f\"❌ {name}: error comparing - {e}\"\n"
   ]
  },
  {
   "cell_type": "code",
   "execution_count": 225,
   "metadata": {},
   "outputs": [],
   "source": [
    "# how to get how many digits max are in the xty matrix after the decimal point\n",
    "def get_max_digits(arr):\n",
    "    if isinstance(arr, pd.DataFrame):\n",
    "        arr = arr.values\n",
    "    arr = arr.flatten()\n",
    "    max_digits = max(\n",
    "        len(f\"{x}\".rstrip(\"0\").split(\".\")[1]) if \".\" in f\"{x}\" else 0\n",
    "        for x in arr if not np.isnan(x)\n",
    "    )\n",
    "    return max_digits\n",
    "\n",
    "\n",
    "def compare_dataframes(name, val1, val2, return_df=False):\n",
    "    try:\n",
    "        df1 = to_df(val1)\n",
    "        df2 = to_df(val2)\n",
    "\n",
    "        if name == \"sigma\" or name == \"pooled_variance\":\n",
    "            df2 = df2.T\n",
    "            df2.columns = df2.loc[\"_row\"]\n",
    "            df2 = df2.drop(\"_row\")\n",
    "            df2 = df2.reset_index(drop=True)\n",
    "            # values to float\n",
    "            df2 = df2.astype(float)\n",
    "\n",
    "        df1.index = df1.index.astype(str)\n",
    "        df2.index = df2.index.astype(str)\n",
    "        df1.columns = df1.columns.astype(str)\n",
    "        df2.columns = df2.columns.astype(str)\n",
    "        \n",
    "        if \"gene_id\" in df1.columns:\n",
    "            # if gene_id is in the columns, set it as index\n",
    "            df1.set_index(\"gene_id\", inplace=True)\n",
    "            df2.set_index(\"_row\", inplace=True)\n",
    "        else:\n",
    "            # if \"_row\" in a column name, remove this column\n",
    "            df1 = df1.loc[:, ~df1.columns.str.contains(\"index\")]\n",
    "            df2 = df2.loc[:, ~df2.columns.str.contains(\"_row\")]\n",
    "                \n",
    "        if set(df1.columns) != set(df2.columns) or set(df1.index) != set(df2.index):\n",
    "            if return_df:\n",
    "                print(f\"❌ {name}: row/col names mismatch\")\n",
    "                return df1, df2\n",
    "            return f\"❌ {name}: row/col names mismatch\"\n",
    "        \n",
    "        # Sort indices to ensure consistent order for comparison\n",
    "        df1 = df1.loc[df2.index, df2.columns]\n",
    "\n",
    "        # get minimum number of digits after the decimal point\n",
    "        min_digits = min(get_max_digits(df1), get_max_digits(df2))\n",
    "        a, b = get_max_digits(df1), get_max_digits(df2)\n",
    "        # round to the minimum number of digits after the decimal point\n",
    "        df1 = df1.round(min_digits).copy()\n",
    "        df2 = df2.round(min_digits).copy()\n",
    "        # compare the two dataframes\n",
    "\n",
    "        if return_df:\n",
    "            print( \"here\")\n",
    "            return df1, df2\n",
    "\n",
    "        if not np.allclose(df1.values, df2.values, rtol=RTOL, atol=ATOL, equal_nan=True):\n",
    "            max_diff = np.max(np.abs(df1.values - df2.values))\n",
    "            if max_diff > 9e-5:\n",
    "                return f\"⚠️  {name}: values differ (max abs diff = {max_diff:.2e}, min_digits = {min_digits}, {(a, b)})\"\n",
    "            else:\n",
    "                return f\"✅ {name}: match, (max diff = {max_diff:.2e}, min_digits = {min_digits}, {(a, b)})\"\n",
    "        return f\"✅ {name}: match\"\n",
    "    except Exception as e:\n",
    "        return f\"❌ {name}: error comparing DataFrames - {e}\"\n",
    "    \n"
   ]
  },
  {
   "cell_type": "code",
   "execution_count": 226,
   "metadata": {},
   "outputs": [],
   "source": [
    "def compare_dicts(dict1, dict2):\n",
    "    keys1 = set(dict1.keys())\n",
    "    keys2 = set(dict2.keys())\n",
    "    missing_in_py = keys1 - keys2\n",
    "    missing_in_r = keys2 - keys1\n",
    "\n",
    "    results = []\n",
    "\n",
    "    if missing_in_py:\n",
    "        results.append(f\"❌ Missing in Python: {missing_in_py}\")\n",
    "    if missing_in_r:\n",
    "        results.append(f\"❌ Missing in R: {missing_in_r}\")\n",
    "\n",
    "    for key in sorted(keys1 & keys2):\n",
    "        v1 = dict1[key]\n",
    "        v2 = dict2[key]\n",
    "\n",
    "        if isinstance(v1, (float, int, list)) and isinstance(v2, (float, int, list)):\n",
    "            results.append(compare_arrays(key, v1, v2))\n",
    "        elif isinstance(v1, (dict, list)) or isinstance(v2, (dict, list)):\n",
    "            results.append(compare_dataframes(key, v1, v2))\n",
    "        else:\n",
    "            results.append(f\"❓ {key}: unrecognized types ({type(v1)}, {type(v2)})\")\n",
    "\n",
    "    return results\n"
   ]
  },
  {
   "cell_type": "code",
   "execution_count": 227,
   "metadata": {},
   "outputs": [
    {
     "name": "stdout",
     "output_type": "stream",
     "text": [
      "\n",
      "🔍 Comparing cohort: GSE129508\n",
      "✅ B_hat: match, (max diff = 5.00e-05, min_digits = 8, (20, 8))\n",
      "⚠️  a_prior: values differ (max abs diff = 8.04e-06)\n",
      "⚠️  b_prior: values differ (max abs diff = 1.57e-05)\n",
      "✅ corrected_data: match, (max diff = 5.00e-05, min_digits = 8, (20, 8))\n",
      "✅ delta_hat: match\n",
      "✅ delta_star: match\n",
      "⚠️  gamma_bar: values differ (max abs diff = 3.31e-05)\n",
      "✅ gamma_hat: match\n",
      "✅ gamma_star: match\n",
      "✅ mod_mean: match, (max diff = 5.00e-05, min_digits = 8, (20, 8))\n",
      "✅ pooled_variance: match\n",
      "✅ sigma: match\n",
      "✅ stand_mean: match\n",
      "⚠️  t2: values differ (max abs diff = 2.04e-05)\n",
      "✅ xtx: match\n",
      "✅ xty: match\n"
     ]
    }
   ],
   "source": [
    "for cohort in cohorts[:1]:\n",
    "    py_file = base_dir / f\"{cohort}_Py_out.json\"\n",
    "    r_file = base_dir / f\"{cohort}_D_out.json\"\n",
    "\n",
    "    print(f\"\\n🔍 Comparing cohort: {cohort}\")\n",
    "    if not py_file.exists() or not r_file.exists():\n",
    "        print(f\"❌ Missing file for {cohort}\")\n",
    "        continue\n",
    "\n",
    "    py_data = load_json(py_file)\n",
    "    r_data = load_json(r_file)\n",
    "\n",
    "    result_lines = compare_dicts(py_data, r_data)\n",
    "    for line in result_lines:\n",
    "        print(line)"
   ]
  },
  {
   "cell_type": "code",
   "execution_count": null,
   "metadata": {},
   "outputs": [],
   "source": []
  },
  {
   "cell_type": "code",
   "execution_count": null,
   "metadata": {},
   "outputs": [],
   "source": []
  },
  {
   "cell_type": "code",
   "execution_count": null,
   "metadata": {},
   "outputs": [],
   "source": []
  },
  {
   "cell_type": "code",
   "execution_count": null,
   "metadata": {},
   "outputs": [],
   "source": []
  },
  {
   "cell_type": "code",
   "execution_count": 218,
   "metadata": {},
   "outputs": [
    {
     "name": "stdout",
     "output_type": "stream",
     "text": [
      "here\n"
     ]
    }
   ],
   "source": [
    "xty_py, xty_r = compare_dataframes('pooled_variance', py_data['pooled_variance'], r_data['pooled_variance'], return_df=True)"
   ]
  },
  {
   "cell_type": "code",
   "execution_count": 219,
   "metadata": {},
   "outputs": [
    {
     "data": {
      "text/html": [
       "<div>\n",
       "<style scoped>\n",
       "    .dataframe tbody tr th:only-of-type {\n",
       "        vertical-align: middle;\n",
       "    }\n",
       "\n",
       "    .dataframe tbody tr th {\n",
       "        vertical-align: top;\n",
       "    }\n",
       "\n",
       "    .dataframe thead th {\n",
       "        text-align: right;\n",
       "    }\n",
       "</style>\n",
       "<table border=\"1\" class=\"dataframe\">\n",
       "  <thead>\n",
       "    <tr style=\"text-align: right;\">\n",
       "      <th>_row</th>\n",
       "      <th>A1BG</th>\n",
       "      <th>A1CF</th>\n",
       "      <th>A2M</th>\n",
       "      <th>A2ML1</th>\n",
       "      <th>A2MP1</th>\n",
       "      <th>A3GALT2</th>\n",
       "      <th>A4GALT</th>\n",
       "      <th>A4GNT</th>\n",
       "      <th>AAAS</th>\n",
       "      <th>AACS</th>\n",
       "      <th>...</th>\n",
       "      <th>ZZEF1</th>\n",
       "      <th>ZZZ3</th>\n",
       "      <th>BP-21201H5.1</th>\n",
       "      <th>BP-21264C1.1</th>\n",
       "      <th>BP-2171C21.2</th>\n",
       "      <th>BP-2171C21.4</th>\n",
       "      <th>BP-2171C21.5</th>\n",
       "      <th>BP-2171C21.6</th>\n",
       "      <th>BP-2189O9.2</th>\n",
       "      <th>YR211F11.2</th>\n",
       "    </tr>\n",
       "  </thead>\n",
       "  <tbody>\n",
       "    <tr>\n",
       "      <th>0</th>\n",
       "      <td>1.351</td>\n",
       "      <td>1.0412</td>\n",
       "      <td>1.6807</td>\n",
       "      <td>3.9378</td>\n",
       "      <td>1.7469</td>\n",
       "      <td>1.146</td>\n",
       "      <td>1.9965</td>\n",
       "      <td>0.9262</td>\n",
       "      <td>0.1614</td>\n",
       "      <td>0.3173</td>\n",
       "      <td>...</td>\n",
       "      <td>0.5698</td>\n",
       "      <td>0.222</td>\n",
       "      <td>0.9341</td>\n",
       "      <td>1.553</td>\n",
       "      <td>0.901</td>\n",
       "      <td>1.8032</td>\n",
       "      <td>0.8627</td>\n",
       "      <td>1.2274</td>\n",
       "      <td>1.9905</td>\n",
       "      <td>0.6619</td>\n",
       "    </tr>\n",
       "  </tbody>\n",
       "</table>\n",
       "<p>1 rows × 28823 columns</p>\n",
       "</div>"
      ],
      "text/plain": [
       "_row   A1BG    A1CF     A2M   A2ML1   A2MP1  A3GALT2  A4GALT   A4GNT    AAAS  \\\n",
       "0     1.351  1.0412  1.6807  3.9378  1.7469    1.146  1.9965  0.9262  0.1614   \n",
       "\n",
       "_row    AACS  ...   ZZEF1   ZZZ3  BP-21201H5.1  BP-21264C1.1  BP-2171C21.2  \\\n",
       "0     0.3173  ...  0.5698  0.222        0.9341         1.553         0.901   \n",
       "\n",
       "_row  BP-2171C21.4  BP-2171C21.5  BP-2171C21.6  BP-2189O9.2  YR211F11.2  \n",
       "0           1.8032        0.8627        1.2274       1.9905      0.6619  \n",
       "\n",
       "[1 rows x 28823 columns]"
      ]
     },
     "execution_count": 219,
     "metadata": {},
     "output_type": "execute_result"
    }
   ],
   "source": [
    "xty_py"
   ]
  },
  {
   "cell_type": "code",
   "execution_count": 220,
   "metadata": {},
   "outputs": [
    {
     "data": {
      "text/html": [
       "<div>\n",
       "<style scoped>\n",
       "    .dataframe tbody tr th:only-of-type {\n",
       "        vertical-align: middle;\n",
       "    }\n",
       "\n",
       "    .dataframe tbody tr th {\n",
       "        vertical-align: top;\n",
       "    }\n",
       "\n",
       "    .dataframe thead th {\n",
       "        text-align: right;\n",
       "    }\n",
       "</style>\n",
       "<table border=\"1\" class=\"dataframe\">\n",
       "  <thead>\n",
       "    <tr style=\"text-align: right;\">\n",
       "      <th>_row</th>\n",
       "      <th>A1BG</th>\n",
       "      <th>A1CF</th>\n",
       "      <th>A2M</th>\n",
       "      <th>A2ML1</th>\n",
       "      <th>A2MP1</th>\n",
       "      <th>A3GALT2</th>\n",
       "      <th>A4GALT</th>\n",
       "      <th>A4GNT</th>\n",
       "      <th>AAAS</th>\n",
       "      <th>AACS</th>\n",
       "      <th>...</th>\n",
       "      <th>ZZEF1</th>\n",
       "      <th>ZZZ3</th>\n",
       "      <th>BP-21201H5.1</th>\n",
       "      <th>BP-21264C1.1</th>\n",
       "      <th>BP-2171C21.2</th>\n",
       "      <th>BP-2171C21.4</th>\n",
       "      <th>BP-2171C21.5</th>\n",
       "      <th>BP-2171C21.6</th>\n",
       "      <th>BP-2189O9.2</th>\n",
       "      <th>YR211F11.2</th>\n",
       "    </tr>\n",
       "  </thead>\n",
       "  <tbody>\n",
       "    <tr>\n",
       "      <th>0</th>\n",
       "      <td>0.8816</td>\n",
       "      <td>1.0835</td>\n",
       "      <td>2.0873</td>\n",
       "      <td>2.6537</td>\n",
       "      <td>1.5471</td>\n",
       "      <td>1.1657</td>\n",
       "      <td>1.7701</td>\n",
       "      <td>1.1715</td>\n",
       "      <td>0.149</td>\n",
       "      <td>0.271</td>\n",
       "      <td>...</td>\n",
       "      <td>0.3227</td>\n",
       "      <td>0.1831</td>\n",
       "      <td>0.8433</td>\n",
       "      <td>1.6968</td>\n",
       "      <td>0.9011</td>\n",
       "      <td>2.1716</td>\n",
       "      <td>1.0627</td>\n",
       "      <td>1.4699</td>\n",
       "      <td>2.438</td>\n",
       "      <td>1.3389</td>\n",
       "    </tr>\n",
       "  </tbody>\n",
       "</table>\n",
       "<p>1 rows × 28823 columns</p>\n",
       "</div>"
      ],
      "text/plain": [
       "_row    A1BG    A1CF     A2M   A2ML1   A2MP1  A3GALT2  A4GALT   A4GNT   AAAS  \\\n",
       "0     0.8816  1.0835  2.0873  2.6537  1.5471   1.1657  1.7701  1.1715  0.149   \n",
       "\n",
       "_row   AACS  ...   ZZEF1    ZZZ3  BP-21201H5.1  BP-21264C1.1  BP-2171C21.2  \\\n",
       "0     0.271  ...  0.3227  0.1831        0.8433        1.6968        0.9011   \n",
       "\n",
       "_row  BP-2171C21.4  BP-2171C21.5  BP-2171C21.6  BP-2189O9.2  YR211F11.2  \n",
       "0           2.1716        1.0627        1.4699        2.438      1.3389  \n",
       "\n",
       "[1 rows x 28823 columns]"
      ]
     },
     "execution_count": 220,
     "metadata": {},
     "output_type": "execute_result"
    }
   ],
   "source": [
    "xty_r"
   ]
  },
  {
   "cell_type": "code",
   "execution_count": 215,
   "metadata": {},
   "outputs": [
    {
     "name": "stdout",
     "output_type": "stream",
     "text": [
      "_row\n",
      "A1BG            float64\n",
      "A1CF            float64\n",
      "A2M             float64\n",
      "A2ML1           float64\n",
      "A2MP1           float64\n",
      "                 ...   \n",
      "BP-2171C21.4    float64\n",
      "BP-2171C21.5    float64\n",
      "BP-2171C21.6    float64\n",
      "BP-2189O9.2     float64\n",
      "YR211F11.2      float64\n",
      "Length: 28823, dtype: object\n",
      "_row\n",
      "A1BG            float64\n",
      "A1CF            float64\n",
      "A2M             float64\n",
      "A2ML1           float64\n",
      "A2MP1           float64\n",
      "                 ...   \n",
      "BP-2171C21.4    float64\n",
      "BP-2171C21.5    float64\n",
      "BP-2171C21.6    float64\n",
      "BP-2189O9.2     float64\n",
      "YR211F11.2      float64\n",
      "Length: 28823, dtype: object\n"
     ]
    }
   ],
   "source": [
    "print(xty_py.dtypes)\n",
    "print(xty_r.dtypes)\n"
   ]
  },
  {
   "cell_type": "code",
   "execution_count": 216,
   "metadata": {},
   "outputs": [
    {
     "data": {
      "text/plain": [
       "False"
      ]
     },
     "execution_count": 216,
     "metadata": {},
     "output_type": "execute_result"
    }
   ],
   "source": [
    "np.allclose(xty_py.values, xty_r.values, rtol=RTOL, atol=ATOL, equal_nan=True)"
   ]
  },
  {
   "cell_type": "code",
   "execution_count": 217,
   "metadata": {},
   "outputs": [
    {
     "data": {
      "text/plain": [
       "Index(['0'], dtype='object')"
      ]
     },
     "execution_count": 217,
     "metadata": {},
     "output_type": "execute_result"
    }
   ],
   "source": [
    "xty_r.index"
   ]
  },
  {
   "cell_type": "code",
   "execution_count": null,
   "metadata": {},
   "outputs": [],
   "source": []
  }
 ],
 "metadata": {
  "kernelspec": {
   "display_name": "fedcombat-DngeI4K1-py3.12",
   "language": "python",
   "name": "python3"
  },
  "language_info": {
   "codemirror_mode": {
    "name": "ipython",
    "version": 3
   },
   "file_extension": ".py",
   "mimetype": "text/x-python",
   "name": "python",
   "nbconvert_exporter": "python",
   "pygments_lexer": "ipython3",
   "version": "3.12.5"
  }
 },
 "nbformat": 4,
 "nbformat_minor": 2
}
