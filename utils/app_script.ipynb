{
 "cells": [
  {
   "cell_type": "code",
   "execution_count": 13,
   "metadata": {},
   "outputs": [],
   "source": [
    "import logging\n",
    "import sys\n",
    "# for json files\n",
    "import json\n",
    "\n",
    "import pandas as pd\n",
    "import numpy as np\n",
    "import yaml\n",
    "\n",
    "# CHANGE THIS TO THE DIRECTORY WHERE YOU HAVE THE REPO CLONED\n",
    "sys.path.append('/home/yuliya/repos/cosybio/FedComBat/fedcombat')\n"
   ]
  },
  {
   "cell_type": "code",
   "execution_count": 14,
   "metadata": {},
   "outputs": [],
   "source": [
    "from classes.client import Client\n",
    "import classes.coordinator_utils as c_utils\n",
    "\n",
    "logging.basicConfig(\n",
    "    level=logging.DEBUG, format=\"%(asctime)s - %(name)s - %(levelname)s - %(message)s\", datefmt=\"%d-%b-%y %H:%M:%S\"\n",
    ")"
   ]
  },
  {
   "cell_type": "markdown",
   "metadata": {},
   "source": [
    "# set params"
   ]
  },
  {
   "cell_type": "code",
   "execution_count": 15,
   "metadata": {},
   "outputs": [],
   "source": [
    "# data_dir = \"before\"\n",
    "# data_dir = \"/home/yuliya/repos/cosybio/FedComBat/datasets/small_test/before\"\n",
    "# output_path = \"/home/yuliya/repos/cosybio/FedComBat/datasets/small_test/after\"\n",
    "data_dir = \"/home/yuliya/repos/cosybio/FedComBat/datasets/Breast_cancer_RNASeq/before\"\n",
    "output_path = \"/home/yuliya/repos/cosybio/FedComBat/datasets/Breast_cancer_RNASeq/after\"\n",
    "\n",
    "cohorts = [\"GSE129508\", \"GSE58135\", \"GSE149276\"]\n",
    "\n",
    "data_dir = f\"{data_dir}\"  # path to data folder\n",
    "output_path = f\"{output_path}/\"  # path to output folder"
   ]
  },
  {
   "cell_type": "code",
   "execution_count": 16,
   "metadata": {},
   "outputs": [
    {
     "name": "stderr",
     "output_type": "stream",
     "text": [
      "INFO:root:Processing cohort GSE129508\n",
      "INFO:classes.client:Got the following config:\n",
      "{'FedComBat': {'data_filename': 'expr_for_correction.tsv', 'data_separator': '\\t', 'min_samples': 5, 'covariates': ['lum'], 'smpc': True, 'design_filename': 'design.tsv', 'design_separator': '\\t', 'rows_as_features': True, 'index_col': 0, 'position': 0, 'batch_col_name': 'batch'}}\n",
      "INFO:classes.client:min_samples set to 5\n",
      "INFO:classes.client:Opening dataset /home/yuliya/repos/cosybio/FedComBat/datasets/Breast_cancer_RNASeq/before/GSE129508/expr_for_correction.tsv\n",
      "INFO:classes.client:Shape of rawdata: (30174, 25)\n",
      "INFO:classes.client:Cleaning up data, removing all-NaN rows and columns, removing all-zero rows\n",
      "INFO:classes.client:Shape of data before cleanup: (30174, 25)\n",
      "INFO:classes.client:Shape of data after cleanup: (30174, 25)\n",
      "INFO:classes.client:Finished loading data, shape: (30174, 25), num_features: 30174, num_samples: 25\n",
      "INFO:root:Processing cohort GSE58135\n",
      "INFO:classes.client:Got the following config:\n",
      "{'FedComBat': {'data_filename': 'expr_for_correction.tsv', 'data_separator': '\\t', 'min_samples': 5, 'covariates': ['lum'], 'smpc': True, 'design_filename': 'design.tsv', 'design_separator': '\\t', 'rows_as_features': True, 'index_col': 0, 'position': 2, 'batch_col_name': 'batch'}}\n",
      "INFO:classes.client:min_samples set to 5\n",
      "INFO:classes.client:Opening dataset /home/yuliya/repos/cosybio/FedComBat/datasets/Breast_cancer_RNASeq/before/GSE58135/expr_for_correction.tsv\n",
      "INFO:classes.client:Shape of rawdata: (34675, 75)\n",
      "INFO:classes.client:Cleaning up data, removing all-NaN rows and columns, removing all-zero rows\n",
      "INFO:classes.client:Shape of data before cleanup: (34675, 75)\n",
      "INFO:classes.client:Shape of data after cleanup: (34675, 75)\n",
      "INFO:classes.client:Finished loading data, shape: (34675, 75), num_features: 34675, num_samples: 75\n",
      "INFO:root:Processing cohort GSE149276\n",
      "INFO:classes.client:Got the following config:\n",
      "{'FedComBat': {'data_filename': 'expr_for_correction.tsv', 'data_separator': '\\t', 'min_samples': 5, 'covariates': ['lum'], 'smpc': True, 'design_filename': 'design.tsv', 'design_separator': '\\t', 'rows_as_features': True, 'index_col': 0, 'position': 1, 'batch_col_name': 'batch'}}\n",
      "INFO:classes.client:min_samples set to 5\n",
      "INFO:classes.client:Opening dataset /home/yuliya/repos/cosybio/FedComBat/datasets/Breast_cancer_RNASeq/before/GSE149276/expr_for_correction.tsv\n",
      "INFO:classes.client:Shape of rawdata: (31377, 31)\n",
      "INFO:classes.client:Cleaning up data, removing all-NaN rows and columns, removing all-zero rows\n",
      "INFO:classes.client:Shape of data before cleanup: (31377, 31)\n",
      "INFO:classes.client:Shape of data after cleanup: (31377, 31)\n",
      "INFO:classes.client:Finished loading data, shape: (31377, 31), num_features: 31377, num_samples: 31\n"
     ]
    }
   ],
   "source": [
    "global_variables = set()\n",
    "global_batch_labels = set()\n",
    "\n",
    "clients = {}\n",
    "\n",
    "for cohort_name in cohorts:\n",
    "\n",
    "    client = Client()\n",
    "\n",
    "    client.cohort_name = cohort_name\n",
    "    logging.info(f\"Processing cohort {cohort_name}\")\n",
    "    \n",
    "    client.config_based_init(\n",
    "        client_name = cohort_name, \n",
    "        input_folder = f\"{data_dir}/{cohort_name}\",\n",
    "    )\n",
    "\n",
    "    if global_variables:\n",
    "        global_variables = global_variables.intersection(client.variables)\n",
    "    else:\n",
    "        global_variables = set(client.variables)\n",
    "    global_batch_labels.update(client.batch_labels)\n",
    "\n",
    "    clients[cohort_name] = client\n",
    "\n",
    "if len(global_batch_labels) != len(set(global_batch_labels)):\n",
    "    raise ValueError(\"Batch labels are not unique across clients, please adjust them\")\n",
    "            "
   ]
  },
  {
   "cell_type": "code",
   "execution_count": 17,
   "metadata": {},
   "outputs": [
    {
     "name": "stderr",
     "output_type": "stream",
     "text": [
      "INFO:classes.client:Feature count: 30174\n",
      "INFO:classes.client:Dropped 0 features completely empty after processing batch 'GSE129508|0'.\n",
      "INFO:classes.client:Checking feature presence in batch 'GSE129508|0' with 25 samples.\n",
      "INFO:classes.client:Feature count: 34675\n",
      "INFO:classes.client:Dropped 0 features completely empty after processing batch 'GSE58135|2'.\n",
      "INFO:classes.client:Checking feature presence in batch 'GSE58135|2' with 75 samples.\n",
      "INFO:classes.client:Feature count: 31377\n",
      "INFO:classes.client:Dropped 0 features completely empty after processing batch 'GSE149276|1'.\n",
      "INFO:classes.client:Checking feature presence in batch 'GSE149276|1' with 31 samples.\n"
     ]
    }
   ],
   "source": [
    "feature_information = []\n",
    "for cohort_name in cohorts:\n",
    "    client = clients[cohort_name]\n",
    "    # min_samples = max(len(global_batch_labels) + len(global_variables) + 1, client.min_samples)    \n",
    "    min_samples = 0\n",
    "    batch_feature_presence = client.get_batch_feature_presence_info(min_samples=client.min_samples)\n",
    "\n",
    "    feature_information.append(\n",
    "        [client.cohort_name,\n",
    "        client.position,\n",
    "        client.reference_batch,\n",
    "        batch_feature_presence]\n",
    "    )\n"
   ]
  },
  {
   "cell_type": "code",
   "execution_count": 18,
   "metadata": {},
   "outputs": [
    {
     "name": "stderr",
     "output_type": "stream",
     "text": [
      "INFO:classes.coordinator_utils:Found 28823 features present in (at least) 3 clients\n",
      "INFO:classes.coordinator_utils:Total number of unique features: 34818\n",
      "INFO:classes.coordinator_utils:Using specified client order: ['GSE129508', 'GSE149276', 'GSE58135']\n",
      "INFO:classes.coordinator_utils:Cohorts order: ['GSE129508|0', 'GSE149276|1', 'GSE58135|2']\n"
     ]
    }
   ],
   "source": [
    "global_feature_names, feature_presence_matrix, cohorts_order = \\\n",
    "    c_utils.select_common_features_variables(feature_information,\n",
    "                                            default_order=[0, 1, 2],\n",
    "                                            min_clients=3)\n"
   ]
  },
  {
   "cell_type": "code",
   "execution_count": 19,
   "metadata": {},
   "outputs": [
    {
     "name": "stderr",
     "output_type": "stream",
     "text": [
      "INFO:root:\n",
      "Processing cohort GSE129508\n",
      "INFO:root:[validate] waiting for common features and covariates\n",
      "INFO:classes.client:Client GSE129508: Data validated\n",
      "INFO:classes.client:Client GSE129508: Inputs validated.\n",
      "INFO:root:[validate] Inputs have been validated\n",
      "INFO:classes.client:Local features: 30174; Global features: 28823\n",
      "INFO:classes.client:Dropping 1351 extra local features/rows.\n",
      "INFO:root:[validate] Data has been set to contain all global features\n",
      "INFO:classes.client:Client GSE129508 has only one batch\n",
      "INFO:root:[validate] Design matrix has been created with shape (25, 4)\n",
      "INFO:root:[validate] design has been created\n",
      "INFO:root:\n",
      "Processing cohort GSE58135\n",
      "INFO:root:[validate] waiting for common features and covariates\n",
      "INFO:classes.client:Client GSE58135: Data validated\n",
      "INFO:classes.client:Client GSE58135: Inputs validated.\n",
      "INFO:root:[validate] Inputs have been validated\n",
      "INFO:classes.client:Local features: 34675; Global features: 28823\n",
      "INFO:classes.client:Dropping 5852 extra local features/rows.\n",
      "INFO:root:[validate] Data has been set to contain all global features\n",
      "INFO:classes.client:Client GSE58135 has only one batch\n",
      "INFO:root:[validate] Design matrix has been created with shape (75, 4)\n",
      "INFO:root:[validate] design has been created\n",
      "INFO:root:\n",
      "Processing cohort GSE149276\n",
      "INFO:root:[validate] waiting for common features and covariates\n",
      "INFO:classes.client:Client GSE149276: Data validated\n",
      "INFO:classes.client:Client GSE149276: Inputs validated.\n",
      "INFO:root:[validate] Inputs have been validated\n",
      "INFO:classes.client:Local features: 31377; Global features: 28823\n",
      "INFO:classes.client:Dropping 2554 extra local features/rows.\n",
      "INFO:root:[validate] Data has been set to contain all global features\n",
      "INFO:classes.client:Client GSE149276 has only one batch\n",
      "INFO:root:[validate] Design matrix has been created with shape (31, 4)\n",
      "INFO:root:[validate] design has been created\n"
     ]
    }
   ],
   "source": [
    "for cohort_name in cohorts:\n",
    "    logging.info(f\"\\nProcessing cohort {cohort_name}\")\n",
    "    client = clients[cohort_name]\n",
    "    logging.info(\"[validate] waiting for common features and covariates\")\n",
    "\n",
    "    client.validate_inputs(global_variables)\n",
    "    logging.info(\"[validate] Inputs have been validated\")\n",
    "    client.set_data(global_feature_names)\n",
    "    logging.info(\"[validate] Data has been set to contain all global features\")\n",
    "\n",
    "    client.TEST_MODE = True\n",
    "    # get all client names to generate design matrix\n",
    "    client.create_design(cohorts_order)\n",
    "    logging.info(f\"[validate] Design matrix has been created with shape {client.design.shape}\")\n",
    "    logging.info(\"[validate] design has been created\")"
   ]
  },
  {
   "cell_type": "code",
   "execution_count": 20,
   "metadata": {},
   "outputs": [
    {
     "name": "stderr",
     "output_type": "stream",
     "text": [
      "INFO:root:\n",
      "Processing cohort GSE129508\n",
      "INFO:root:[ComBat-first_step:] Starting the first step of ComBat\n",
      "INFO:root:[ComBat-first_step:] Adjusting for 1 covariate(s) or covariate level(s)\n",
      "INFO:root:[ComBat-first_step:] Computation done, sending data to coordinator\n",
      "INFO:root:[ComBat-first_step:] XtX of shape (28823, 4, 4), X of shape (25, 4), XtY of shape (28823, 4)\n",
      "INFO:root:\n",
      "Processing cohort GSE58135\n",
      "INFO:root:[ComBat-first_step:] Starting the first step of ComBat\n",
      "INFO:root:[ComBat-first_step:] Adjusting for 1 covariate(s) or covariate level(s)\n",
      "INFO:root:[ComBat-first_step:] Computation done, sending data to coordinator\n",
      "INFO:root:[ComBat-first_step:] XtX of shape (28823, 4, 4), X of shape (75, 4), XtY of shape (28823, 4)\n",
      "INFO:root:\n",
      "Processing cohort GSE149276\n",
      "INFO:root:[ComBat-first_step:] Starting the first step of ComBat\n",
      "INFO:root:[ComBat-first_step:] Adjusting for 1 covariate(s) or covariate level(s)\n",
      "INFO:root:[ComBat-first_step:] Computation done, sending data to coordinator\n",
      "INFO:root:[ComBat-first_step:] XtX of shape (28823, 4, 4), X of shape (31, 4), XtY of shape (28823, 4)\n",
      "INFO:root:[ComBat-first_step:] All clients have finished the first step of ComBat\n",
      "INFO:root:[ComBat-first_step:] Ref size: [25 31 75]\n",
      "INFO:root:[ComBat-first_step:] XtX shape: (28823, 4, 4), XtY shape: (28823, 4)\n"
     ]
    }
   ],
   "source": [
    "XtX_global = None\n",
    "XtY_global = None\n",
    "ref_size_global = None\n",
    "\n",
    "for cohort_name in cohorts:\n",
    "    logging.info(f\"\\nProcessing cohort {cohort_name}\")\n",
    "    client = clients[cohort_name]\n",
    "\n",
    "    logging.info(\"[ComBat-first_step:] Starting the first step of ComBat\")\n",
    "    logging.info(f\"[ComBat-first_step:] Adjusting for {len(client.variables)} covariate(s) or covariate level(s)\")\n",
    "    if client.mean_only:\n",
    "        logging.info(\"[ComBat-first_step:] Performing ComBat with mean only.\")\n",
    "    \n",
    "    # getting XtX and Xty\n",
    "    XtX, XtY = client.compute_XtX_XtY()\n",
    "    # XtX, XtX = XtX[0], XtX[1]\n",
    "    design_cols = client.design.shape[1]\n",
    "    ref_size = [sum(client.design.iloc[:, i]) for i in range(design_cols - len(client.variables))]\n",
    "\n",
    "    if XtY_global is None:\n",
    "        XtX_global = XtX.copy()\n",
    "        XtY_global = XtY.copy()\n",
    "        ref_size_global = np.array(ref_size)\n",
    "    else:\n",
    "        XtX_global += XtX.copy()\n",
    "        XtY_global += XtY.copy()\n",
    "        ref_size_global += ref_size.copy()\n",
    "    \n",
    "    logging.info(\"[ComBat-first_step:] Computation done, sending data to coordinator\")\n",
    "    logging.info(f\"[ComBat-first_step:] XtX of shape {XtX.shape}, X of shape {client.design.shape}, XtY of shape {XtY.shape}\")\n",
    "\n",
    "\n",
    "logging.info(\"[ComBat-first_step:] All clients have finished the first step of ComBat\")\n",
    "logging.info(f\"[ComBat-first_step:] Ref size: {ref_size_global}\")\n",
    "logging.info(f\"[ComBat-first_step:] XtX shape: {XtX_global.shape}, XtY shape: {XtY_global.shape}\")\n",
    "\n",
    "ref_size = ref_size_global.copy()\n"
   ]
  },
  {
   "cell_type": "code",
   "execution_count": 21,
   "metadata": {},
   "outputs": [
    {
     "name": "stderr",
     "output_type": "stream",
     "text": [
      "INFO:classes.coordinator_utils:Computing B_hat\n",
      "INFO:classes.coordinator_utils:B_hat has been computed\n",
      "INFO:root:[Compute_b_hat:] B_hat has been computed.\n",
      "INFO:classes.coordinator_utils:Grand mean and stand mean have been computed\n",
      "INFO:classes.coordinator_utils:Grand mean shape: (28823,), stand mean shape: (28823, 131)\n",
      "INFO:classes.coordinator_utils:XtX_global shape: (28823, 4, 4), XtY_global shape: (28823, 4)\n",
      "INFO:root:[Compute_b_hat:] Grand mean and stand mean have been computed.\n"
     ]
    }
   ],
   "source": [
    "n = client.data.values.shape[0]\n",
    "k = client.design.shape[1]\n",
    "\n",
    "B_hat = c_utils.compute_B_hat(XtX_global, XtY_global)\n",
    "logging.info(\"[Compute_b_hat:] B_hat has been computed.\")\n",
    "grand_mean, stand_mean = c_utils.compute_mean(XtX_global, XtY_global, B_hat, ref_size)\n",
    "logging.info(\"[Compute_b_hat:] Grand mean and stand mean have been computed.\")"
   ]
  },
  {
   "cell_type": "code",
   "execution_count": 22,
   "metadata": {},
   "outputs": [
    {
     "name": "stderr",
     "output_type": "stream",
     "text": [
      "INFO:root:[Compute_sigma_site:] Sigma site has been computed for GSE129508\n",
      "INFO:root:[Compute_sigma_site:] Sigma site shape: (28823,)\n",
      "INFO:root:[Compute_sigma_site:] Sigma site has been computed for GSE58135\n",
      "INFO:root:[Compute_sigma_site:] Sigma site shape: (28823,)\n",
      "INFO:root:[Compute_sigma_site:] Sigma site has been computed for GSE149276\n",
      "INFO:root:[Compute_sigma_site:] Sigma site shape: (28823,)\n"
     ]
    }
   ],
   "source": [
    "var_list = []\n",
    "\n",
    "for cohort_name in cohorts:\n",
    "    client = clients[cohort_name]\n",
    "    client.B_hat = B_hat\n",
    "    sigma_site = client.get_sigma_summary(B_hat, ref_size)\n",
    "    logging.info(f\"[Compute_sigma_site:] Sigma site has been computed for {cohort_name}\")\n",
    "    logging.info(f\"[Compute_sigma_site:] Sigma site shape: {sigma_site.shape}\")\n",
    "\n",
    "    var_list.append(sigma_site * client.data.shape[1])\n"
   ]
  },
  {
   "cell_type": "code",
   "execution_count": 23,
   "metadata": {},
   "outputs": [
    {
     "name": "stderr",
     "output_type": "stream",
     "text": [
      "INFO:root:[Compute_pooled_variance:] Pooled variance has been computed.\n",
      "INFO:root:[Compute_pooled_variance:] Pooled variance shape: (28823,)\n"
     ]
    }
   ],
   "source": [
    "pooled_variance = c_utils.get_pooled_variance(var_list, ref_size)\n",
    "logging.info(\"[Compute_pooled_variance:] Pooled variance has been computed.\")\n",
    "logging.info(f\"[Compute_pooled_variance:] Pooled variance shape: {pooled_variance.shape}\")\n"
   ]
  },
  {
   "cell_type": "code",
   "execution_count": 24,
   "metadata": {},
   "outputs": [],
   "source": [
    "# # pooled_variance - reshare and add columns - features\n",
    "# pooled_variance = pd.DataFrame(pooled_variance.reshape(-1, 1), index=global_feature_names, columns=[\"pooled_variance\"])\n",
    "# pooled_variance"
   ]
  },
  {
   "cell_type": "code",
   "execution_count": 25,
   "metadata": {},
   "outputs": [
    {
     "name": "stderr",
     "output_type": "stream",
     "text": [
      "INFO:root:[calculate_estimates] Getting standardized data...\n",
      "INFO:classes.client:mod_mean shape: (28823, 25)\n",
      "INFO:classes.client:Standardizing data...\n",
      "INFO:classes.client:Data standardized, shape: (28823, 25)\n",
      "INFO:root:[calculate_estimates] Standardized data has been computed.\n",
      "INFO:classes.client:Computed gamma_hat, shape: (1, 28823)\n",
      "INFO:classes.client:Computed delta_hat, shape: (1, 28823)\n",
      "INFO:classes.client:Computed naive estimates.\n",
      "INFO:root:[calculate_estimates] Getting parametric Empirical Bayes estimates...\n",
      "INFO:classes.client:Computed a_prior and b_prior.\n",
      "INFO:classes.client:Computed EB estimators.\n",
      "INFO:root:[calculate_estimates] Empirical Bayes estimates have been computed.\n",
      "INFO:classes.client:Correcting data...\n",
      "INFO:classes.client:Rescaling and adding back mean adjustments...\n",
      "INFO:classes.client:Data shape: (28823, 25)\n",
      "INFO:classes.client:var_pooled shape: (28823,)\n",
      "INFO:classes.client:stand_mean shape: (28823, 25)\n",
      "INFO:classes.client:mod_mean shape: (28823, 25)\n",
      "INFO:classes.client:indices shape: 25\n",
      "INFO:classes.client:Rescaling completed.\n",
      "INFO:classes.client:Data corrected, shape: (28823, 25)\n",
      "INFO:root:[calculate_estimates] Corrected data has been computed.\n",
      "INFO:root:[calculate_estimates] Getting standardized data...\n",
      "INFO:classes.client:mod_mean shape: (28823, 75)\n",
      "INFO:classes.client:Standardizing data...\n",
      "INFO:classes.client:Data standardized, shape: (28823, 75)\n",
      "INFO:root:[calculate_estimates] Standardized data has been computed.\n",
      "INFO:classes.client:Computed gamma_hat, shape: (1, 28823)\n",
      "INFO:classes.client:Computed delta_hat, shape: (1, 28823)\n",
      "INFO:classes.client:Computed naive estimates.\n",
      "INFO:root:[calculate_estimates] Getting parametric Empirical Bayes estimates...\n",
      "INFO:classes.client:Computed a_prior and b_prior.\n",
      "INFO:classes.client:Computed EB estimators.\n",
      "INFO:root:[calculate_estimates] Empirical Bayes estimates have been computed.\n",
      "INFO:classes.client:Correcting data...\n",
      "INFO:classes.client:Rescaling and adding back mean adjustments...\n",
      "INFO:classes.client:Data shape: (28823, 75)\n",
      "INFO:classes.client:var_pooled shape: (28823,)\n",
      "INFO:classes.client:stand_mean shape: (28823, 75)\n",
      "INFO:classes.client:mod_mean shape: (28823, 75)\n",
      "INFO:classes.client:indices shape: 75\n",
      "INFO:classes.client:Rescaling completed.\n",
      "INFO:classes.client:Data corrected, shape: (28823, 75)\n",
      "INFO:root:[calculate_estimates] Corrected data has been computed.\n",
      "INFO:root:[calculate_estimates] Getting standardized data...\n",
      "INFO:classes.client:mod_mean shape: (28823, 31)\n",
      "INFO:classes.client:Standardizing data...\n",
      "INFO:classes.client:Data standardized, shape: (28823, 31)\n",
      "INFO:root:[calculate_estimates] Standardized data has been computed.\n",
      "INFO:classes.client:Computed gamma_hat, shape: (1, 28823)\n",
      "INFO:classes.client:Computed delta_hat, shape: (1, 28823)\n",
      "INFO:classes.client:Computed naive estimates.\n",
      "INFO:root:[calculate_estimates] Getting parametric Empirical Bayes estimates...\n",
      "INFO:classes.client:Computed a_prior and b_prior.\n",
      "INFO:classes.client:Computed EB estimators.\n",
      "INFO:root:[calculate_estimates] Empirical Bayes estimates have been computed.\n",
      "INFO:classes.client:Correcting data...\n",
      "INFO:classes.client:Rescaling and adding back mean adjustments...\n",
      "INFO:classes.client:Data shape: (28823, 31)\n",
      "INFO:classes.client:var_pooled shape: (28823,)\n",
      "INFO:classes.client:stand_mean shape: (28823, 31)\n",
      "INFO:classes.client:mod_mean shape: (28823, 31)\n",
      "INFO:classes.client:indices shape: 31\n",
      "INFO:classes.client:Rescaling completed.\n",
      "INFO:classes.client:Data corrected, shape: (28823, 31)\n",
      "INFO:root:[calculate_estimates] Corrected data has been computed.\n"
     ]
    }
   ],
   "source": [
    "for cohort_name in cohorts:\n",
    "    client = clients[cohort_name]\n",
    "    logging.info(\"[calculate_estimates] Getting standardized data...\")\n",
    "    client.get_standardized_data(\n",
    "        B_hat,\n",
    "        stand_mean,\n",
    "        pooled_variance,\n",
    "        ref_size\n",
    "    )\n",
    "    logging.info(\"[calculate_estimates] Standardized data has been computed.\")\n",
    "\n",
    "    # Get naive estimators\n",
    "    client.get_naive_estimates()\n",
    "\n",
    "    if client.eb_param:\n",
    "        if client.parametric:\n",
    "            logging.info(\"[calculate_estimates] Getting parametric Empirical Bayes estimates...\")\n",
    "        else:\n",
    "            logging.info(\"[calculate_estimates] Getting non-parametric Empirical Bayes estimates...\")\n",
    "        client.get_eb_estimators()\n",
    "        logging.info(\"[calculate_estimates] Empirical Bayes estimates have been computed.\")\n",
    "    else:\n",
    "        client.gamma_star = client.gamma_hat.copy()\n",
    "        client.delta_star = client.delta_hat.copy()\n",
    "        logging.info(\"[calculate_estimates] Non-Empirical Bayes estimates have been computed.\")\n",
    "\n",
    "    client.corrected_data = client.get_corrected_data(pooled_variance)\n",
    "    logging.info(\"[calculate_estimates] Corrected data has been computed.\")\n",
    "\n"
   ]
  },
  {
   "cell_type": "code",
   "execution_count": 26,
   "metadata": {},
   "outputs": [
    {
     "name": "stderr",
     "output_type": "stream",
     "text": [
      "INFO:root:[save_data] Saving data for GSE129508\n",
      "INFO:root:[save_data] Saving data for GSE58135\n",
      "INFO:root:[save_data] Saving data for GSE149276\n"
     ]
    },
    {
     "name": "stdout",
     "output_type": "stream",
     "text": [
      "(28823, 131)\n"
     ]
    }
   ],
   "source": [
    "merged_data = pd.DataFrame()\n",
    "\n",
    "for cohort_name in cohorts:\n",
    "    client = clients[cohort_name]\n",
    "    logging.info(f\"[save_data] Saving data for {cohort_name}\")\n",
    "    if merged_data.empty:\n",
    "        merged_data = client.corrected_data.copy()\n",
    "    else:\n",
    "        merged_data = pd.concat([merged_data, client.corrected_data], axis=1)\n",
    "\n",
    "print(merged_data.shape)\n",
    "merged_data.to_csv(f\"{output_path}script_fed_data.csv\", index=True, sep=\"\\t\")"
   ]
  },
  {
   "cell_type": "markdown",
   "metadata": {},
   "source": [
    "# JSON CHECK"
   ]
  },
  {
   "cell_type": "code",
   "execution_count": 27,
   "metadata": {},
   "outputs": [],
   "source": [
    "import numpy as np\n",
    "import pandas as pd\n",
    "import json\n",
    "\n",
    "def convert(obj):\n",
    "    if isinstance(obj, np.ndarray):\n",
    "        return obj.tolist()\n",
    "    elif isinstance(obj, pd.DataFrame):\n",
    "        # add index as column\n",
    "        obj.reset_index(inplace=True)\n",
    "        return obj.to_dict(orient=\"records\")\n",
    "    elif isinstance(obj, pd.Series):\n",
    "        return obj.tolist()\n",
    "    elif isinstance(obj, (np.integer, np.floating)):\n",
    "        return obj.item()\n",
    "    else:\n",
    "        raise TypeError(f\"Object of type {type(obj).__name__} is not JSON serializable\")\n"
   ]
  },
  {
   "cell_type": "code",
   "execution_count": 28,
   "metadata": {},
   "outputs": [],
   "source": [
    "for cohort_name in cohorts:\n",
    "    client = clients[cohort_name]\n",
    "\n",
    "    check_dict = {\n",
    "        \"xtx\": client.XtX[0],\n",
    "        \"xty\": pd.DataFrame(client.XtY, index=client.data.index).T,\n",
    "        \"corrected_data\": client.corrected_data,\n",
    "        \"gamma_hat\": pd.DataFrame(client.gamma_hat, columns=client.data.index),\n",
    "        \"gamma_bar\": float(client.gamma_bar[0]),\n",
    "        \"gamma_star\": pd.DataFrame(client.gamma_star, columns=client.data.index),\n",
    "        \"delta_hat\": pd.DataFrame(client.delta_hat, columns=client.data.index),\n",
    "        \"delta_star\": pd.DataFrame(client.delta_star, columns=client.data.index),\n",
    "        \"t2\": float(client.t2[0]),\n",
    "        \"a_prior\": float(client.a_prior[0]),\n",
    "        \"b_prior\": float(client.b_prior[0]),\n",
    "        \"stand_mean\": pd.DataFrame(client.stand_mean, columns=client.data.columns, index=client.data.index),\n",
    "        \"mod_mean\": client.mod_mean,\n",
    "        \"pooled_variance\": pd.DataFrame(client.pooled_var.reshape(1,-1), columns=client.data.index),\n",
    "        \"sigma\": pd.DataFrame(client.sigma.reshape(1,-1), columns=client.data.index),\n",
    "        \"B_hat\": pd.DataFrame(client.B_hat, columns=client.data.index)\n",
    "    }\n",
    "\n",
    "    with open(f\"/home/yuliya/repos/cosybio/FedComBat/evaluation/d_combat/json/{cohort_name}_Py_out.json\", \"w\", encoding=\"utf-8\") as f:\n",
    "        json.dump(check_dict, f, indent=4, ensure_ascii=False, default=convert)\n",
    "\n",
    "\n"
   ]
  },
  {
   "cell_type": "code",
   "execution_count": null,
   "metadata": {},
   "outputs": [],
   "source": []
  }
 ],
 "metadata": {
  "kernelspec": {
   "display_name": "fedcombat-DngeI4K1-py3.12",
   "language": "python",
   "name": "python3"
  },
  "language_info": {
   "codemirror_mode": {
    "name": "ipython",
    "version": 3
   },
   "file_extension": ".py",
   "mimetype": "text/x-python",
   "name": "python",
   "nbconvert_exporter": "python",
   "pygments_lexer": "ipython3",
   "version": "3.12.5"
  }
 },
 "nbformat": 4,
 "nbformat_minor": 2
}
